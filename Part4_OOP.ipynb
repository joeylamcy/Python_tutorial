{
 "cells": [
  {
   "cell_type": "markdown",
   "metadata": {},
   "source": [
    "# Object-oriented programming\n",
    "Before introducing file inputs/outputs (I/O) and plotting, I would like to introduce a very important concept behind them, and also behind the Python language. It is called Object-Oriented Programming (OOP).\n",
    "\n",
    "**Object** and **Class** are two important terms in this concept. An object is rather self-explanatory. It is a single \"thing\". Class is a \"blueprint\" of objects sharing the same **attributes** (characteristics they possess), and **methods** (actions they perform, similar to functions). An object can belong to multiple classes.\n",
    "\n",
    "Let's illustrate the concept with examples.\n",
    "Example 1:\n",
    "- Object: A dog \n",
    "- Class: Dogs, that possesses common characteristics like hair, eye, hands, legs, etc. and performs actions in the same way, e.g. run, breathe, eat, etc.\n",
    "- Class: Mammals\n",
    "\n",
    "Example 2:\n",
    "- Object: The number \"2\"\n",
    "- Class: Integers\n",
    "- Class: Real numbers\n",
    "- Class: Numbers\n",
    "\n",
    "Why do I mention this? Because Python is an object-oriented language. Everything in Python is an object! You can call `type()` to see the class."
   ]
  },
  {
   "cell_type": "markdown",
   "metadata": {},
   "source": [
    "Recall Part 1 where we introduced data types. Every number and string and boolean value is an object, belonging to their own class."
   ]
  },
  {
   "cell_type": "code",
   "execution_count": 1,
   "metadata": {},
   "outputs": [
    {
     "name": "stdout",
     "output_type": "stream",
     "text": [
      "<class 'int'>\n",
      "<class 'int'>\n",
      "<class 'float'>\n",
      "<class 'float'>\n",
      "<class 'float'>\n",
      "<class 'complex'>\n",
      "<class 'str'>\n",
      "<class 'bool'>\n",
      "<class 'bool'>\n",
      "<class 'list'>\n",
      "<class 'dict'>\n",
      "<class 'function'>\n"
     ]
    }
   ],
   "source": [
    "# Integer\n",
    "print(type(1))\n",
    "print(type(2+3))\n",
    "\n",
    "# Float \n",
    "print(type(1.0))\n",
    "print(type(5/2))\n",
    "print(type(1e2))\n",
    "\n",
    "# Complex\n",
    "print(type(1.0+1.0j))\n",
    "\n",
    "# String\n",
    "print(type('Happy New Year!'))\n",
    "\n",
    "# Boolean (True or False)\n",
    "print(type(True))\n",
    "print(type(1==2)) # More on logical operators later\n",
    "\n",
    "# List\n",
    "fruits = ['apple', 'orange', 'banana', 'grape', 'strawberry'] \n",
    "print(type(fruits))\n",
    "\n",
    "# Dictionary\n",
    "site_info = {'Name':'Hong Kong', 'lat':22.3, 'lon':114.2, 'Time zone':'UTC+8', 'Currency':'HKD'}\n",
    "print(type(site_info))\n",
    "\n",
    "# Function\n",
    "def one():\n",
    "    return 1\n",
    "\n",
    "print(type(one))"
   ]
  },
  {
   "cell_type": "markdown",
   "metadata": {},
   "source": [
    "_Note: The operators, e.g. +, -, *, /, etc. are how objects interact with each other. But I won't go into detail on this._"
   ]
  },
  {
   "cell_type": "markdown",
   "metadata": {},
   "source": [
    "## Attributes and Methods\n",
    "As mentioned above, objects in a class should share the same **attributes** (characteristics they possess), and **methods** (actions they perform, similar to functions). Let's take a look at how to see the attributes and use the methods.\n",
    "\n",
    "**Syntax**: (to see the value of an attribute)\n",
    "```\n",
    "value = class.attribute\n",
    "```\n",
    "Note:\n",
    "- By convention, people use **setter** and **getter methods** to set and get the values of attributes, i.e. object.set_*attribute*() and object.get_*attribute*(). Examples will be shown in [Part 5b: Advanced Plotting](./Part5b_Advanced_Plotting.ipynb).\n",
    "\n",
    "**Syntax**: (to call a method)\n",
    "```\n",
    "class.method(arguments) \n",
    "```\n",
    "Note that you need the brackets to call the method, just like a function."
   ]
  },
  {
   "cell_type": "markdown",
   "metadata": {},
   "source": [
    "### Example with strings"
   ]
  },
  {
   "cell_type": "code",
   "execution_count": 2,
   "metadata": {},
   "outputs": [
    {
     "name": "stdout",
     "output_type": "stream",
     "text": [
      "<class 'str'>\n"
     ]
    }
   ],
   "source": [
    "# Let's use a string as an example\n",
    "word = \"Hello\"\n",
    "# Print an attribute \"__class__\"\n",
    "print(word.__class__)"
   ]
  },
  {
   "cell_type": "markdown",
   "metadata": {},
   "source": [
    "For the commonly used classes, attributes are quite rarely used. But in libraries (modules) and plotting, you will see it more.\n",
    "\n",
    "*Note: I think it is also a common practice that developers define a method to see a \"private\" attribute, rather than having a \"public\" attribute being seen directly (so that users cannot modify them easily).*"
   ]
  },
  {
   "cell_type": "code",
   "execution_count": 3,
   "metadata": {},
   "outputs": [
    {
     "name": "stdout",
     "output_type": "stream",
     "text": [
      "HELLO\n",
      "hello\n",
      "<built-in method upper of str object at 0x10fdbe6c0>\n"
     ]
    }
   ],
   "source": [
    "# Print the returned values after calling the methods \"upper\" and \"lower\"\n",
    "print(word.upper())\n",
    "print(word.lower())\n",
    "# Here I intentionally omit the calling brackets (parentheses) to show what happens when accessing the method\n",
    "print(word.upper)"
   ]
  },
  {
   "cell_type": "markdown",
   "metadata": {},
   "source": [
    "*Note: To learn more about attributes and methods, you may want to take a look at this: [Accessing attributes in Python](http://blog.thedigitalcatonline.com/blog/2015/01/12/accessing-attributes-in-python/)*"
   ]
  },
  {
   "cell_type": "markdown",
   "metadata": {},
   "source": [
    "We have used *string*.**format**(*argmuent*) before. Take another look at this function now. It is basically a method of class *string* that processes a formatted string given the input arguments."
   ]
  },
  {
   "cell_type": "code",
   "execution_count": 4,
   "metadata": {},
   "outputs": [
    {
     "name": "stdout",
     "output_type": "stream",
     "text": [
      "2\n",
      "3\n",
      "The solutions are 2 and 3\n"
     ]
    }
   ],
   "source": [
    "sol1, sol2 = 2,3\n",
    "print(sol1)\n",
    "print(sol2)\n",
    "# Use {} with indices starting from 0 to tell the function where to insert the input arguments\n",
    "# Note that 0 refers to 1st input, 1 refers to 2nd input, so forth so on.\n",
    "conclusion = 'The solutions are {0} and {1}'.format(sol1,sol2)\n",
    "print(conclusion)"
   ]
  },
  {
   "cell_type": "markdown",
   "metadata": {},
   "source": [
    "### Example with NumPy arrays\n"
   ]
  },
  {
   "cell_type": "code",
   "execution_count": 6,
   "metadata": {},
   "outputs": [
    {
     "name": "stdout",
     "output_type": "stream",
     "text": [
      "[[ 0  1  2  3  4]\n",
      " [ 5  6  7  8  9]\n",
      " [10 11 12 13 14]]\n"
     ]
    }
   ],
   "source": [
    "# import library\n",
    "import numpy as np\n",
    "z = np.arange(15).reshape(3, 5)\n",
    "print(z)"
   ]
  },
  {
   "cell_type": "markdown",
   "metadata": {},
   "source": [
    "#### Attributes"
   ]
  },
  {
   "cell_type": "code",
   "execution_count": 10,
   "metadata": {},
   "outputs": [
    {
     "name": "stdout",
     "output_type": "stream",
     "text": [
      "2\n",
      "(3, 5)\n"
     ]
    }
   ],
   "source": [
    "# number of dimensions \n",
    "print(z.ndim) # => z is a 2D array\n",
    "# length in each dimension \n",
    "print(z.shape) "
   ]
  },
  {
   "cell_type": "markdown",
   "metadata": {},
   "source": [
    "#### Methods"
   ]
  },
  {
   "cell_type": "code",
   "execution_count": 11,
   "metadata": {},
   "outputs": [
    {
     "name": "stdout",
     "output_type": "stream",
     "text": [
      "105\n",
      "[15 18 21 24 27]\n"
     ]
    }
   ],
   "source": [
    "# sum over all elements\n",
    "print(z.sum()) \n",
    "# sum over the 1st axis (axis=0)\n",
    "print(z.sum(axis=0))"
   ]
  },
  {
   "cell_type": "code",
   "execution_count": 12,
   "metadata": {},
   "outputs": [
    {
     "name": "stdout",
     "output_type": "stream",
     "text": [
      "7.0\n",
      "[5. 6. 7. 8. 9.]\n"
     ]
    }
   ],
   "source": [
    "# mean() works similarly\n",
    "print(z.mean())\n",
    "print(z.mean(axis=0))"
   ]
  },
  {
   "cell_type": "code",
   "execution_count": 13,
   "metadata": {},
   "outputs": [
    {
     "name": "stdout",
     "output_type": "stream",
     "text": [
      "[ 0  1  2  3  4  5  6  7  8  9 10 11 12 13 14]\n"
     ]
    }
   ],
   "source": [
    "# change the way the elements are organized\n",
    "print(z.reshape(15))"
   ]
  },
  {
   "cell_type": "markdown",
   "metadata": {},
   "source": [
    "# Modules\n",
    "Modules (or Libraries) in Python is another useful class type. People use modules to write functions and statements for specific purposes, e.g. \"*NumPy*\" provides simplistic syntax and high performance array objects to deal with scientific computing, \"*datetime*\" deals with date and time easily, \"*os*\" allows user to use commands from the backend operating system within a running script, etc...\n",
    "\n",
    "Next part we will learn plotting using a module called **matplotlib**. Later we will also introduce two modules used in atmospheric science studies. They are **xarray** and **Cartopy**."
   ]
  },
  {
   "cell_type": "markdown",
   "metadata": {},
   "source": [
    "Next part: [Plotting](./Part5_Plotting.ipynb)"
   ]
  }
 ],
 "metadata": {
  "kernelspec": {
   "display_name": "Python 3",
   "language": "python",
   "name": "python3"
  },
  "language_info": {
   "codemirror_mode": {
    "name": "ipython",
    "version": 3
   },
   "file_extension": ".py",
   "mimetype": "text/x-python",
   "name": "python",
   "nbconvert_exporter": "python",
   "pygments_lexer": "ipython3",
   "version": "3.7.2"
  }
 },
 "nbformat": 4,
 "nbformat_minor": 2
}
