{
 "cells": [
  {
   "cell_type": "markdown",
   "metadata": {},
   "source": [
    "# Sample script "
   ]
  },
  {
   "cell_type": "markdown",
   "metadata": {},
   "source": [
    "![script_breakdown](./images/script_breakdown.png)"
   ]
  },
  {
   "cell_type": "markdown",
   "metadata": {},
   "source": [
    "# Comments\n",
    "Important to code readability! If you are collaborating with others, good comments should guide other people through your code. If you are doing a long project, you also need comments for yourselves to read when you revisit after a long time. \n",
    "Therefore, you are **required** to write comments to build up this habit."
   ]
  },
  {
   "cell_type": "markdown",
   "metadata": {},
   "source": [
    "# Basic statements\n",
    "- Assignment statements: `variable = value`\n",
    "    - `=` is assignment operator, *value* on the RHS of `=` is **assigned** to the *variable* on LHS.\n",
    "    - The *value* does not have to be an exact number, it can be obtained through an operation. (More about the types of *value* later)\n",
    "    - Let you figure out the rules on variable naming.\n",
    "- Print statements: `print('*what you want to print*')`\n",
    "    - `print` is the function name. A function should be followed with a pair of brackets\n",
    "    - Inside the brackets, you can put anything (normally a \"*string*\" or a *variable*)\n",
    "- (Command line only) \"peek\" statements: `variable`\n",
    "    - Type the *variable* in command line mode to see its assigned value quickly."
   ]
  },
  {
   "cell_type": "markdown",
   "metadata": {},
   "source": [
    "# Data types of *value*"
   ]
  },
  {
   "cell_type": "code",
   "execution_count": 15,
   "metadata": {},
   "outputs": [
    {
     "name": "stdout",
     "output_type": "stream",
     "text": [
      "<class 'int'>\n",
      "<class 'float'>\n",
      "<class 'complex'>\n",
      "<class 'str'>\n",
      "<class 'bool'>\n"
     ]
    }
   ],
   "source": [
    "# Integers\n",
    "print(type(1))\n",
    "\n",
    "# Float \n",
    "print(type(1.0))\n",
    "\n",
    "# Complex\n",
    "print(type(1.0+1.0j))\n",
    "\n",
    "# Strings (characters)\n",
    "print(type('Happy New Year!'))\n",
    "\n",
    "# Boolean (True or False)\n",
    "print(type(True))\n",
    "\n",
    "# And many others not covered in this lab..."
   ]
  },
  {
   "cell_type": "markdown",
   "metadata": {},
   "source": [
    "# Arithmetics"
   ]
  },
  {
   "cell_type": "code",
   "execution_count": 16,
   "metadata": {},
   "outputs": [
    {
     "name": "stdout",
     "output_type": "stream",
     "text": [
      "5.4\n",
      "-4.1\n",
      "12\n",
      "2.5\n",
      "2\n",
      "1\n",
      "8\n"
     ]
    }
   ],
   "source": [
    "# Addition \n",
    "print(2+3.4) # => 5.4\n",
    "\n",
    "# Subtraction\n",
    "print(1.6-5.7) # => -4.1\n",
    "\n",
    "# Multiplication \n",
    "print(3*4) # => 12\n",
    "\n",
    "# Division\n",
    "print(5/2) # => 2.5\n",
    "# Note that unlike Python 2.X, Python 3.X always gives a floating point number, i.e. same as 5.0/2.0\n",
    "\n",
    "# Floor division\n",
    "print(5//2) # => 2\n",
    "# i.e. no fractional part\n",
    "\n",
    "# Modulus \n",
    "print(5%2) # => 1\n",
    "# i.e. remainder after floor division\n",
    "\n",
    "# Power \n",
    "print(2**3) # => 8"
   ]
  },
  {
   "cell_type": "markdown",
   "metadata": {},
   "source": [
    "# Organization types of *value*\n",
    "It is impractical to always use single values, especially when you have a large amount of data to process. Therefore you need to learn how to **group/organize** the values. \n",
    "- List: `[value1, value2, value3]`\n",
    "    - List is defined by square brackets `[]`.\n",
    "    - Elements in a list are ordered. They are indexed by consecutive numbers.\n",
    "    - You can put values in a list. They should be delimited (separated) by `,`.\n",
    "    - Spaces are generally not important, some people use them to align different lines for better appearance.\n",
    "    - *Note: strings are actually list of characters.*\n",
    "- NumPy arrays: `numpy.array([value1, value2, value3])`\n",
    "    - NumPy arrays are like lists, but better supports multiple dimension structure, and faster numerical calculations.\n",
    "    - You have to load the NumPy library in order to use it. (e.g. `import numpy`) \n",
    "    - Don't worry, there are easier ways to initialize them.\n",
    "- Dictionary: `{key1: value1, key2: value2, key3: value3}`\n",
    "    - Dictionary is defined by curly brackets `{}`.\n",
    "    - Elements in a dictionary are unordered. They are indexed by keys. \n",
    "    - You can put pairs of key and value in a list.\n",
    "    - The pair should be formatted as `key:value`. Each pair is delimited (separated) by `,`.\n",
    "    - Each key should be unique to others.\n",
    "There are more, such as tuple and iterable, but not very important for beginners.\n",
    "\n",
    "Note: actually they are still called data types in Python language. I just think that conceptually they are different. "
   ]
  },
  {
   "cell_type": "markdown",
   "metadata": {},
   "source": [
    "## How to access the values in a list (and NumPy array)?\n",
    "You can use index to refer to an element/value inside a list or dictionary. You can also refer to multiple consecutive elements/values through index slicing.\n",
    "\n",
    "Index slicing rules: `start:end:stride`\n",
    "1. Index start at the beginning from 0, or at the end from -1 (counting backwards). (see below) \n",
    "1. The `start` index is inclusive, while the `end` index is exclusive.\n",
    "1. `stride` means the difference of the current and next indices. It can be negative (reverse the order).\n",
    "1. Actually you can think of `end` and `stride` as optional arguments:\n",
    "    - when you only provide `start`, only the element at index `start` is returned.\n",
    "    - when you provide `start:end`, elements at indices `start`, `start+1`, ..., `end-2`, `end-1` are returned.\n",
    "    - when you provide `start:end:stride`, elements from indices `start`, `start+stride` onwards and before the `end` are returned"
   ]
  },
  {
   "cell_type": "code",
   "execution_count": 74,
   "metadata": {},
   "outputs": [
    {
     "name": "stdout",
     "output_type": "stream",
     "text": [
      "['apple', 'orange', 'banana', 'grape', 'strawberry']\n"
     ]
    }
   ],
   "source": [
    "# First assign a list to a variable and print it to screen\n",
    "fruits = ['apple', 'orange', 'banana', 'grape', 'strawberry'] \n",
    "# index:     0         1         2         3          4\n",
    "# index:    -5        -4        -3        -2         -1\n",
    "print(fruits)"
   ]
  },
  {
   "cell_type": "code",
   "execution_count": 75,
   "metadata": {},
   "outputs": [
    {
     "name": "stdout",
     "output_type": "stream",
     "text": [
      "apple\n",
      "apple\n"
     ]
    }
   ],
   "source": [
    "# To access 'apple', we can use index 0 or -4\n",
    "print(fruits[0])    \n",
    "print(fruits[-5])    "
   ]
  },
  {
   "cell_type": "code",
   "execution_count": 76,
   "metadata": {},
   "outputs": [
    {
     "name": "stdout",
     "output_type": "stream",
     "text": [
      "['apple', 'orange', 'banana']\n",
      "['apple', 'orange', 'banana']\n",
      "['apple', 'orange', 'banana']\n"
     ]
    }
   ],
   "source": [
    "# To access 'apple', 'orange' and 'banana', you can use index slicing.\n",
    "print(fruits[0:3])   \n",
    "print(fruits[:3])   # If the index start from 0, you can omit it\n",
    "print(fruits[0:-2]) # You can mix the two counting methods"
   ]
  },
  {
   "cell_type": "code",
   "execution_count": 77,
   "metadata": {},
   "outputs": [
    {
     "name": "stdout",
     "output_type": "stream",
     "text": [
      "['orange', 'banana', 'grape', 'strawberry']\n",
      "['orange', 'banana', 'grape', 'strawberry']\n"
     ]
    }
   ],
   "source": [
    "# To access all elements from 'orange' onwards, you can use a large index at the end, or simply omit it\n",
    "print(fruits[1:])\n",
    "print(fruits[1:9999])"
   ]
  },
  {
   "cell_type": "code",
   "execution_count": 78,
   "metadata": {},
   "outputs": [
    {
     "name": "stdout",
     "output_type": "stream",
     "text": [
      "['apple', 'banana', 'strawberry']\n",
      "['apple', 'banana']\n",
      "['apple', 'grape']\n"
     ]
    }
   ],
   "source": [
    "# To skip indices, you can use stride\n",
    "print(fruits[::2])  # indices 0,2,4,6,8,etc. but indices from 6 onwards do not exist\n",
    "print(fruits[:4:2]) # indices 0,2 (4 is exclusive)\n",
    "print(fruits[::3])  # indices 0,3,6,9,etc. but indices from 6 onwards do not exist"
   ]
  },
  {
   "cell_type": "code",
   "execution_count": 79,
   "metadata": {},
   "outputs": [
    {
     "name": "stdout",
     "output_type": "stream",
     "text": [
      "['strawberry', 'grape', 'banana', 'orange', 'apple']\n",
      "['strawberry', 'grape', 'banana']\n"
     ]
    }
   ],
   "source": [
    "# To reverse the order, you can use a negative stride in index slicing\n",
    "print(fruits[::-1])\n",
    "print(fruits[:1:-1])"
   ]
  },
  {
   "cell_type": "markdown",
   "metadata": {},
   "source": [
    "## How to add/modify elements in a list (and NumPy array)?"
   ]
  },
  {
   "cell_type": "code",
   "execution_count": 80,
   "metadata": {},
   "outputs": [
    {
     "name": "stdout",
     "output_type": "stream",
     "text": [
      "['mango', 'orange', 'banana', 'grape', 'strawberry']\n"
     ]
    }
   ],
   "source": [
    "# To replace the 1st element by 'mango'\n",
    "fruits[0] = 'mango'\n",
    "print(fruits)"
   ]
  },
  {
   "cell_type": "code",
   "execution_count": 83,
   "metadata": {},
   "outputs": [
    {
     "name": "stdout",
     "output_type": "stream",
     "text": [
      "['mango', 'orange', 'banana', 'grape', 'strawberry', 'apple', 'apple']\n",
      "['mango', 'orange', 'banana', 'grape', 'strawberry', 'apple', 'apple']\n"
     ]
    }
   ],
   "source": [
    "# To add 'apple' to the end of list\n",
    "print(fruits + ['apple']) # Note that I didn't change the list \"fruits\" here.\n",
    "# Alternative:\n",
    "fruits.append('apple') # Note that the list \"fruits\" is changed here.\n",
    "print(fruits)\n",
    "# It might not be a good idea to use append() in any command-line interfaces (CLIs)\n",
    "# because repeating the operation gives different results."
   ]
  },
  {
   "cell_type": "code",
   "execution_count": 84,
   "metadata": {},
   "outputs": [
    {
     "name": "stdout",
     "output_type": "stream",
     "text": [
      "['mango', 'orange', 'pineapple', 'banana', 'grape', 'strawberry', 'apple', 'apple']\n"
     ]
    }
   ],
   "source": [
    "# To insert 'pineapple' in between the 2nd and 3rd elements (of the appended list)\n",
    "print(fruits[0:2] + ['pineapple'] + fruits[2:])"
   ]
  },
  {
   "cell_type": "markdown",
   "metadata": {},
   "source": [
    "## How to access values in a dictionary?\n",
    "Remember that dictionary contains key-value pairs? Since they are indexed by keys, you can use key to access them."
   ]
  },
  {
   "cell_type": "code",
   "execution_count": 85,
   "metadata": {},
   "outputs": [
    {
     "data": {
      "text/plain": [
       "{'Name': 'Hong Kong',\n",
       " 'lat': 22.3,\n",
       " 'lon': 114.2,\n",
       " 'Time zone': 'UTC+8',\n",
       " 'Currency': 'HKD'}"
      ]
     },
     "execution_count": 85,
     "metadata": {},
     "output_type": "execute_result"
    }
   ],
   "source": [
    "# First assign a dictionary to a variable and print it to screen\n",
    "site_info = {'Name':'Hong Kong', 'lat':22.3, 'lon':114.2, 'Time zone':'UTC+8', 'Currency':'HKD'}\n",
    "site_info"
   ]
  },
  {
   "cell_type": "code",
   "execution_count": 86,
   "metadata": {},
   "outputs": [
    {
     "name": "stdout",
     "output_type": "stream",
     "text": [
      "Hong Kong\n",
      "Hong Kong\n"
     ]
    }
   ],
   "source": [
    "# There are different syntax to access the values.\n",
    "print(site_info['Name'])\n",
    "print(site_info.get('Name'))"
   ]
  },
  {
   "cell_type": "code",
   "execution_count": 87,
   "metadata": {},
   "outputs": [
    {
     "name": "stdout",
     "output_type": "stream",
     "text": [
      "dict_keys(['Name', 'lat', 'lon', 'Time zone', 'Currency'])\n",
      "dict_values(['Hong Kong', 22.3, 114.2, 'UTC+8', 'HKD'])\n"
     ]
    }
   ],
   "source": [
    "# You can print out all keys and values\n",
    "print(site_info.keys())\n",
    "print(site_info.values())"
   ]
  },
  {
   "cell_type": "markdown",
   "metadata": {},
   "source": [
    "## How to add/modify elements in a dictionary?"
   ]
  },
  {
   "cell_type": "code",
   "execution_count": null,
   "metadata": {},
   "outputs": [],
   "source": []
  }
 ],
 "metadata": {
  "kernelspec": {
   "display_name": "Python 3",
   "language": "python",
   "name": "python3"
  },
  "language_info": {
   "codemirror_mode": {
    "name": "ipython",
    "version": 3
   },
   "file_extension": ".py",
   "mimetype": "text/x-python",
   "name": "python",
   "nbconvert_exporter": "python",
   "pygments_lexer": "ipython3",
   "version": "3.6.5"
  }
 },
 "nbformat": 4,
 "nbformat_minor": 2
}
