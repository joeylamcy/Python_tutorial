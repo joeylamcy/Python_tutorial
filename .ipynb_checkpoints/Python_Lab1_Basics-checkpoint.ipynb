{
 "cells": [
  {
   "cell_type": "markdown",
   "metadata": {},
   "source": [
    "# Arithmetics"
   ]
  },
  {
   "cell_type": "markdown",
   "metadata": {},
   "source": [
    "Simple math operators:\n",
    "- Addition `+`: e.g. `2+3.4`\n",
    "- Subtraction `-`: e.g. `1.6-5.7`\n",
    "- Multiplication `*`: e.g. `3*4`\n",
    "- Division `/`: e.g. `5/2` (Note that unlike Python 2.X, Python 3.X always gives a floating point number, i.e. same as `5.0/2.0`)\n",
    "- Floor division `//`: e.g. `5//2` (i.e. no fractional part)\n",
    "- Modulus `%`: e.g. `5%2` (i.e. remainder after floor division)\n",
    "- Power `**`: e.g. `2**3`"
   ]
  },
  {
   "cell_type": "code",
   "execution_count": null,
   "metadata": {},
   "outputs": [],
   "source": []
  }
 ],
 "metadata": {
  "kernelspec": {
   "display_name": "Python 3",
   "language": "python",
   "name": "python3"
  },
  "language_info": {
   "codemirror_mode": {
    "name": "ipython",
    "version": 3
   },
   "file_extension": ".py",
   "mimetype": "text/x-python",
   "name": "python",
   "nbconvert_exporter": "python",
   "pygments_lexer": "ipython3",
   "version": "3.6.5"
  }
 },
 "nbformat": 4,
 "nbformat_minor": 2
}
