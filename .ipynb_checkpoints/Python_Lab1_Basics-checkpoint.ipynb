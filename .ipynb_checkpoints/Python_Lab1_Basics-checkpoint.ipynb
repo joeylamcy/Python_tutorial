{
 "cells": [
  {
   "cell_type": "markdown",
   "metadata": {},
   "source": [
    "# Python Basics"
   ]
  },
  {
   "cell_type": "markdown",
   "metadata": {},
   "source": [
    "Objective: You want to tell the computer to do something. It can be as simple as adding two numbers, but also as complicated as plotting, making a video, doing an operation a million times, etc.\n",
    "\n",
    "With a programming *language* like Python, you can *communicate* with the computer relatively easily (compared to using only 1 and 0).\n",
    "\n",
    "Why should you use a programming language, not a software? \n",
    "1. General Purpose: A programming language is more flexible while a software is designed to accomplish a specific task with ease. Ease of use and flexibility is always a tradeoff.\n",
    "1. Repeatibility: If we have to repeat a task many times (maybe with minor variations), then programming can be faster.\n",
    "\n",
    "Why Python?\n",
    "- High-level programming language: No compilation needed, well-developed Integrated Development Environments (IDEs) to make coding and testing easier.\n",
    "- Open source and free: There's no license, and most libraries and IDEs are free and open to public.\n",
    "  - Popular: Also means you would find the answers to most problems/questions online :)\n",
    "  - Many libraries: Libraries help you accomplish tasks easier. \n",
    "- General Purpose: It can accomplish different kinds of task, and thus is used by people from different industries, e.g. backend web development, data analysis, artificial intelligence, scientific computing, etc.\n",
    "- Beginner friendly: Syntax are easy to learn, and can be read like English."
   ]
  },
  {
   "cell_type": "markdown",
   "metadata": {},
   "source": [
    "### Operation modes\n",
    "If you just want to do some quick testing or very simple operations, you may just use **command-line mode**. On the other hand, **script mode** is for writing, saving and editing longer scripts that you have typed. However, as a good IDE, it is essential to have both so that users can easily test easily as they write.\n",
    "\n",
    "#### Command-line mode\n",
    "By typing `python` in terminal (for Mac)/Anaconda prompt (for Windows), you will enter the default python command-line interface (CLI):\n",
    "![Python-CLI](./images/cli_python.png)\n",
    "Alternatively, type `ipython` in terminal (for Mac)/Anaconda prompt (for Windows), you will enter an interactive python CLI: (which enables auto-complete, colored syntax, etc. capabilities)\n",
    "![IPython-CLI](./images/cli_ipython.png)\n",
    "\n",
    "#### Script mode\n",
    "In the following example, I wrote a short script on the left, and run it using the `ipython` CLI.\n",
    "![IPython-script](./images/sample_script.png)\n",
    "\n",
    "#### Mixed mode\n",
    "As mentioned, good IDEs should have both modes. One example is *Spyder*. You can type `spyder` in terminal (for Mac)/Anaconda prompt (for Windows) to open it. \n",
    "![Spyder-script](./images/Spyder_sample.png)\n",
    "\n",
    "Another example is *Jupyter*. You can type `jupyter notebook` in terminal (for Mac)/Anaconda prompt (for Windows) to open it.\n",
    "![Open-jupyter](./images/open_Jupyter.png)\n",
    "\n",
    "![Jupyter-script](./images/Jupyter_sample.png)"
   ]
  },
  {
   "cell_type": "markdown",
   "metadata": {},
   "source": [
    "### Arithmetics"
   ]
  },
  {
   "cell_type": "markdown",
   "metadata": {},
   "source": [
    "Simple math operators:\n",
    "- Addition `+`: e.g. `2+3.4`\n",
    "- Subtraction `-`: e.g. `1.6-5.7`\n",
    "- Multiplication `*`: e.g. `3*4`\n",
    "- Division `/`: e.g. `5/2` (Note that unlike Python 2.X, Python 3.X always gives a floating point number, i.e. same as `5.0/2.0`)\n",
    "- Floor division `//`: e.g. `5//2` (i.e. no fractional part)\n",
    "- Modulus `%`: e.g. `5%2` (i.e. remainder after floor division)\n",
    "- Power `**`: e.g. `2**3`"
   ]
  }
 ],
 "metadata": {
  "kernelspec": {
   "display_name": "Python 3",
   "language": "python",
   "name": "python3"
  },
  "language_info": {
   "codemirror_mode": {
    "name": "ipython",
    "version": 3
   },
   "file_extension": ".py",
   "mimetype": "text/x-python",
   "name": "python",
   "nbconvert_exporter": "python",
   "pygments_lexer": "ipython3",
   "version": "3.6.5"
  }
 },
 "nbformat": 4,
 "nbformat_minor": 2
}
