{
 "cells": [
  {
   "cell_type": "markdown",
   "metadata": {},
   "source": [
    "# Python Script"
   ]
  },
  {
   "cell_type": "markdown",
   "metadata": {},
   "source": [
    "Previously I have mentioned that Jupyter (which we have been using for a while) is more like a command-line interface (CLI). It is not exactly a script, at least not yet. A script has several characteristics:\n",
    "1. It should be in .py format, and compilable by Python interpretators. That means if you open terminal (for Mac)/Anaconda prompt (for Windows) and type `python filename.py`, it can return the results that you want. \n",
    "1. It can be saved and reused later. (Which we have done with Jupyter)\n"
   ]
  },
  {
   "cell_type": "markdown",
   "metadata": {},
   "source": [
    "### My approach to writing a script\n",
    "1. Identify what is the objective of the script and write it down as comment.\n",
    "1. Think about the procedures and write them all as comments.\n",
    "1. Below each comment, add the relevant codes. Use *ipython* console to quickly test when I'm not sure about the syntax.\n",
    "1. Tidy up the script by adding extra comments and modifying the original ones."
   ]
  },
  {
   "cell_type": "markdown",
   "metadata": {},
   "source": [
    "### (Optional) Converting a Jupyter notebook to Python script\n",
    "For those who like using Jupyter more, let's learn a shortcut to convert a Jupyter notebook (.ipynb format) into a script (.py format). "
   ]
  },
  {
   "cell_type": "code",
   "execution_count": 1,
   "metadata": {},
   "outputs": [
    {
     "name": "stdout",
     "output_type": "stream",
     "text": [
      "Part0_Introduction.md                 \u001b[1m\u001b[34mimages\u001b[m\u001b[m\r\n",
      "Part1_Basic_Syntax.ipynb              \u001b[1m\u001b[34mmisc\u001b[m\u001b[m\r\n",
      "Part2_Writing_Script.ipynb            pre_lab_installation_guide_Windows.md\r\n",
      "Part3_Flow_Control.ipynb              pre_lab_installation_guide_mac.md\r\n",
      "README.md\r\n"
     ]
    }
   ],
   "source": [
    "# Anything shell commands can be run here with a \"!\" prefix\n",
    "!rm Part1_Basic_Syntax.py\n",
    "!ls"
   ]
  },
  {
   "cell_type": "code",
   "execution_count": 2,
   "metadata": {},
   "outputs": [
    {
     "name": "stdout",
     "output_type": "stream",
     "text": [
      "[NbConvertApp] Converting notebook Part1_Basic_Syntax.ipynb to script\n",
      "[NbConvertApp] Writing 9815 bytes to Part1_Basic_Syntax.py\n"
     ]
    }
   ],
   "source": [
    "# Remember to save before you convert\n",
    "!jupyter nbconvert --to script Part1_Basic_Syntax.ipynb"
   ]
  },
  {
   "cell_type": "code",
   "execution_count": 3,
   "metadata": {},
   "outputs": [
    {
     "name": "stdout",
     "output_type": "stream",
     "text": [
      "Part0_Introduction.md                 README.md\r\n",
      "Part1_Basic_Syntax.ipynb              \u001b[1m\u001b[34mimages\u001b[m\u001b[m\r\n",
      "Part1_Basic_Syntax.py                 \u001b[1m\u001b[34mmisc\u001b[m\u001b[m\r\n",
      "Part2_Writing_Script.ipynb            pre_lab_installation_guide_Windows.md\r\n",
      "Part3_Flow_Control.ipynb              pre_lab_installation_guide_mac.md\r\n"
     ]
    }
   ],
   "source": [
    "!ls"
   ]
  },
  {
   "cell_type": "markdown",
   "metadata": {},
   "source": [
    "An alternative to this is to do it in terminal (for Mac)/Anaconda prompt (for Windows)\n",
    "``` \n",
    "jupyter nbconvert --to script Part1_Basic_Syntax.ipynb\n",
    "```"
   ]
  },
  {
   "cell_type": "markdown",
   "metadata": {},
   "source": [
    "**However it should be noted that the converted script is not a good script. You should further edit the script, and also run the script afterwards to make sure that it works.**\n",
    "\n",
    "You should not print everything in the final script. Also the comments can be cleaner."
   ]
  },
  {
   "cell_type": "markdown",
   "metadata": {},
   "source": [
    "Next part: [Flow control statements](./Part3_Flow_Control.ipynb)"
   ]
  }
 ],
 "metadata": {
  "kernelspec": {
   "display_name": "Python 3",
   "language": "python",
   "name": "python3"
  },
  "language_info": {
   "codemirror_mode": {
    "name": "ipython",
    "version": 3
   },
   "file_extension": ".py",
   "mimetype": "text/x-python",
   "name": "python",
   "nbconvert_exporter": "python",
   "pygments_lexer": "ipython3",
   "version": "3.6.5"
  }
 },
 "nbformat": 4,
 "nbformat_minor": 2
}
