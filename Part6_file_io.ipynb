{
 "cells": [
  {
   "cell_type": "markdown",
   "metadata": {},
   "source": [
    "# File inputs and outputs\n",
    "Suppose you want to read or write a text/binary file in your script, you will need the following functions to help you:\n",
    "- open(*filename* \\[, *access_mode*\\]): Opens a file with the given *filename* under an access mode, e.g. \"r\" means read-only access, \"w\" means write-only access, and return the file object.\n",
    "\n",
    "Syntax: \n",
    "```Python\n",
    "fileObject = open(filename) # By default the access is read-only\n",
    "```\n",
    "- *fileObject*.read(*number*): Read the *number* of characters in the file (referenced by the file object).\n",
    "- *fileObject*.readline( ): Read one line from the file and move to the next line.\n",
    "- *fileObject*.write(*string*): Write the *string* to file.\n",
    "- *fileObject*.close( ): Close the file.\n",
    "\n",
    "These functions should have similar functionality in different languages, so you probably have learnt them before, and we will skip the details here."
   ]
  },
  {
   "cell_type": "markdown",
   "metadata": {},
   "source": [
    "# Working with NetCDF files"
   ]
  },
  {
   "cell_type": "markdown",
   "metadata": {},
   "source": [
    "**In atmospheric science, we have a special data file format called NetCDF (.nc).** This specially designed data file format allows gridded atmospheric data to be saved easily with attributes and coordinates attached to each of the variables. However, we cannot read them using the standard way described above. The good news is someone has already written relevant modules to allow users to read/write .nc files relatively easily."
   ]
  },
  {
   "cell_type": "markdown",
   "metadata": {},
   "source": [
    "Before we can deal with those files, we need some extra packages (modules). New packages can be easily installed when creating a new conda environment. I have provided the [environment.txt](./environment.txt) file, which specifies a list of packages to be used. Follow the installation guide for [Mac](./pre_lab_installation_guide_mac.md#Install-conda-environment-for-extra-packages)/[Windows](./pre_lab_installation_guide_Windows.md#Install-conda-environment-for-extra-packages) to install them."
   ]
  },
  {
   "cell_type": "code",
   "execution_count": 1,
   "metadata": {
    "scrolled": false
   },
   "outputs": [],
   "source": [
    "# import library to read .nc files\n",
    "import xarray as xr\n",
    "# You can check that this can only be done inside the environment, but not outside."
   ]
  },
  {
   "cell_type": "code",
   "execution_count": 2,
   "metadata": {
    "scrolled": false
   },
   "outputs": [
    {
     "name": "stdout",
     "output_type": "stream",
     "text": [
      "<class 'xarray.core.dataset.Dataset'>\n",
      "<xarray.Dataset>\n",
      "Dimensions:  (lat: 73, level: 4, lon: 144, time: 28)\n",
      "Coordinates:\n",
      "  * time     (time) datetime64[ns] 2017-06-09 ... 2017-06-15T18:00:00\n",
      "  * level    (level) float32 1000.0 850.0 500.0 200.0\n",
      "  * lat      (lat) float32 90.0 87.5 85.0 82.5 80.0 ... -82.5 -85.0 -87.5 -90.0\n",
      "  * lon      (lon) float32 0.0 2.5 5.0 7.5 10.0 ... 350.0 352.5 355.0 357.5\n",
      "Data variables:\n",
      "    temp     (time, level, lat, lon) float32 ...\n",
      "    hgt      (time, level, lat, lon) float32 ...\n",
      "    uwnd     (time, level, lat, lon) float32 ...\n",
      "    vwnd     (time, level, lat, lon) float32 ...\n",
      "    tempsfc  (time, lat, lon) float32 ...\n",
      "    slp      (time, lat, lon) float32 ...\n",
      "    uwndsfc  (time, lat, lon) float32 ...\n",
      "    vwndsfc  (time, lat, lon) float32 ...\n"
     ]
    }
   ],
   "source": [
    "# Open the dataset using the library\n",
    "ds = xr.open_dataset('./misc/sample_data.nc')\n",
    "print(type(ds)) # Note that this is a class called Dataset\n",
    "print(ds)"
   ]
  },
  {
   "cell_type": "markdown",
   "metadata": {},
   "source": [
    "Here we have just opened our data file, and `ds` is an xarray Dataset object. It contains all information of a NetCDF file. To use it, just think of `ds` as a dictionary, and apply the dictionary syntax (recall part 1):\n",
    "```\n",
    "value = dictionary['key']\n",
    "```\n",
    "where the *key* is the name of variable here."
   ]
  },
  {
   "cell_type": "markdown",
   "metadata": {},
   "source": [
    "## Extracting a variable\n",
    "Let's get the temperature variable `temp` from the dataset. "
   ]
  },
  {
   "cell_type": "code",
   "execution_count": 3,
   "metadata": {
    "scrolled": false
   },
   "outputs": [
    {
     "name": "stdout",
     "output_type": "stream",
     "text": [
      "<class 'xarray.core.dataarray.DataArray'>\n",
      "<xarray.DataArray 'temp' (time: 28, level: 4, lat: 73, lon: 144)>\n",
      "[1177344 values with dtype=float32]\n",
      "Coordinates:\n",
      "  * time     (time) datetime64[ns] 2017-06-09 ... 2017-06-15T18:00:00\n",
      "  * level    (level) float32 1000.0 850.0 500.0 200.0\n",
      "  * lat      (lat) float32 90.0 87.5 85.0 82.5 80.0 ... -82.5 -85.0 -87.5 -90.0\n",
      "  * lon      (lon) float32 0.0 2.5 5.0 7.5 10.0 ... 350.0 352.5 355.0 357.5\n",
      "Attributes:\n",
      "    long_name:     4xDaily Air temperature\n",
      "    units:         degK\n",
      "    precision:     2\n",
      "    GRIB_id:       11\n",
      "    GRIB_name:     TMP\n",
      "    var_desc:      Air temperature\n",
      "    level_desc:    Multiple levels\n",
      "    statistic:     Individual Obs\n",
      "    parent_stat:   Other\n",
      "    valid_range:   [150. 350.]\n",
      "    dataset:       NCEP Reanalysis\n",
      "    actual_range:  [195.69998 324.6    ]\n"
     ]
    }
   ],
   "source": [
    "dr = ds['temp']\n",
    "print(type(dr)) # Note that this is a class called DataArray\n",
    "print(dr)"
   ]
  },
  {
   "cell_type": "markdown",
   "metadata": {},
   "source": [
    "`dr` is an xarray DataArray object, which behaves like a NumPy array. Therefore you can use NumPy syntax to operate on this array. However, it is functionally more than just NumPy array. You can see that there are **attributes** (sometimes called metadata) and **coordinates** attached to it. "
   ]
  },
  {
   "cell_type": "markdown",
   "metadata": {},
   "source": [
    "## Attributes\n",
    "Suppose you want to access the attributes."
   ]
  },
  {
   "cell_type": "code",
   "execution_count": 4,
   "metadata": {
    "scrolled": false
   },
   "outputs": [
    {
     "name": "stdout",
     "output_type": "stream",
     "text": [
      "OrderedDict([('long_name', '4xDaily Air temperature'), ('units', 'degK'), ('precision', 2), ('GRIB_id', 11), ('GRIB_name', 'TMP'), ('var_desc', 'Air temperature'), ('level_desc', 'Multiple levels'), ('statistic', 'Individual Obs'), ('parent_stat', 'Other'), ('valid_range', array([150., 350.], dtype=float32)), ('dataset', 'NCEP Reanalysis'), ('actual_range', array([195.69998, 324.6    ], dtype=float32))])\n"
     ]
    }
   ],
   "source": [
    "print(dr.attrs) \n",
    "# Note that these are attributes, not methods, so you don't need a pair of brackets after .attrs"
   ]
  },
  {
   "cell_type": "markdown",
   "metadata": {},
   "source": [
    "This is again a dictionary. Again you can use the dictionary syntax for accessing and modifying the attributes."
   ]
  },
  {
   "cell_type": "code",
   "execution_count": 5,
   "metadata": {
    "scrolled": false
   },
   "outputs": [
    {
     "name": "stdout",
     "output_type": "stream",
     "text": [
      "4xDaily Air temperature\n"
     ]
    }
   ],
   "source": [
    "# Example for accessing attributes\n",
    "print(dr.attrs['long_name'])"
   ]
  },
  {
   "cell_type": "code",
   "execution_count": 6,
   "metadata": {
    "scrolled": false
   },
   "outputs": [
    {
     "name": "stdout",
     "output_type": "stream",
     "text": [
      "OrderedDict([('long_name', '4xDaily Air temperature'), ('units', 'degK'), ('precision', 2), ('GRIB_id', 11), ('GRIB_name', 'TMP'), ('var_desc', 'Air temperature'), ('level_desc', 'Multiple levels'), ('statistic', 'Individual Obs'), ('parent_stat', 'Other'), ('valid_range', array([150., 350.], dtype=float32)), ('dataset', 'NCEP Reanalysis'), ('actual_range', array([195.69998, 324.6    ], dtype=float32)), ('new_attribute', 'This attribute has no meaning.')])\n"
     ]
    }
   ],
   "source": [
    "# Example for adding new attribute\n",
    "dr.attrs['new_attribute'] = 'This attribute has no meaning.'\n",
    "print(dr.attrs)"
   ]
  },
  {
   "cell_type": "markdown",
   "metadata": {},
   "source": [
    "Suppose you want to change the unit from K to $^\\circ$C. Then you will need to subtract the whole array by 273.15 and also change the *units* in attribute."
   ]
  },
  {
   "cell_type": "code",
   "execution_count": 7,
   "metadata": {
    "scrolled": true
   },
   "outputs": [
    {
     "name": "stdout",
     "output_type": "stream",
     "text": [
      "<xarray.DataArray 'temp' (time: 28, level: 4, lat: 73, lon: 144)>\n",
      "array([[[[ -0.850006, ...,  -0.850006],\n",
      "         ...,\n",
      "         [-48.650024, ..., -48.650024]],\n",
      "\n",
      "        ...,\n",
      "\n",
      "        [[-48.250015, ..., -48.250015],\n",
      "         ...,\n",
      "         [-70.650024, ..., -70.650024]]],\n",
      "\n",
      "\n",
      "       ...,\n",
      "\n",
      "\n",
      "       [[[  3.549988, ...,   3.549988],\n",
      "         ...,\n",
      "         [-37.55002 , ..., -37.55002 ]],\n",
      "\n",
      "        ...,\n",
      "\n",
      "        [[-49.55002 , ..., -49.55002 ],\n",
      "         ...,\n",
      "         [-71.45001 , ..., -71.45001 ]]]], dtype=float32)\n",
      "Coordinates:\n",
      "  * time     (time) datetime64[ns] 2017-06-09 ... 2017-06-15T18:00:00\n",
      "  * level    (level) float32 1000.0 850.0 500.0 200.0\n",
      "  * lat      (lat) float32 90.0 87.5 85.0 82.5 80.0 ... -82.5 -85.0 -87.5 -90.0\n",
      "  * lon      (lon) float32 0.0 2.5 5.0 7.5 10.0 ... 350.0 352.5 355.0 357.5\n"
     ]
    }
   ],
   "source": [
    "# Example for modifying attrbutes\n",
    "dr_degC = dr - 273.15\n",
    "print(dr_degC)"
   ]
  },
  {
   "cell_type": "markdown",
   "metadata": {},
   "source": [
    "For whatever reason, the attributes won't be copied automatically to the new array. Let's do it manually"
   ]
  },
  {
   "cell_type": "code",
   "execution_count": 8,
   "metadata": {
    "scrolled": true
   },
   "outputs": [
    {
     "name": "stdout",
     "output_type": "stream",
     "text": [
      "<xarray.DataArray 'temp' (time: 28, level: 4, lat: 73, lon: 144)>\n",
      "array([[[[ -0.850006, ...,  -0.850006],\n",
      "         ...,\n",
      "         [-48.650024, ..., -48.650024]],\n",
      "\n",
      "        ...,\n",
      "\n",
      "        [[-48.250015, ..., -48.250015],\n",
      "         ...,\n",
      "         [-70.650024, ..., -70.650024]]],\n",
      "\n",
      "\n",
      "       ...,\n",
      "\n",
      "\n",
      "       [[[  3.549988, ...,   3.549988],\n",
      "         ...,\n",
      "         [-37.55002 , ..., -37.55002 ]],\n",
      "\n",
      "        ...,\n",
      "\n",
      "        [[-49.55002 , ..., -49.55002 ],\n",
      "         ...,\n",
      "         [-71.45001 , ..., -71.45001 ]]]], dtype=float32)\n",
      "Coordinates:\n",
      "  * time     (time) datetime64[ns] 2017-06-09 ... 2017-06-15T18:00:00\n",
      "  * level    (level) float32 1000.0 850.0 500.0 200.0\n",
      "  * lat      (lat) float32 90.0 87.5 85.0 82.5 80.0 ... -82.5 -85.0 -87.5 -90.0\n",
      "  * lon      (lon) float32 0.0 2.5 5.0 7.5 10.0 ... 350.0 352.5 355.0 357.5\n",
      "Attributes:\n",
      "    long_name:      4xDaily Air temperature\n",
      "    units:          degC\n",
      "    precision:      2\n",
      "    GRIB_id:        11\n",
      "    GRIB_name:      TMP\n",
      "    var_desc:       Air temperature\n",
      "    level_desc:     Multiple levels\n",
      "    statistic:      Individual Obs\n",
      "    parent_stat:    Other\n",
      "    valid_range:    [150. 350.]\n",
      "    dataset:        NCEP Reanalysis\n",
      "    actual_range:   [195.69998 324.6    ]\n",
      "    new_attribute:  This attribute has no meaning.\n"
     ]
    }
   ],
   "source": [
    "dr_degC.attrs = dr.attrs \n",
    "# Now we change the 'units' in attributes\n",
    "dr_degC.attrs['units'] = 'degC'\n",
    "print(dr_degC)\n",
    "# You can see that the 'valid range' and 'actual range' should also be changed. \n",
    "# I changed the 'units' only for demonstration purpose."
   ]
  },
  {
   "cell_type": "markdown",
   "metadata": {},
   "source": [
    "## Coordinates\n",
    "You may access the coordinates either from the xarray Dataset or DataArray Object, again using dictionary syntax."
   ]
  },
  {
   "cell_type": "code",
   "execution_count": 9,
   "metadata": {
    "scrolled": true
   },
   "outputs": [
    {
     "name": "stdout",
     "output_type": "stream",
     "text": [
      "<xarray.DataArray 'lat' (lat: 73)>\n",
      "array([ 90. ,  87.5,  85. ,  82.5,  80. ,  77.5,  75. ,  72.5,  70. ,  67.5,\n",
      "        65. ,  62.5,  60. ,  57.5,  55. ,  52.5,  50. ,  47.5,  45. ,  42.5,\n",
      "        40. ,  37.5,  35. ,  32.5,  30. ,  27.5,  25. ,  22.5,  20. ,  17.5,\n",
      "        15. ,  12.5,  10. ,   7.5,   5. ,   2.5,   0. ,  -2.5,  -5. ,  -7.5,\n",
      "       -10. , -12.5, -15. , -17.5, -20. , -22.5, -25. , -27.5, -30. , -32.5,\n",
      "       -35. , -37.5, -40. , -42.5, -45. , -47.5, -50. , -52.5, -55. , -57.5,\n",
      "       -60. , -62.5, -65. , -67.5, -70. , -72.5, -75. , -77.5, -80. , -82.5,\n",
      "       -85. , -87.5, -90. ], dtype=float32)\n",
      "Coordinates:\n",
      "  * lat      (lat) float32 90.0 87.5 85.0 82.5 80.0 ... -82.5 -85.0 -87.5 -90.0\n",
      "Attributes:\n",
      "    units:          degrees_north\n",
      "    long_name:      Latitude\n",
      "    standard_name:  latitude\n",
      "    axis:           Y\n",
      "    actual_range:   [ 90. -90.]\n"
     ]
    }
   ],
   "source": [
    "print(ds.coords['lat'])"
   ]
  },
  {
   "cell_type": "code",
   "execution_count": 10,
   "metadata": {
    "scrolled": false
   },
   "outputs": [
    {
     "name": "stdout",
     "output_type": "stream",
     "text": [
      "<xarray.DataArray 'lat' (lat: 73)>\n",
      "array([ 90. ,  87.5,  85. ,  82.5,  80. ,  77.5,  75. ,  72.5,  70. ,  67.5,\n",
      "        65. ,  62.5,  60. ,  57.5,  55. ,  52.5,  50. ,  47.5,  45. ,  42.5,\n",
      "        40. ,  37.5,  35. ,  32.5,  30. ,  27.5,  25. ,  22.5,  20. ,  17.5,\n",
      "        15. ,  12.5,  10. ,   7.5,   5. ,   2.5,   0. ,  -2.5,  -5. ,  -7.5,\n",
      "       -10. , -12.5, -15. , -17.5, -20. , -22.5, -25. , -27.5, -30. , -32.5,\n",
      "       -35. , -37.5, -40. , -42.5, -45. , -47.5, -50. , -52.5, -55. , -57.5,\n",
      "       -60. , -62.5, -65. , -67.5, -70. , -72.5, -75. , -77.5, -80. , -82.5,\n",
      "       -85. , -87.5, -90. ], dtype=float32)\n",
      "Coordinates:\n",
      "  * lat      (lat) float32 90.0 87.5 85.0 82.5 80.0 ... -82.5 -85.0 -87.5 -90.0\n",
      "Attributes:\n",
      "    units:          degrees_north\n",
      "    long_name:      Latitude\n",
      "    standard_name:  latitude\n",
      "    axis:           Y\n",
      "    actual_range:   [ 90. -90.]\n"
     ]
    }
   ],
   "source": [
    "print(dr.coords['lat'])"
   ]
  },
  {
   "cell_type": "code",
   "execution_count": 11,
   "metadata": {
    "scrolled": false
   },
   "outputs": [
    {
     "data": {
      "text/plain": [
       "True"
      ]
     },
     "execution_count": 11,
     "metadata": {},
     "output_type": "execute_result"
    }
   ],
   "source": [
    "# You may check to see if they are identical or not.\n",
    "all(ds.coords['lat'] == dr.coords['lat']) "
   ]
  },
  {
   "cell_type": "markdown",
   "metadata": {},
   "source": [
    "And once again, each of the coordinates itself is an xarray DataArray object, so you may want to [revisit the syntax again](#Extracting-a-variable)."
   ]
  },
  {
   "cell_type": "markdown",
   "metadata": {},
   "source": [
    "## Index slicing\n",
    "As mentioned above, you can apply NumPy syntax, e.g. index slicing, on xarray DataArray objects."
   ]
  },
  {
   "cell_type": "code",
   "execution_count": 12,
   "metadata": {
    "scrolled": true
   },
   "outputs": [
    {
     "name": "stdout",
     "output_type": "stream",
     "text": [
      "<xarray.DataArray 'temp' (time: 28, level: 4, lat: 73, lon: 144)>\n",
      "array([[[[272.3    , ..., 272.3    ],\n",
      "         ...,\n",
      "         [224.49997, ..., 224.49997]],\n",
      "\n",
      "        ...,\n",
      "\n",
      "        [[224.89998, ..., 224.89998],\n",
      "         ...,\n",
      "         [202.49997, ..., 202.49997]]],\n",
      "\n",
      "\n",
      "       ...,\n",
      "\n",
      "\n",
      "       [[[276.69998, ..., 276.69998],\n",
      "         ...,\n",
      "         [235.59998, ..., 235.59998]],\n",
      "\n",
      "        ...,\n",
      "\n",
      "        [[223.59998, ..., 223.59998],\n",
      "         ...,\n",
      "         [201.69998, ..., 201.69998]]]], dtype=float32)\n",
      "Coordinates:\n",
      "  * time     (time) datetime64[ns] 2017-06-09 ... 2017-06-15T18:00:00\n",
      "  * level    (level) float32 1000.0 850.0 500.0 200.0\n",
      "  * lat      (lat) float32 90.0 87.5 85.0 82.5 80.0 ... -82.5 -85.0 -87.5 -90.0\n",
      "  * lon      (lon) float32 0.0 2.5 5.0 7.5 10.0 ... 350.0 352.5 355.0 357.5\n",
      "Attributes:\n",
      "    long_name:      4xDaily Air temperature\n",
      "    units:          degK\n",
      "    precision:      2\n",
      "    GRIB_id:        11\n",
      "    GRIB_name:      TMP\n",
      "    var_desc:       Air temperature\n",
      "    level_desc:     Multiple levels\n",
      "    statistic:      Individual Obs\n",
      "    parent_stat:    Other\n",
      "    valid_range:    [150. 350.]\n",
      "    dataset:        NCEP Reanalysis\n",
      "    actual_range:   [195.69998 324.6    ]\n",
      "    new_attribute:  This attribute has no meaning.\n"
     ]
    }
   ],
   "source": [
    "# Let's look at the temperature data again\n",
    "print(dr)"
   ]
  },
  {
   "cell_type": "markdown",
   "metadata": {},
   "source": [
    "Suppose you want the values for the lowest model level, in this case 1000hPa."
   ]
  },
  {
   "cell_type": "code",
   "execution_count": 13,
   "metadata": {
    "scrolled": true
   },
   "outputs": [
    {
     "name": "stdout",
     "output_type": "stream",
     "text": [
      "<xarray.DataArray 'temp' (time: 28, lat: 73, lon: 144)>\n",
      "array([[[272.3    , 272.3    , ..., 272.3    , 272.3    ],\n",
      "        [270.09998, 270.09998, ..., 270.09998, 270.09998],\n",
      "        ...,\n",
      "        [223.99997, 223.59998, ..., 224.59998, 224.29997],\n",
      "        [224.49997, 224.49997, ..., 224.49997, 224.49997]],\n",
      "\n",
      "       [[272.89996, 272.89996, ..., 272.89996, 272.89996],\n",
      "        [270.89996, 270.89996, ..., 270.8    , 270.8    ],\n",
      "        ...,\n",
      "        [224.29997, 223.89998, ..., 225.09998, 224.69998],\n",
      "        [225.09998, 225.09998, ..., 225.09998, 225.09998]],\n",
      "\n",
      "       ...,\n",
      "\n",
      "       [[275.7    , 275.7    , ..., 275.7    , 275.7    ],\n",
      "        [273.9    , 273.9    , ..., 273.8    , 273.9    ],\n",
      "        ...,\n",
      "        [232.6    , 232.2    , ..., 233.4    , 233.     ],\n",
      "        [237.5    , 237.5    , ..., 237.5    , 237.5    ]],\n",
      "\n",
      "       [[276.69998, 276.69998, ..., 276.69998, 276.69998],\n",
      "        [275.09998, 275.09998, ..., 275.09998, 275.09998],\n",
      "        ...,\n",
      "        [231.19998, 230.79997, ..., 231.99997, 231.59998],\n",
      "        [235.59998, 235.59998, ..., 235.59998, 235.59998]]], dtype=float32)\n",
      "Coordinates:\n",
      "  * time     (time) datetime64[ns] 2017-06-09 ... 2017-06-15T18:00:00\n",
      "    level    float32 1000.0\n",
      "  * lat      (lat) float32 90.0 87.5 85.0 82.5 80.0 ... -82.5 -85.0 -87.5 -90.0\n",
      "  * lon      (lon) float32 0.0 2.5 5.0 7.5 10.0 ... 350.0 352.5 355.0 357.5\n",
      "Attributes:\n",
      "    long_name:      4xDaily Air temperature\n",
      "    units:          degK\n",
      "    precision:      2\n",
      "    GRIB_id:        11\n",
      "    GRIB_name:      TMP\n",
      "    var_desc:       Air temperature\n",
      "    level_desc:     Multiple levels\n",
      "    statistic:      Individual Obs\n",
      "    parent_stat:    Other\n",
      "    valid_range:    [150. 350.]\n",
      "    dataset:        NCEP Reanalysis\n",
      "    actual_range:   [195.69998 324.6    ]\n",
      "    new_attribute:  This attribute has no meaning.\n"
     ]
    }
   ],
   "source": [
    "print(dr[:,0,:,:])"
   ]
  },
  {
   "cell_type": "markdown",
   "metadata": {},
   "source": [
    "However, this is not very convenient if you don't know the coordinates at the first place (in other words, you need to know the coordinates first). \n",
    "\n",
    "Instead the xarray DataArray object offers a **grid-independent** *method* of index slicing. That means you only need to know what coordinates the array has (but not the order of coordinates), and you can grab a slice of the array that you need.\n",
    "\n",
    "**Syntax**: (**SEL**ect by coordinate name and **I**ndex)\n",
    "```\n",
    "values = DataArrayObject.isel(coordinate_name = coordinate_index)\n",
    "```\n",
    "**Syntax**: (**SEL**ect by coordinate name and value)\n",
    "```\n",
    "values = DataArrayObject.sel(coordinate_name = coordinate_value)\n",
    "```\n",
    "\n",
    "**Warning**: However, according to the xarray documentation, you should **NEVER** assign values when using any of the indexing methods `isel` or `sel`. They fail silently."
   ]
  },
  {
   "cell_type": "code",
   "execution_count": 14,
   "metadata": {
    "scrolled": true
   },
   "outputs": [
    {
     "name": "stdout",
     "output_type": "stream",
     "text": [
      "<xarray.DataArray 'temp' (time: 28, lat: 73, lon: 144)>\n",
      "array([[[272.3    , 272.3    , ..., 272.3    , 272.3    ],\n",
      "        [270.09998, 270.09998, ..., 270.09998, 270.09998],\n",
      "        ...,\n",
      "        [223.99997, 223.59998, ..., 224.59998, 224.29997],\n",
      "        [224.49997, 224.49997, ..., 224.49997, 224.49997]],\n",
      "\n",
      "       [[272.89996, 272.89996, ..., 272.89996, 272.89996],\n",
      "        [270.89996, 270.89996, ..., 270.8    , 270.8    ],\n",
      "        ...,\n",
      "        [224.29997, 223.89998, ..., 225.09998, 224.69998],\n",
      "        [225.09998, 225.09998, ..., 225.09998, 225.09998]],\n",
      "\n",
      "       ...,\n",
      "\n",
      "       [[275.7    , 275.7    , ..., 275.7    , 275.7    ],\n",
      "        [273.9    , 273.9    , ..., 273.8    , 273.9    ],\n",
      "        ...,\n",
      "        [232.6    , 232.2    , ..., 233.4    , 233.     ],\n",
      "        [237.5    , 237.5    , ..., 237.5    , 237.5    ]],\n",
      "\n",
      "       [[276.69998, 276.69998, ..., 276.69998, 276.69998],\n",
      "        [275.09998, 275.09998, ..., 275.09998, 275.09998],\n",
      "        ...,\n",
      "        [231.19998, 230.79997, ..., 231.99997, 231.59998],\n",
      "        [235.59998, 235.59998, ..., 235.59998, 235.59998]]], dtype=float32)\n",
      "Coordinates:\n",
      "  * time     (time) datetime64[ns] 2017-06-09 ... 2017-06-15T18:00:00\n",
      "    level    float32 1000.0\n",
      "  * lat      (lat) float32 90.0 87.5 85.0 82.5 80.0 ... -82.5 -85.0 -87.5 -90.0\n",
      "  * lon      (lon) float32 0.0 2.5 5.0 7.5 10.0 ... 350.0 352.5 355.0 357.5\n",
      "Attributes:\n",
      "    long_name:      4xDaily Air temperature\n",
      "    units:          degK\n",
      "    precision:      2\n",
      "    GRIB_id:        11\n",
      "    GRIB_name:      TMP\n",
      "    var_desc:       Air temperature\n",
      "    level_desc:     Multiple levels\n",
      "    statistic:      Individual Obs\n",
      "    parent_stat:    Other\n",
      "    valid_range:    [150. 350.]\n",
      "    dataset:        NCEP Reanalysis\n",
      "    actual_range:   [195.69998 324.6    ]\n",
      "    new_attribute:  This attribute has no meaning.\n"
     ]
    }
   ],
   "source": [
    "# Again, let's choose the lowest model level\n",
    "print(dr.isel(level=0))"
   ]
  },
  {
   "cell_type": "code",
   "execution_count": 15,
   "metadata": {
    "scrolled": true
   },
   "outputs": [
    {
     "name": "stdout",
     "output_type": "stream",
     "text": [
      "<xarray.DataArray 'temp' (time: 28, level: 4)>\n",
      "array([[301.69998, 300.2    , 266.9    , 226.19998],\n",
      "       [314.39996, 302.39996, 266.49997, 227.     ],\n",
      "       [320.39996, 308.3    , 266.09998, 225.8    ],\n",
      "       [312.99997, 305.8    , 266.09998, 227.8    ],\n",
      "       [302.7    , 300.8    , 266.     , 225.09998],\n",
      "       [316.7    , 304.1    , 265.99997, 226.29997],\n",
      "       [322.7    , 310.39996, 266.3    , 226.     ],\n",
      "       [314.8    , 307.5    , 266.7    , 226.7    ],\n",
      "       [304.2    , 301.59998, 266.2    , 225.     ],\n",
      "       [316.6    , 304.2    , 266.59998, 224.7    ],\n",
      "       [322.3    , 309.99997, 267.39996, 224.6    ],\n",
      "       [313.5    , 306.6    , 268.2    , 225.2    ],\n",
      "       [304.19998, 300.99997, 267.59998, 223.7    ],\n",
      "       [317.19998, 304.39996, 267.39996, 224.4    ],\n",
      "       [322.9    , 310.5    , 267.8    , 224.8    ],\n",
      "       [314.8    , 307.69998, 268.3    , 225.3    ],\n",
      "       [306.3    , 302.     , 267.69998, 224.8    ],\n",
      "       [317.4    , 305.3    , 266.8    , 224.89998],\n",
      "       [324.3    , 312.3    , 267.2    , 224.59998],\n",
      "       [318.99997, 310.3    , 267.69998, 225.59998],\n",
      "       [307.2    , 305.09998, 267.7    , 224.8    ],\n",
      "       [319.3    , 306.2    , 268.5    , 225.8    ],\n",
      "       [324.19998, 312.39996, 268.09998, 226.     ],\n",
      "       [315.8    , 308.99997, 268.3    , 225.4    ],\n",
      "       [305.     , 301.9    , 268.1    , 224.8    ],\n",
      "       [316.99997, 304.6    , 268.3    , 224.49997],\n",
      "       [324.1    , 311.99997, 268.6    , 224.2    ],\n",
      "       [316.09998, 309.3    , 268.9    , 224.39998]], dtype=float32)\n",
      "Coordinates:\n",
      "  * time     (time) datetime64[ns] 2017-06-09 ... 2017-06-15T18:00:00\n",
      "  * level    (level) float32 1000.0 850.0 500.0 200.0\n",
      "    lat      float32 30.0\n",
      "    lon      float32 60.0\n",
      "Attributes:\n",
      "    long_name:      4xDaily Air temperature\n",
      "    units:          degK\n",
      "    precision:      2\n",
      "    GRIB_id:        11\n",
      "    GRIB_name:      TMP\n",
      "    var_desc:       Air temperature\n",
      "    level_desc:     Multiple levels\n",
      "    statistic:      Individual Obs\n",
      "    parent_stat:    Other\n",
      "    valid_range:    [150. 350.]\n",
      "    dataset:        NCEP Reanalysis\n",
      "    actual_range:   [195.69998 324.6    ]\n",
      "    new_attribute:  This attribute has no meaning.\n"
     ]
    }
   ],
   "source": [
    "# Get the data at 30N,60E\n",
    "print(dr.sel(lat=30,lon=60))"
   ]
  },
  {
   "cell_type": "markdown",
   "metadata": {},
   "source": [
    "This is useful, but if you try other combinations, which the values may be absent from the coordinate array, then you will get an error. \n",
    "\n",
    "Fortunately, the developers have prepared for this situation. You can use an extra input argument `method='nearest'` to choose the data at the nearest coordinate."
   ]
  },
  {
   "cell_type": "code",
   "execution_count": 16,
   "metadata": {
    "scrolled": true
   },
   "outputs": [
    {
     "name": "stdout",
     "output_type": "stream",
     "text": [
      "<xarray.DataArray 'temp' (time: 28, level: 4)>\n",
      "array([[299.8    , 292.9    , 269.3    , 221.89998],\n",
      "       [302.99997, 294.19998, 269.3    , 223.     ],\n",
      "       [301.19998, 294.3    , 269.69998, 222.8    ],\n",
      "       [299.39996, 292.59998, 269.8    , 222.5    ],\n",
      "       [299.4    , 292.5    , 269.4    , 222.39998],\n",
      "       [301.5    , 293.1    , 269.89996, 223.29997],\n",
      "       [301.5    , 294.8    , 271.     , 223.2    ],\n",
      "       [298.7    , 292.6    , 270.4    , 223.3    ],\n",
      "       [300.4    , 294.09998, 270.1    , 223.3    ],\n",
      "       [302.5    , 294.8    , 270.19998, 223.7    ],\n",
      "       [302.59998, 295.59998, 270.49997, 223.7    ],\n",
      "       [300.     , 294.1    , 270.1    , 223.9    ],\n",
      "       [299.8    , 293.3    , 270.39996, 223.5    ],\n",
      "       [301.09998, 292.09998, 270.59998, 224.9    ],\n",
      "       [301.4    , 293.1    , 270.99997, 224.9    ],\n",
      "       [300.19998, 292.8    , 270.5    , 224.7    ],\n",
      "       [300.39996, 292.7    , 269.69998, 224.1    ],\n",
      "       [302.2    , 293.39996, 269.2    , 224.69998],\n",
      "       [301.39996, 293.8    , 269.9    , 223.39998],\n",
      "       [300.59998, 292.9    , 269.39996, 223.29997],\n",
      "       [301.     , 293.8    , 268.8    , 223.2    ],\n",
      "       [302.69998, 294.3    , 269.5    , 224.     ],\n",
      "       [301.3    , 294.19998, 269.69998, 223.     ],\n",
      "       [300.1    , 293.09998, 269.7    , 224.     ],\n",
      "       [299.8    , 292.9    , 268.8    , 224.1    ],\n",
      "       [302.19998, 293.2    , 268.8    , 224.39998],\n",
      "       [301.1    , 294.09998, 269.2    , 224.     ],\n",
      "       [299.89996, 292.8    , 269.4    , 224.09998]], dtype=float32)\n",
      "Coordinates:\n",
      "  * time     (time) datetime64[ns] 2017-06-09 ... 2017-06-15T18:00:00\n",
      "  * level    (level) float32 1000.0 850.0 500.0 200.0\n",
      "    lat      float32 22.5\n",
      "    lon      float32 115.0\n",
      "Attributes:\n",
      "    long_name:      4xDaily Air temperature\n",
      "    units:          degK\n",
      "    precision:      2\n",
      "    GRIB_id:        11\n",
      "    GRIB_name:      TMP\n",
      "    var_desc:       Air temperature\n",
      "    level_desc:     Multiple levels\n",
      "    statistic:      Individual Obs\n",
      "    parent_stat:    Other\n",
      "    valid_range:    [150. 350.]\n",
      "    dataset:        NCEP Reanalysis\n",
      "    actual_range:   [195.69998 324.6    ]\n",
      "    new_attribute:  This attribute has no meaning.\n"
     ]
    }
   ],
   "source": [
    "print(dr.sel(lat=22.3,lon=114,method='nearest'))"
   ]
  },
  {
   "cell_type": "markdown",
   "metadata": {},
   "source": [
    "*Think more: How do you use the values of time coordinates to slice the array?*"
   ]
  },
  {
   "cell_type": "markdown",
   "metadata": {},
   "source": [
    "Does these methods work with multiple indices/values? Let's try them."
   ]
  },
  {
   "cell_type": "code",
   "execution_count": 17,
   "metadata": {
    "scrolled": true
   },
   "outputs": [
    {
     "name": "stdout",
     "output_type": "stream",
     "text": [
      "<xarray.DataArray 'temp' (time: 4, level: 4, lat: 36, lon: 144)>\n",
      "array([[[[272.3    , ..., 272.3    ],\n",
      "         ...,\n",
      "         [299.09998, ..., 298.89996]],\n",
      "\n",
      "        ...,\n",
      "\n",
      "        [[224.89998, ..., 224.89998],\n",
      "         ...,\n",
      "         [220.79997, ..., 221.19998]]],\n",
      "\n",
      "\n",
      "       ...,\n",
      "\n",
      "\n",
      "       [[[274.49997, ..., 274.49997],\n",
      "         ...,\n",
      "         [299.59998, ..., 299.49997]],\n",
      "\n",
      "        ...,\n",
      "\n",
      "        [[221.7    , ..., 221.7    ],\n",
      "         ...,\n",
      "         [222.1    , ..., 222.3    ]]]], dtype=float32)\n",
      "Coordinates:\n",
      "  * time     (time) datetime64[ns] 2017-06-09 ... 2017-06-09T18:00:00\n",
      "  * level    (level) float32 1000.0 850.0 500.0 200.0\n",
      "  * lat      (lat) float32 90.0 87.5 85.0 82.5 80.0 ... 12.5 10.0 7.5 5.0 2.5\n",
      "  * lon      (lon) float32 0.0 2.5 5.0 7.5 10.0 ... 350.0 352.5 355.0 357.5\n",
      "Attributes:\n",
      "    long_name:      4xDaily Air temperature\n",
      "    units:          degK\n",
      "    precision:      2\n",
      "    GRIB_id:        11\n",
      "    GRIB_name:      TMP\n",
      "    var_desc:       Air temperature\n",
      "    level_desc:     Multiple levels\n",
      "    statistic:      Individual Obs\n",
      "    parent_stat:    Other\n",
      "    valid_range:    [150. 350.]\n",
      "    dataset:        NCEP Reanalysis\n",
      "    actual_range:   [195.69998 324.6    ]\n",
      "    new_attribute:  This attribute has no meaning.\n"
     ]
    }
   ],
   "source": [
    "# Well, this is the Pythonic way to do index slicing, so it should work very fine.\n",
    "print(dr[:4,:,:36,:])"
   ]
  },
  {
   "cell_type": "markdown",
   "metadata": {},
   "source": [
    "Next, let's try the `isel` method:"
   ]
  },
  {
   "cell_type": "code",
   "execution_count": 18,
   "metadata": {
    "scrolled": true
   },
   "outputs": [
    {
     "name": "stdout",
     "output_type": "stream",
     "text": [
      "<xarray.DataArray 'temp' (time: 4, level: 4, lat: 36, lon: 144)>\n",
      "array([[[[272.3    , ..., 272.3    ],\n",
      "         ...,\n",
      "         [299.09998, ..., 298.89996]],\n",
      "\n",
      "        ...,\n",
      "\n",
      "        [[224.89998, ..., 224.89998],\n",
      "         ...,\n",
      "         [220.79997, ..., 221.19998]]],\n",
      "\n",
      "\n",
      "       ...,\n",
      "\n",
      "\n",
      "       [[[274.49997, ..., 274.49997],\n",
      "         ...,\n",
      "         [299.59998, ..., 299.49997]],\n",
      "\n",
      "        ...,\n",
      "\n",
      "        [[221.7    , ..., 221.7    ],\n",
      "         ...,\n",
      "         [222.1    , ..., 222.3    ]]]], dtype=float32)\n",
      "Coordinates:\n",
      "  * time     (time) datetime64[ns] 2017-06-09 ... 2017-06-09T18:00:00\n",
      "  * level    (level) float32 1000.0 850.0 500.0 200.0\n",
      "  * lat      (lat) float32 90.0 87.5 85.0 82.5 80.0 ... 12.5 10.0 7.5 5.0 2.5\n",
      "  * lon      (lon) float32 0.0 2.5 5.0 7.5 10.0 ... 350.0 352.5 355.0 357.5\n",
      "Attributes:\n",
      "    long_name:      4xDaily Air temperature\n",
      "    units:          degK\n",
      "    precision:      2\n",
      "    GRIB_id:        11\n",
      "    GRIB_name:      TMP\n",
      "    var_desc:       Air temperature\n",
      "    level_desc:     Multiple levels\n",
      "    statistic:      Individual Obs\n",
      "    parent_stat:    Other\n",
      "    valid_range:    [150. 350.]\n",
      "    dataset:        NCEP Reanalysis\n",
      "    actual_range:   [195.69998 324.6    ]\n",
      "    new_attribute:  This attribute has no meaning.\n"
     ]
    }
   ],
   "source": [
    "# You may try using similar syntax, e.g. 0:4, as indices\n",
    "# dr.isel(lat=0:3)\n",
    "# However you will see that it does not work. \n",
    "# It's because 0:4 is not a valid syntax that gives a value for input arguments. (Note that isel is a method/function)\n",
    "# Instead you need to provide a list (or something similar)\n",
    "print(dr.isel(lat=range(36), time=range(4)))"
   ]
  },
  {
   "cell_type": "code",
   "execution_count": 19,
   "metadata": {
    "scrolled": true
   },
   "outputs": [
    {
     "name": "stdout",
     "output_type": "stream",
     "text": [
      "<xarray.DataArray 'temp' (time: 28, level: 4, lat: 12, lon: 18)>\n",
      "array([[[[304.8    , ..., 293.89996],\n",
      "         ...,\n",
      "         [285.39996, ..., 278.8    ]],\n",
      "\n",
      "        ...,\n",
      "\n",
      "        [[217.29997, ..., 222.19998],\n",
      "         ...,\n",
      "         [227.69998, ..., 229.59998]]],\n",
      "\n",
      "\n",
      "       ...,\n",
      "\n",
      "\n",
      "       [[[314.99997, ..., 296.89996],\n",
      "         ...,\n",
      "         [286.69998, ..., 279.3    ]],\n",
      "\n",
      "        ...,\n",
      "\n",
      "        [[218.79997, ..., 220.59998],\n",
      "         ...,\n",
      "         [232.99997, ..., 221.29997]]]], dtype=float32)\n",
      "Coordinates:\n",
      "  * time     (time) datetime64[ns] 2017-06-09 ... 2017-06-15T18:00:00\n",
      "  * level    (level) float32 1000.0 850.0 500.0 200.0\n",
      "  * lat      (lat) float32 30.0 32.5 35.0 37.5 40.0 ... 47.5 50.0 52.5 55.0 57.5\n",
      "  * lon      (lon) float32 0.0 10.0 20.0 30.0 40.0 ... 140.0 150.0 160.0 170.0\n",
      "Attributes:\n",
      "    long_name:      4xDaily Air temperature\n",
      "    units:          degK\n",
      "    precision:      2\n",
      "    GRIB_id:        11\n",
      "    GRIB_name:      TMP\n",
      "    var_desc:       Air temperature\n",
      "    level_desc:     Multiple levels\n",
      "    statistic:      Individual Obs\n",
      "    parent_stat:    Other\n",
      "    valid_range:    [150. 350.]\n",
      "    dataset:        NCEP Reanalysis\n",
      "    actual_range:   [195.69998 324.6    ]\n",
      "    new_attribute:  This attribute has no meaning.\n"
     ]
    }
   ],
   "source": [
    "import numpy as np\n",
    "print(dr.sel(lat=np.arange(31,61,2.5), lon=np.arange(0,180,10.0), method='nearest'))\n",
    "# Because range() cannot deal with floats/decimal numbers, let's use the np.arange() instead. They work similarly."
   ]
  },
  {
   "cell_type": "markdown",
   "metadata": {},
   "source": [
    "*Think more: How to choose the steps in the `np.arange()`? What happens if the chosen step is too small? Note that the `sel()` method does not interpolate the array.*"
   ]
  },
  {
   "cell_type": "markdown",
   "metadata": {},
   "source": [
    "One more way to use the `sel()` and `isel()` methods: Organize the indices using a dictionary."
   ]
  },
  {
   "cell_type": "code",
   "execution_count": 20,
   "metadata": {
    "scrolled": true
   },
   "outputs": [
    {
     "name": "stdout",
     "output_type": "stream",
     "text": [
      "{'lat': array([30. , 32.5, 35. , 37.5, 40. , 42.5, 45. , 47.5, 50. , 52.5, 55. ,\n",
      "       57.5]), 'lon': array([  0,  10,  20,  30,  40,  50,  60,  70,  80,  90, 100, 110, 120,\n",
      "       130, 140, 150, 160, 170])}\n"
     ]
    }
   ],
   "source": [
    "# still remember how to initialize a dictionary? It is curly brackets {}\n",
    "indices = {'lat':np.arange(30,60,2.5), 'lon':np.arange(0,180,10)}\n",
    "print(indices)"
   ]
  },
  {
   "cell_type": "code",
   "execution_count": 21,
   "metadata": {
    "scrolled": true
   },
   "outputs": [
    {
     "name": "stdout",
     "output_type": "stream",
     "text": [
      "<xarray.DataArray 'temp' (time: 28, level: 4, lat: 12, lon: 18)>\n",
      "array([[[[304.8    , ..., 293.89996],\n",
      "         ...,\n",
      "         [285.39996, ..., 278.8    ]],\n",
      "\n",
      "        ...,\n",
      "\n",
      "        [[217.29997, ..., 222.19998],\n",
      "         ...,\n",
      "         [227.69998, ..., 229.59998]]],\n",
      "\n",
      "\n",
      "       ...,\n",
      "\n",
      "\n",
      "       [[[314.99997, ..., 296.89996],\n",
      "         ...,\n",
      "         [286.69998, ..., 279.3    ]],\n",
      "\n",
      "        ...,\n",
      "\n",
      "        [[218.79997, ..., 220.59998],\n",
      "         ...,\n",
      "         [232.99997, ..., 221.29997]]]], dtype=float32)\n",
      "Coordinates:\n",
      "  * time     (time) datetime64[ns] 2017-06-09 ... 2017-06-15T18:00:00\n",
      "  * level    (level) float32 1000.0 850.0 500.0 200.0\n",
      "  * lat      (lat) float32 30.0 32.5 35.0 37.5 40.0 ... 47.5 50.0 52.5 55.0 57.5\n",
      "  * lon      (lon) float32 0.0 10.0 20.0 30.0 40.0 ... 140.0 150.0 160.0 170.0\n",
      "Attributes:\n",
      "    long_name:      4xDaily Air temperature\n",
      "    units:          degK\n",
      "    precision:      2\n",
      "    GRIB_id:        11\n",
      "    GRIB_name:      TMP\n",
      "    var_desc:       Air temperature\n",
      "    level_desc:     Multiple levels\n",
      "    statistic:      Individual Obs\n",
      "    parent_stat:    Other\n",
      "    valid_range:    [150. 350.]\n",
      "    dataset:        NCEP Reanalysis\n",
      "    actual_range:   [195.69998 324.6    ]\n",
      "    new_attribute:  This attribute has no meaning.\n"
     ]
    }
   ],
   "source": [
    "print(dr.sel(indices, method='nearest'))\n",
    "# Note that you cannot put method inside the dictionary."
   ]
  },
  {
   "cell_type": "markdown",
   "metadata": {},
   "source": [
    "## Output to netCDF files\n",
    "You may want to save the edited xarray DataArray object to a netCDF file.\n",
    "\n",
    "**Syntax:**\n",
    "```\n",
    "DataArrayObject.to_netcdf(filename)\n",
    "```"
   ]
  },
  {
   "cell_type": "code",
   "execution_count": 22,
   "metadata": {
    "scrolled": true
   },
   "outputs": [
    {
     "name": "stdout",
     "output_type": "stream",
     "text": [
      "Part0_Introduction.md                 README.md\r\n",
      "Part1_Basic_Syntax.ipynb              environment.yml\r\n",
      "Part1_Basic_Syntax.py                 \u001b[1m\u001b[34mimages\u001b[m\u001b[m\r\n",
      "Part2_Writing_Script.ipynb            \u001b[1m\u001b[34mmisc\u001b[m\u001b[m\r\n",
      "Part3_Flow_Control.ipynb              new_temp.nc\r\n",
      "Part4_OOP.ipynb                       pre_lab_installation_guide_Windows.md\r\n",
      "Part5_file_io.ipynb                   pre_lab_installation_guide_mac.md\r\n",
      "Part6_plotting.ipynb\r\n"
     ]
    }
   ],
   "source": [
    "# Example\n",
    "dr.sel(indices, method='nearest').to_netcdf('new_temp.nc')\n",
    "# list all files to see the .nc you just saved\n",
    "!ls # Windows users please replace this by !dir"
   ]
  }
 ],
 "metadata": {
  "kernelspec": {
   "display_name": "Python 3",
   "language": "python",
   "name": "python3"
  },
  "language_info": {
   "codemirror_mode": {
    "name": "ipython",
    "version": 3
   },
   "file_extension": ".py",
   "mimetype": "text/x-python",
   "name": "python",
   "nbconvert_exporter": "python",
   "pygments_lexer": "ipython3",
   "version": "3.7.1"
  }
 },
 "nbformat": 4,
 "nbformat_minor": 2
}
