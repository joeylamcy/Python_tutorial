{
 "cells": [
  {
   "cell_type": "markdown",
   "metadata": {},
   "source": [
    "# Flow Control Statements"
   ]
  },
  {
   "cell_type": "markdown",
   "metadata": {},
   "source": [
    "Now let's revisit the [script](./misc/sample_quad_eq.ipynb) which solves a quadratic equation.\n",
    "![Quad_eq_script](./images/Spyder_sample_clean.png)"
   ]
  },
  {
   "cell_type": "markdown",
   "metadata": {},
   "source": [
    "You can see that *if* the discriminant `d` is negative, the solutions would be complex. Suppose you only want real solutions, you will need to separate the cases. Let's learn how to do that."
   ]
  },
  {
   "cell_type": "markdown",
   "metadata": {},
   "source": [
    "## if statement"
   ]
  },
  {
   "cell_type": "markdown",
   "metadata": {},
   "source": [
    "As in many programming languages, there is an *if* statement (or conditional statement). \n",
    "\n",
    "Syntax:\n",
    "```python\n",
    "if (condition1):\n",
    "    statement1\n",
    "    statement2\n",
    "    ...\n",
    "```\n",
    "Here we need the keyword `if` followed by a condition in brackets and a colon. Inside we have *condition1*, which can be a boolean type (True/False) variable/statement. If *condition1* is true, the following statements (*statement1*,*statement2*,...) inside the indented block will be executed. If *condition1* is false, then all the statements inside the indented block will be skipped."
   ]
  },
  {
   "cell_type": "markdown",
   "metadata": {},
   "source": [
    "<p align=\"center\">\n",
    "  <img src=\"./images/if_statement.png\" height=\"400px\"/>\n",
    "</p>"
   ]
  },
  {
   "cell_type": "markdown",
   "metadata": {},
   "source": [
    "For example, let's calculate the roots *if* the discriminant is non-negative."
   ]
  },
  {
   "cell_type": "code",
   "execution_count": 1,
   "metadata": {},
   "outputs": [],
   "source": [
    "# import library\n",
    "import numpy as np"
   ]
  },
  {
   "cell_type": "code",
   "execution_count": 2,
   "metadata": {},
   "outputs": [
    {
     "name": "stdout",
     "output_type": "stream",
     "text": [
      "The solutions are -3.0 and -2.0\n"
     ]
    }
   ],
   "source": [
    "# set the values of coefficients\n",
    "a = 1\n",
    "b = 5\n",
    "c = 6\n",
    "\n",
    "# calculate the discriminant\n",
    "d = (b**2) - (4*a*c)\n",
    "if (d >= 0):\n",
    "    # find two solutions\n",
    "    sol1 = (-b-np.sqrt(d))/(2*a)\n",
    "    sol2 = (-b+np.sqrt(d))/(2*a)\n",
    "    print('The solutions are {0} and {1}'.format(sol1,sol2))"
   ]
  },
  {
   "cell_type": "markdown",
   "metadata": {},
   "source": [
    "## else statement"
   ]
  },
  {
   "cell_type": "markdown",
   "metadata": {},
   "source": [
    "Next let's deal with the case where the discriminant is negative. One way is to write another if statement, but more commonly, people use `else` after an if statement.\n",
    "\n",
    "Syntax:\n",
    "```Python\n",
    "if (condition1):\n",
    "    statement1\n",
    "    statement2\n",
    "    ...\n",
    "else:\n",
    "    alt_statement1\n",
    "    alt_statement2\n",
    "    ...\n",
    "```\n",
    "The `else` statement deal with cases where *condition1* is not satisfied. That means:\n",
    "- if *condition1* is true, the statements (*statement1*,*statement2*, ...) inside the `if` block will be executed, and the statements (alt_statement1, alt_statement2, ...) inside the `else` block will be skipped;\n",
    "- if *condition1* is false, the statements (*statement1*,*statement2*, ...) inside the `if` block will be skipped, and the statements (alt_statement1, alt_statement2, ...) inside the `else` block will be executed.\n"
   ]
  },
  {
   "cell_type": "markdown",
   "metadata": {},
   "source": [
    "<p align=\"center\">\n",
    "  <img src=\"./images/else_statement.png\" height=\"400px\"/>\n",
    "</p>"
   ]
  },
  {
   "cell_type": "code",
   "execution_count": 3,
   "metadata": {},
   "outputs": [
    {
     "name": "stdout",
     "output_type": "stream",
     "text": [
      "The solutions are complex.\n"
     ]
    }
   ],
   "source": [
    "# set the values of coefficients\n",
    "a = 1\n",
    "b = 1\n",
    "c = 2\n",
    "\n",
    "# calculate the discriminant\n",
    "d = (b**2) - (4*a*c)\n",
    "if (d >= 0):\n",
    "    # find two solutions\n",
    "    sol1 = (-b-np.sqrt(d))/(2*a)\n",
    "    sol2 = (-b+np.sqrt(d))/(2*a)\n",
    "    print('The solutions are {0} and {1}'.format(sol1,sol2))\n",
    "else:\n",
    "    print('The solutions are complex.')"
   ]
  },
  {
   "cell_type": "markdown",
   "metadata": {},
   "source": [
    "## elif statement"
   ]
  },
  {
   "cell_type": "markdown",
   "metadata": {},
   "source": [
    "Suppose now you want to sepearate the case where the discriminant is zero, then you can use `elif` (it stands for \"else if\") followed by a condition in brackets and a colon, and place it in between `if` and `else`.\n",
    "\n",
    "Syntax:\n",
    "```python\n",
    "if (condition1):\n",
    "    statement1\n",
    "    statement2\n",
    "    ...\n",
    "elif (condition2):\n",
    "    statement1b\n",
    "    statement2b\n",
    "    ...\n",
    "else:\n",
    "    alt_statement1\n",
    "    alt_statement2\n",
    "    ...\n",
    "```\n",
    "The `elif` statement deals with cases where previous conditions are not satisfied. That means:\n",
    "- if *condition1* is true, the statements (*statement1*,*statement2*, ...) inside the `if` block will be executed, and the other statements inside the `elif`/`else` block will be skipped;\n",
    "- if *condition1* is false, the statements (*statement1*,*statement2*, ...) inside the `if` block will be skipped, and now *condition2* will be tested:\n",
    "    - if *condition2* is true, the statements (*statement1b*,*statement2b*, ...) inside the `elif` block will be executed, and the statements inside the `else` block will be skipped\n",
    "    - if *condition2* is false, the statements (*statement1b*,*statement2b*, ...) inside the `elif` block will be skipped, and the statements (alt_statement1, alt_statement2, ...) inside the `else` block will be executed.\n",
    "\n",
    "\n",
    "Note: you may add as many `elif` as you want."
   ]
  },
  {
   "cell_type": "markdown",
   "metadata": {},
   "source": [
    "<p align=\"center\">\n",
    "  <img src=\"./images/elif_statement.png\" height=\"400px\"/>\n",
    "</p>"
   ]
  },
  {
   "cell_type": "code",
   "execution_count": 4,
   "metadata": {},
   "outputs": [
    {
     "name": "stdout",
     "output_type": "stream",
     "text": [
      "The solutions are -1.0 (repeated)\n"
     ]
    }
   ],
   "source": [
    "# set the values of coefficients\n",
    "a = 1\n",
    "b = 2\n",
    "c = 1\n",
    "\n",
    "# calculate the discriminant\n",
    "d = (b**2) - (4*a*c)\n",
    "if (d > 0):\n",
    "    # find two solutions\n",
    "    sol1 = (-b-np.sqrt(d))/(2*a)\n",
    "    sol2 = (-b+np.sqrt(d))/(2*a)\n",
    "    print('The solutions are {0} and {1}'.format(sol1,sol2))\n",
    "elif (d == 0):\n",
    "    sol1 = sol2 = -b/(2*a)\n",
    "    print('The solutions are {0} (repeated)'.format(sol1))\n",
    "else:\n",
    "    print('The solutions are complex.')"
   ]
  },
  {
   "cell_type": "markdown",
   "metadata": {},
   "source": [
    "Next, let's learn about loops"
   ]
  },
  {
   "cell_type": "markdown",
   "metadata": {},
   "source": [
    "## Loops\n",
    "As mentioned in the introduction, repeating a task multiple times is one of the common actions we want a program to do. Therefore we need loops. There are two common types of loops, namely \"for loops\" and \"while loops\".\n",
    "\n",
    "### For loops\n",
    "You use for loops when you want to iterate a specific number of times or iterate over a list of elements. \n",
    "\n",
    "**Syntax: (iterate a specific number of times)**\n",
    "```Python\n",
    "for index in range(number):\n",
    "    statement1\n",
    "    statement2\n",
    "    ...\n",
    "```\n",
    "Note that:\n",
    "1. You need keywords `for` and `in` to construct the for loop.\n",
    "1. `range()` is a function that returns an \"iterable\" (just think of it as a list) of indices starting from 0 and ends at the input number (exclusive), e.g. range(3) gives something like (0,1,2).\n",
    "1. Each statement inside the indented block will be executed once for each index (i.e. each value of the *index*).\n",
    "1. In this case, *index* will start from 0, and *statement1*, *statement2*, ... are executed. Then *index* will become 1, and *statement1*, *statement2*, ... are executed, so forth so on.\n",
    "1. That also means all the statements will be executed for the *number* of times that you specify, e.g. if `number = 3`, all the statements will be executed 3 times.\n",
    "1. To make the for loop more useful, you may use the *index* inside the loop."
   ]
  },
  {
   "cell_type": "code",
   "execution_count": 5,
   "metadata": {},
   "outputs": [
    {
     "name": "stdout",
     "output_type": "stream",
     "text": [
      "0\n",
      "1\n",
      "2\n",
      "3\n",
      "4\n"
     ]
    }
   ],
   "source": [
    "for i in range(5):\n",
    "    print(i)"
   ]
  },
  {
   "cell_type": "markdown",
   "metadata": {},
   "source": [
    "**Syntax: (iterate over a list of elements)**\n",
    "```Python\n",
    "for element in list1:\n",
    "    statement1\n",
    "    statement2\n",
    "    ...\n",
    "```\n",
    "This time, the `list1` replaces the \"iterable\" above, and the length of the *list1* (`len(list1)`) will be the number of times the statements will be executed. If the *list1* is `['Jan','Feb','Mar','Apr']`, then *element* will start from `'Jan'`, and *statement1*, *statement2*, ... are executed. Then *element* will become 'Feb', and *statement1*, *statement2*, ... are executed, so forth so on."
   ]
  },
  {
   "cell_type": "code",
   "execution_count": 7,
   "metadata": {},
   "outputs": [
    {
     "name": "stdout",
     "output_type": "stream",
     "text": [
      "I eat apples.\n",
      "I eat oranges.\n",
      "I eat bananas.\n",
      "I eat grapes.\n"
     ]
    }
   ],
   "source": [
    "fruit_list = ['apples', 'oranges', 'bananas', 'grapes']\n",
    "for fruit in fruit_list:\n",
    "    print('I eat {0}.'.format(fruit))"
   ]
  },
  {
   "cell_type": "markdown",
   "metadata": {},
   "source": [
    "To combine the two, there is another function called `enumerate`, which returns both *index* and the corresponding *element* in the list so that you can use both in the loop conveniently:\n",
    "\n",
    "**Alternative syntax: (iterate over a list of elements)**\n",
    "```Python\n",
    "for index,element in enumerate(list1):\n",
    "    statement1\n",
    "    statement2\n",
    "    ...\n",
    "```"
   ]
  },
  {
   "cell_type": "code",
   "execution_count": 8,
   "metadata": {},
   "outputs": [
    {
     "name": "stdout",
     "output_type": "stream",
     "text": [
      "1. I eat apples.\n",
      "2. I eat oranges.\n",
      "3. I eat bananas.\n",
      "4. I eat grapes.\n"
     ]
    }
   ],
   "source": [
    "for i,fruit in enumerate(fruit_list):\n",
    "    print('{1}. I eat {0}.'.format(fruit,i+1))"
   ]
  },
  {
   "cell_type": "markdown",
   "metadata": {},
   "source": [
    "### While loops\n",
    "You use while loops when you want the loop to continue until a condition is violated. It is commonly used when an iterative method is used to find numerical answers, and the condition would be the convergence criterion.\n",
    "\n",
    "**Syntax: (iterate a specific number of times)**\n",
    "```Python\n",
    "while (condition1):\n",
    "    statement1\n",
    "    statement2\n",
    "    ...\n",
    "```\n",
    "Note that:\n",
    "1. You need keyword `while` followed by the condition in brackets to construct the while loop.\n",
    "1. Each statement inside the indented block will be executed once for each index (i.e. each value of the *index*).\n",
    "1. You **should** modify the *condition1* inside the loop, otherwise the loop will not end. An easy way is to add a counter in the *condition1*, and set the counter to increase by 1 every time the loop is executed.\n",
    "1. Due to the potential danger that the loop may go forever, while loop is generally **not recommended**."
   ]
  },
  {
   "cell_type": "code",
   "execution_count": 10,
   "metadata": {},
   "outputs": [
    {
     "name": "stdout",
     "output_type": "stream",
     "text": [
      "-10\n",
      "-9\n",
      "-8\n",
      "-7\n",
      "-6\n",
      "-5\n",
      "-4\n",
      "-3\n",
      "-2\n",
      "-1\n",
      "0\n",
      "1\n",
      "2\n",
      "3\n",
      "4\n"
     ]
    }
   ],
   "source": [
    "a = -10\n",
    "while (a < 5):\n",
    "    print(a)\n",
    "    a = a + 1"
   ]
  },
  {
   "cell_type": "markdown",
   "metadata": {},
   "source": [
    "*Note: There are some advanced syntax not covered here, e.g. break, continue, for...else, etc. You are encouraged to learn them.*"
   ]
  },
  {
   "cell_type": "markdown",
   "metadata": {},
   "source": [
    "Next Part: [Concepts of Object-Oriented Programming](./Part4_OOP.ipynb)"
   ]
  }
 ],
 "metadata": {
  "kernelspec": {
   "display_name": "Python 3",
   "language": "python",
   "name": "python3"
  },
  "language_info": {
   "codemirror_mode": {
    "name": "ipython",
    "version": 3
   },
   "file_extension": ".py",
   "mimetype": "text/x-python",
   "name": "python",
   "nbconvert_exporter": "python",
   "pygments_lexer": "ipython3",
   "version": "3.7.2"
  }
 },
 "nbformat": 4,
 "nbformat_minor": 2
}
