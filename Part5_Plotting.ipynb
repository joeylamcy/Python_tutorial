{
 "cells": [
  {
   "cell_type": "markdown",
   "metadata": {},
   "source": [
    "# Visualization with Matplotlib\n",
    "In terms of plotting in python, Matplotlib is the most popular module for such purpose. Here we will demonstrate how we can use **Pyplot** in Matplotlib.\n",
    "\n",
    "*Note: If you know MATLAB, you can do plotting in **MATLAB style**, i.e. work only on current figure and move on to next only after the current one is finished. However, the **object-oriented style** is better once the plots get complicated. Therefore the **object-oriented style** is covered in [Part 5b: Advanced Plotting](./Advanced_Plotting.ipynb).*"
   ]
  },
  {
   "cell_type": "code",
   "execution_count": null,
   "metadata": {},
   "outputs": [],
   "source": [
    "# Import libraries to handle data and do the plotting\n",
    "import matplotlib.pyplot as plt # Matplotlib may build font cache for the first time\n",
    "import numpy as np"
   ]
  },
  {
   "cell_type": "code",
   "execution_count": null,
   "metadata": {},
   "outputs": [],
   "source": [
    "# Make plots larger inside jupyter notebook\n",
    "plt.rcParams['figure.dpi'] = 160"
   ]
  },
  {
   "cell_type": "markdown",
   "metadata": {},
   "source": [
    "## Simple line plot\n",
    "For very simple line plots, the `plt.plot()` is a quick and convenient function to plot a curve."
   ]
  },
  {
   "cell_type": "code",
   "execution_count": null,
   "metadata": {},
   "outputs": [],
   "source": [
    "# First assign an evenly spaced array for x\n",
    "x = np.linspace(0, 4, 100)\n",
    "# Let's plot the y=x^2 curve. \n",
    "# The first two inputs of plt.plot() function are x and y values. \n",
    "plt.plot(x,x*x)"
   ]
  },
  {
   "cell_type": "markdown",
   "metadata": {},
   "source": [
    "Most of the time, you would like to manually select the line/marker colours, types, etc. and add titles, axes titles, and probably some texts. "
   ]
  },
  {
   "cell_type": "code",
   "execution_count": null,
   "metadata": {},
   "outputs": [],
   "source": [
    "# Note that you need to copy the plt.plot function again to work on it\n",
    "plt.plot(x,np.exp(x),\n",
    "         'b--'\n",
    "        )\n",
    "# Add a title\n",
    "plt.title('Exponential curve')\n",
    "# Add a title for x-axis\n",
    "plt.xlabel('x')\n",
    "# Add a title for y-axis\n",
    "plt.ylabel('y')\n",
    "# Add the text \"y=x^2\" near the curve by specifying the position manually\n",
    "# The inputs are x-, y-coordinates of the text, followed by the text string\n",
    "plt.text(3.0,35,r'$y=e^x$')"
   ]
  },
  {
   "cell_type": "markdown",
   "metadata": {},
   "source": [
    "You can also add multiple lines into the same plot by calling the plt.plot() function multiple times. Also you can add a legend to the plot, which uses labels in each `plt.plot()` function."
   ]
  },
  {
   "cell_type": "code",
   "execution_count": null,
   "metadata": {},
   "outputs": [],
   "source": [
    "# Note that you need to copy the plt.plot function again to work on it\n",
    "plt.plot(x,np.exp(x),\n",
    "         'b--',\n",
    "         label='$y=e^x$',\n",
    "        )\n",
    "# Add a title\n",
    "plt.title('Parabola')\n",
    "# Add a title for x-axis\n",
    "plt.xlabel('x')\n",
    "# Add a title for y-axis\n",
    "plt.ylabel('y')\n",
    "# use plt.plot() again to add new lines\n",
    "plt.plot(x,x,\n",
    "        'g-',\n",
    "         label='$y=x$'\n",
    "        )\n",
    "plt.plot(x,x*x,\n",
    "        'k.',\n",
    "         label='$y=x^2$'\n",
    "        )\n",
    "# Add a legend, using labels defined in each of the plot functions\n",
    "plt.legend()"
   ]
  },
  {
   "cell_type": "markdown",
   "metadata": {},
   "source": [
    "Useful references:\n",
    "- Types of Lines: https://matplotlib.org/api/_as_gen/matplotlib.lines.Line2D.html#matplotlib.lines.Line2D.set_linestyle\n",
    "- Types of Markers: https://matplotlib.org/api/markers_api.html#module-matplotlib.markers\n",
    "- Colors: https://matplotlib.org/2.0.2/api/colors_api.html"
   ]
  },
  {
   "cell_type": "markdown",
   "metadata": {},
   "source": [
    "## Saving a plot\n",
    "Use plt.savefig() to save your plot. I commonly use two inputs only: *figure_name.png* and *dpi*."
   ]
  },
  {
   "cell_type": "code",
   "execution_count": null,
   "metadata": {},
   "outputs": [],
   "source": [
    "# Note that you need to copy the plt.plot function again to work on it\n",
    "plt.plot(x,np.exp(x),\n",
    "         'b--'\n",
    "        )\n",
    "# Add a title\n",
    "plt.title('Parabola')\n",
    "# Add a title for x-axis\n",
    "plt.xlabel('x')\n",
    "# Add a title for y-axis\n",
    "plt.ylabel('y')\n",
    "# use plt.plot() again to add new lines\n",
    "plt.plot(x,x,\n",
    "        'g-'\n",
    "        )\n",
    "plt.plot(x,x*x,\n",
    "        'k.'\n",
    "        )\n",
    "# Save the figure. dpi means dots per inch. \n",
    "# I think 160 is a good compromise between file size and resolution. \n",
    "plt.savefig('sample_plot.png',dpi=160)"
   ]
  },
  {
   "cell_type": "markdown",
   "metadata": {},
   "source": [
    "## 2D Field plots\n",
    "To plot a 2D scalar field, e.g. temperature distribution, you may use:\n",
    "- `plt.pcolormesh()` for coloured values over every quadrilateral (e.g. rectangular) mesh;\n",
    "- `plt.contour()` for solid line contours; \n",
    "- `plt.contourf()` for filled contours.\n",
    "\n",
    "Here is an example."
   ]
  },
  {
   "cell_type": "code",
   "execution_count": null,
   "metadata": {},
   "outputs": [],
   "source": [
    "# Assign evenly spaced arrays for x and y\n",
    "x = np.linspace(0,4,100)\n",
    "y = np.linspace(0,5,80)\n",
    "# Create a rectangular grid for the given x and y\n",
    "xx, yy = np.meshgrid(x,y)\n",
    "# Calculate z=y*sin(pi*x) and plot it\n",
    "z = np.sin(np.pi*xx)*yy\n",
    "plt.pcolormesh(xx,yy,z)"
   ]
  },
  {
   "cell_type": "code",
   "execution_count": null,
   "metadata": {},
   "outputs": [],
   "source": [
    "plt.contourf(xx,yy,z)"
   ]
  },
  {
   "cell_type": "markdown",
   "metadata": {},
   "source": [
    "Similar to line plots, other elements can be added to the plot."
   ]
  },
  {
   "cell_type": "code",
   "execution_count": null,
   "metadata": {},
   "outputs": [],
   "source": [
    "plt.pcolormesh(xx,yy,z,\n",
    "              cmap = 'RdBu'\n",
    "              )\n",
    "# Add a colorbar\n",
    "plt.colorbar()\n",
    "# Add x-axis title\n",
    "plt.xlabel('$x/\\pi$')\n",
    "# Add y-axis title\n",
    "plt.ylabel('$y$')\n",
    "# Add main title\n",
    "plt.title('$f(x,y)=y\\sin(\\pi x)$')\n",
    "# Add solid line contours\n",
    "plt.contour(xx,yy,z)"
   ]
  },
  {
   "cell_type": "markdown",
   "metadata": {},
   "source": [
    "Useful references:\n",
    "- Colormaps: https://matplotlib.org/examples/color/colormaps_reference.html\n"
   ]
  },
  {
   "cell_type": "markdown",
   "metadata": {},
   "source": [
    "## Vector field plots\n",
    "To visualize vector fields, we usually use:\n",
    "- `plt.quiver()` for plotting vector arrows\n",
    "- `plt.streamplot()` for plotting streamlines (sometimes overlayed on filled contours showing magnitudes of vectors)\n",
    "\n",
    "Sample script for quiver plots:"
   ]
  },
  {
   "cell_type": "code",
   "execution_count": null,
   "metadata": {},
   "outputs": [],
   "source": [
    "# Assign evenly spaced arrays for x and y\n",
    "x = np.linspace(0,4,100)\n",
    "y = np.linspace(0,5,80)\n",
    "\n",
    "# Create a rectangular grid for the given x and y\n",
    "xx, yy = np.meshgrid(x,y)\n",
    "\n",
    "# Create a vector field with components u and v\n",
    "# The u-component is a constant 2 everywher\n",
    "u = np.ones(xx.shape)*2\n",
    "\n",
    "# The v-component has a 5*sin(pi*x) dependence\n",
    "v = np.sin(np.pi*xx)*np.ones(yy.shape)*5\n",
    "\n",
    "# Quiver plot using object-oriented approach\n",
    "# Create empty figure and axes objects\n",
    "fig, ax = plt.subplots()\n",
    "# Add main title\n",
    "ax.set_title('Wind distribution')\n",
    "# Plot 1 out of every 5 arrows, with each centered at the grid point\n",
    "# Note: It's too compact to plot all arrows\n",
    "Q = ax.quiver(xx[::5,::5],yy[::5,::5],u[::5,::5],v[::5,::5], \n",
    "           pivot='mid',\n",
    "          )\n",
    "# Add a reference vector of 5 m/s on top-right hand corner\n",
    "qk = ax.quiverkey(Q, 0.8, 0.9, 5, '$5 m/s$', \n",
    "              labelpos='E',\n",
    "              coordinates='figure',\n",
    "             )"
   ]
  },
  {
   "cell_type": "code",
   "execution_count": null,
   "metadata": {},
   "outputs": [],
   "source": [
    "# Calculate the magnitudes of vectors\n",
    "magnitude = np.sqrt(u*u + v*v)\n",
    "# Plot the filled contours first\n",
    "fig, ax = plt.subplots()\n",
    "ax.set_title('Streamlines')\n",
    "ax.set_ylim([0,5])\n",
    "bg = ax.contourf(xx,yy,magnitude,\n",
    "                 cmap = 'cool',\n",
    "                )\n",
    "# Add the colorbar\n",
    "cbar = fig.colorbar(bg,\n",
    "                    ax=ax,\n",
    "                    orientation='horizontal',\n",
    "                    label='magnitude',\n",
    "                   )\n",
    "# Overlay the streamline plot\n",
    "streams = ax.streamplot(xx,yy,u,v, \n",
    "                        color = 'k',\n",
    "                       )"
   ]
  },
  {
   "cell_type": "markdown",
   "metadata": {},
   "source": [
    "## (Optional) Matplotlib styles\n",
    "In matplotlib there are different styles that you may choose (although I always use the default one). I just want to share with you a plot style with fancy text."
   ]
  },
  {
   "cell_type": "code",
   "execution_count": null,
   "metadata": {},
   "outputs": [],
   "source": [
    "def sample_plot():\n",
    "    # First assign an evenly spaced array for x\n",
    "    x = np.linspace(0, 4, 100)\n",
    "\n",
    "    # Create an empty figure and empty axes \n",
    "    fig = plt.figure()\n",
    "    ax = plt.axes()\n",
    "\n",
    "    # Plot a line, the first two inputs are x and y values\n",
    "    ax.plot(x, np.sin(x*np.pi), \n",
    "             '-', \n",
    "             label='sin'\n",
    "            )\n",
    "    # Use plot() again to overlay another plot\n",
    "    ax.plot(x, np.cos(x*np.pi), \n",
    "             '--', \n",
    "             label='cos'\n",
    "            )\n",
    "    ax.legend() # display the \"labels\" specified in the above two lines\n",
    "\n",
    "    ax.set_xlabel('$x/\\pi$') # you can use Latex expressions! Just put formula inside $ $\n",
    "    ax.set_ylabel('y')\n",
    "    ax.set_title('Functions of sine and cosine')"
   ]
  },
  {
   "cell_type": "code",
   "execution_count": null,
   "metadata": {},
   "outputs": [],
   "source": [
    "sample_plot()"
   ]
  },
  {
   "cell_type": "code",
   "execution_count": null,
   "metadata": {},
   "outputs": [],
   "source": [
    "with plt.xkcd():\n",
    "    sample_plot()"
   ]
  },
  {
   "cell_type": "markdown",
   "metadata": {},
   "source": [
    "## Plotting on a map using Cartopy\n",
    "Cartopy (comes from the word \"Cartography\") is a module that contains a lot of different map projections. The most commonly used (default) one is probably *Plate Carree*. Others you might want to know or use are *Orthographic*, *Mercator*, *Lambert Conformal* and *Robinson*/*Mollweide*. A list of projection can be found in [Cartopy projection list](https://scitools.org.uk/cartopy/docs/latest/crs/projections.html#cartopy-projections).\n",
    "\n",
    "Example using *Plate Carree* projection: "
   ]
  },
  {
   "cell_type": "code",
   "execution_count": null,
   "metadata": {},
   "outputs": [],
   "source": [
    "# import the cartopy coordinate reference systems\n",
    "import cartopy.crs as ccrs\n",
    "from cartopy.mpl.gridliner import LONGITUDE_FORMATTER, LATITUDE_FORMATTER"
   ]
  },
  {
   "cell_type": "code",
   "execution_count": null,
   "metadata": {},
   "outputs": [],
   "source": [
    "# Create a new figure object\n",
    "fig = plt.figure(figsize=[8, 4])\n",
    "# Create a new axes object with Plate Carree projection\n",
    "ax = plt.axes(projection=ccrs.PlateCarree())\n",
    "# Draw the coastlines\n",
    "ax.coastlines() # There might be download warnings the first time you use this.\n",
    "# Draw the dashed gridlines and axis labels\n",
    "gl = ax.gridlines(crs=ccrs.PlateCarree(),\n",
    "                  draw_labels=True,\n",
    "                  linestyle='--',\n",
    "                 )\n",
    "gl.xlabels_top = False\n",
    "gl.ylabels_right = False\n",
    "gl.xformatter = LONGITUDE_FORMATTER\n",
    "gl.yformatter = LATITUDE_FORMATTER\n",
    "\n",
    "\n",
    "# Next you can do the plotting\n",
    "# ax.contourf( )\n",
    "# ax.set_title('')"
   ]
  },
  {
   "cell_type": "markdown",
   "metadata": {},
   "source": [
    "Example of *Lambert Conformal* projection: (Good for mid-latitudes)"
   ]
  },
  {
   "cell_type": "code",
   "execution_count": null,
   "metadata": {},
   "outputs": [],
   "source": [
    "# Create a new figure object\n",
    "plt.figure(figsize=(4.2897, 3))\n",
    "# Create a new axes object with Lambert Conformal projection\n",
    "ax = plt.axes(projection=ccrs.LambertConformal(cutoff=15))\n",
    "# Draw the coastlines\n",
    "ax.coastlines(resolution='110m')\n",
    "ax.gridlines()"
   ]
  },
  {
   "cell_type": "markdown",
   "metadata": {},
   "source": [
    "Next part: [Handling NetCDF files with xarray](./Part6_xarray.ipynb)"
   ]
  }
 ],
 "metadata": {
  "kernelspec": {
   "display_name": "Python 3",
   "language": "python",
   "name": "python3"
  },
  "language_info": {
   "codemirror_mode": {
    "name": "ipython",
    "version": 3
   },
   "file_extension": ".py",
   "mimetype": "text/x-python",
   "name": "python",
   "nbconvert_exporter": "python",
   "pygments_lexer": "ipython3",
   "version": "3.7.2"
  }
 },
 "nbformat": 4,
 "nbformat_minor": 2
}
