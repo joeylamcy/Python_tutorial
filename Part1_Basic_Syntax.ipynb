{
 "cells": [
  {
   "cell_type": "markdown",
   "metadata": {},
   "source": [
    "# Sample script \n",
    "The following [sample script](./misc/sample_quad_eq.py) aims at solving a quadratic equation."
   ]
  },
  {
   "cell_type": "markdown",
   "metadata": {},
   "source": [
    "![script_breakdown](./images/script_breakdown.png)"
   ]
  },
  {
   "cell_type": "markdown",
   "metadata": {},
   "source": [
    "# Comments\n",
    "Important to code readability! If you are collaborating with others, good comments should guide other people through your code. If you are doing a long project, you also need comments for yourselves to read when you revisit after a long time. \n",
    "Therefore, you are **required** to write comments to build up this habit."
   ]
  },
  {
   "cell_type": "markdown",
   "metadata": {},
   "source": [
    "# Basic statements\n",
    "- Assignment statements: `variable = value`\n",
    "    - `=` is assignment operator, *value* on the RHS of `=` is **assigned** to the *variable* on LHS.\n",
    "    - The *value* does not have to be an exact number, it can be obtained through an operation. (More about the types of *value* later)\n",
    "    - Let you figure out the rules on variable naming.\n",
    "- Print statements: `print('*what you want to print*')`\n",
    "    - `print` is the function name. A function should be followed with a pair of parentheses.\n",
    "    - Inside the parentheses, you can put anything (normally a \"*string*\" or a *variable*)\n",
    "- (Command line only) \"peek\" statements: `variable` (not recommended)\n",
    "    - Type the *variable* in command line mode to see its assigned value quickly."
   ]
  },
  {
   "cell_type": "markdown",
   "metadata": {},
   "source": [
    "# Data types of *value*"
   ]
  },
  {
   "cell_type": "code",
   "execution_count": 1,
   "metadata": {},
   "outputs": [
    {
     "name": "stdout",
     "output_type": "stream",
     "text": [
      "<class 'int'>\n",
      "<class 'int'>\n"
     ]
    }
   ],
   "source": [
    "# Integer\n",
    "print(type(1))\n",
    "print(type(2+3))"
   ]
  },
  {
   "cell_type": "code",
   "execution_count": 2,
   "metadata": {},
   "outputs": [
    {
     "name": "stdout",
     "output_type": "stream",
     "text": [
      "<class 'float'>\n",
      "<class 'float'>\n",
      "<class 'float'>\n"
     ]
    }
   ],
   "source": [
    "# Float \n",
    "print(type(1.0))\n",
    "print(type(5/2))\n",
    "print(type(1e2))"
   ]
  },
  {
   "cell_type": "code",
   "execution_count": 3,
   "metadata": {},
   "outputs": [
    {
     "name": "stdout",
     "output_type": "stream",
     "text": [
      "<class 'complex'>\n"
     ]
    }
   ],
   "source": [
    "# Complex\n",
    "print(type(1.0+1.0j))"
   ]
  },
  {
   "cell_type": "code",
   "execution_count": 4,
   "metadata": {},
   "outputs": [
    {
     "name": "stdout",
     "output_type": "stream",
     "text": [
      "<class 'str'>\n"
     ]
    }
   ],
   "source": [
    "# String\n",
    "print(type('Happy New Year!'))"
   ]
  },
  {
   "cell_type": "code",
   "execution_count": 5,
   "metadata": {},
   "outputs": [
    {
     "name": "stdout",
     "output_type": "stream",
     "text": [
      "<class 'bool'>\n",
      "<class 'bool'>\n"
     ]
    }
   ],
   "source": [
    "# Boolean (True or False)\n",
    "print(type(True))\n",
    "print(type(1==2)) # More on logical operators later\n",
    "\n",
    "# And many others not covered in this lab..."
   ]
  },
  {
   "cell_type": "markdown",
   "metadata": {},
   "source": [
    "# Arithmetics"
   ]
  },
  {
   "cell_type": "code",
   "execution_count": 6,
   "metadata": {},
   "outputs": [
    {
     "name": "stdout",
     "output_type": "stream",
     "text": [
      "5.4\n"
     ]
    }
   ],
   "source": [
    "# Addition \n",
    "print(2+3.4) # => 5.4"
   ]
  },
  {
   "cell_type": "code",
   "execution_count": 7,
   "metadata": {},
   "outputs": [
    {
     "name": "stdout",
     "output_type": "stream",
     "text": [
      "-4.1\n"
     ]
    }
   ],
   "source": [
    "# Subtraction\n",
    "print(1.6-5.7) # => -4.1"
   ]
  },
  {
   "cell_type": "code",
   "execution_count": 8,
   "metadata": {},
   "outputs": [
    {
     "name": "stdout",
     "output_type": "stream",
     "text": [
      "12\n"
     ]
    }
   ],
   "source": [
    "# Multiplication \n",
    "print(3*4) # => 12"
   ]
  },
  {
   "cell_type": "code",
   "execution_count": 9,
   "metadata": {},
   "outputs": [
    {
     "name": "stdout",
     "output_type": "stream",
     "text": [
      "2.5\n"
     ]
    }
   ],
   "source": [
    "# Division\n",
    "print(5/2) # => 2.5\n",
    "# Note that unlike Python 2.X, Python 3.X always gives a floating point number, i.e. same as 5.0/2.0"
   ]
  },
  {
   "cell_type": "code",
   "execution_count": 10,
   "metadata": {},
   "outputs": [
    {
     "name": "stdout",
     "output_type": "stream",
     "text": [
      "2\n"
     ]
    }
   ],
   "source": [
    "# Floor division\n",
    "print(5//2) # => 2\n",
    "# i.e. no fractional part"
   ]
  },
  {
   "cell_type": "code",
   "execution_count": 11,
   "metadata": {},
   "outputs": [
    {
     "name": "stdout",
     "output_type": "stream",
     "text": [
      "1\n"
     ]
    }
   ],
   "source": [
    "# Modulus \n",
    "print(5%2) # => 1\n",
    "# i.e. remainder after floor division"
   ]
  },
  {
   "cell_type": "code",
   "execution_count": 12,
   "metadata": {},
   "outputs": [
    {
     "name": "stdout",
     "output_type": "stream",
     "text": [
      "8\n"
     ]
    }
   ],
   "source": [
    "# Power \n",
    "print(2**3) # => 8"
   ]
  },
  {
   "cell_type": "markdown",
   "metadata": {},
   "source": [
    "# Logical Operators"
   ]
  },
  {
   "cell_type": "code",
   "execution_count": 13,
   "metadata": {},
   "outputs": [
    {
     "name": "stdout",
     "output_type": "stream",
     "text": [
      "False\n"
     ]
    }
   ],
   "source": [
    "# Is equal to\n",
    "print(2 == 3) # => False"
   ]
  },
  {
   "cell_type": "code",
   "execution_count": 14,
   "metadata": {},
   "outputs": [
    {
     "name": "stdout",
     "output_type": "stream",
     "text": [
      "True\n"
     ]
    }
   ],
   "source": [
    "# Is not equal to \n",
    "print(2 != 3) # => True"
   ]
  },
  {
   "cell_type": "code",
   "execution_count": 15,
   "metadata": {},
   "outputs": [
    {
     "name": "stdout",
     "output_type": "stream",
     "text": [
      "False\n"
     ]
    }
   ],
   "source": [
    "# Is greater than\n",
    "print(2 > 3) # => False"
   ]
  },
  {
   "cell_type": "code",
   "execution_count": 16,
   "metadata": {},
   "outputs": [
    {
     "name": "stdout",
     "output_type": "stream",
     "text": [
      "True\n"
     ]
    }
   ],
   "source": [
    "# Is smaller than\n",
    "print(2 < 3) # => True"
   ]
  },
  {
   "cell_type": "code",
   "execution_count": 17,
   "metadata": {},
   "outputs": [
    {
     "name": "stdout",
     "output_type": "stream",
     "text": [
      "False\n"
     ]
    }
   ],
   "source": [
    "# Is greater than or equal to\n",
    "print(2 >= 3) # => False"
   ]
  },
  {
   "cell_type": "code",
   "execution_count": 18,
   "metadata": {},
   "outputs": [
    {
     "name": "stdout",
     "output_type": "stream",
     "text": [
      "True\n"
     ]
    }
   ],
   "source": [
    "# Is smaller than or equal to \n",
    "print(2 <= 3) # => True"
   ]
  },
  {
   "cell_type": "code",
   "execution_count": 19,
   "metadata": {},
   "outputs": [
    {
     "name": "stdout",
     "output_type": "stream",
     "text": [
      "True\n",
      "True\n"
     ]
    }
   ],
   "source": [
    "# or\n",
    "print(True or False) # => True\n",
    "print((3>2) or (3==2)) # => True"
   ]
  },
  {
   "cell_type": "code",
   "execution_count": 20,
   "metadata": {},
   "outputs": [
    {
     "name": "stdout",
     "output_type": "stream",
     "text": [
      "False\n"
     ]
    }
   ],
   "source": [
    "# and \n",
    "print(True and False) # => False"
   ]
  },
  {
   "cell_type": "code",
   "execution_count": 21,
   "metadata": {},
   "outputs": [
    {
     "name": "stdout",
     "output_type": "stream",
     "text": [
      "True\n"
     ]
    }
   ],
   "source": [
    "# not\n",
    "print(not False) # => True"
   ]
  },
  {
   "cell_type": "code",
   "execution_count": 22,
   "metadata": {},
   "outputs": [
    {
     "name": "stdout",
     "output_type": "stream",
     "text": [
      "True\n",
      "False\n"
     ]
    }
   ],
   "source": [
    "# in \n",
    "print(1 in [1,2,3,4]) # => True\n",
    "print(5 in [1,2,3,4]) # => False"
   ]
  },
  {
   "cell_type": "markdown",
   "metadata": {},
   "source": [
    "# Organization types of *value*\n",
    "It is impractical to always use single values, especially when you have a large amount of data to process. Therefore you need to learn how to **group/organize** the values. \n",
    "- List: `[value1, value2, value3]`\n",
    "    - List is defined by square brackets `[]`.\n",
    "    - Elements in a list are ordered. They are indexed by consecutive numbers.\n",
    "    - You can put values in a list. They should be delimited (separated) by `,`.\n",
    "    - Spaces are generally not important, some people use them to align different lines for better appearance.\n",
    "    - *Note: strings are actually list of characters.*\n",
    "- NumPy arrays: `numpy.array([value1, value2, value3])`\n",
    "    - NumPy arrays are like lists, but better supports multiple dimension structure, and faster numerical calculations.\n",
    "    - You have to load the NumPy library in order to use it. (e.g. `import numpy`) \n",
    "    - Don't worry, there are easier ways to initialize them.\n",
    "- Dictionary: `{key1: value1, key2: value2, key3: value3}`\n",
    "    - Dictionary is defined by curly brackets `{}`.\n",
    "    - Elements in a dictionary are unordered. They are indexed by keys. \n",
    "    - You can put pairs of key and value in a list.\n",
    "    - The pair should be formatted as `key:value`. Each pair is delimited (separated) by `,`.\n",
    "    - Each key should be unique to others.\n",
    "There are more, such as tuple and iterable, but not very important for beginners.\n",
    "\n",
    "Note: actually they are still called data types in Python language. I just think that conceptually they are different. "
   ]
  },
  {
   "cell_type": "markdown",
   "metadata": {},
   "source": [
    "## How to access the values in a list (and NumPy array)?\n",
    "You can use index to refer to an element/value inside a list or dictionary. You can also refer to multiple consecutive elements/values through index slicing.\n",
    "\n",
    "Syntax: `value = list[index]`\n",
    "\n",
    "Index slicing rules: `start:end:stride`\n",
    "1. Index start at the beginning from 0, or at the end from -1 (counting backwards). (see below) \n",
    "1. The `start` index is inclusive, while the `end` index is exclusive.\n",
    "1. `stride` means the difference of the current and next indices. It can be negative (reverse the order).\n",
    "1. Actually you can think of `end` and `stride` as optional arguments:\n",
    "    - when you only provide `start`, only the element at index `start` is returned.\n",
    "    - when you provide `start:end`, elements at indices `start`, `start+1`, ..., `end-2`, `end-1` are returned.\n",
    "    - when you provide `start:end:stride`, elements from indices `start`, `start+stride` onwards and before the `end` are returned"
   ]
  },
  {
   "cell_type": "code",
   "execution_count": 23,
   "metadata": {},
   "outputs": [
    {
     "name": "stdout",
     "output_type": "stream",
     "text": [
      "['apple', 'orange', 'banana', 'grape', 'strawberry']\n"
     ]
    }
   ],
   "source": [
    "# First assign a list to a variable and print it to screen\n",
    "fruits = ['apple', 'orange', 'banana', 'grape', 'strawberry'] \n",
    "# index:     0         1         2         3          4\n",
    "# index:    -5        -4        -3        -2         -1\n",
    "print(fruits)"
   ]
  },
  {
   "cell_type": "code",
   "execution_count": 24,
   "metadata": {},
   "outputs": [
    {
     "name": "stdout",
     "output_type": "stream",
     "text": [
      "apple\n",
      "apple\n"
     ]
    }
   ],
   "source": [
    "# To access 'apple', we can use index 0 or -4\n",
    "print(fruits[0])    \n",
    "print(fruits[-5])    "
   ]
  },
  {
   "cell_type": "code",
   "execution_count": 25,
   "metadata": {},
   "outputs": [
    {
     "name": "stdout",
     "output_type": "stream",
     "text": [
      "['apple', 'orange', 'banana']\n",
      "['apple', 'orange', 'banana']\n",
      "['apple', 'orange', 'banana']\n"
     ]
    }
   ],
   "source": [
    "# To access 'apple', 'orange' and 'banana', you can use index slicing.\n",
    "print(fruits[0:3])   \n",
    "print(fruits[:3])   # If the index start from 0, you can omit it\n",
    "print(fruits[0:-2]) # You can mix the two counting methods"
   ]
  },
  {
   "cell_type": "code",
   "execution_count": 26,
   "metadata": {},
   "outputs": [
    {
     "name": "stdout",
     "output_type": "stream",
     "text": [
      "['orange', 'banana', 'grape', 'strawberry']\n",
      "['orange', 'banana', 'grape', 'strawberry']\n"
     ]
    }
   ],
   "source": [
    "# To access all elements from 'orange' onwards, you can use a large index at the end, or simply omit it\n",
    "print(fruits[1:])\n",
    "print(fruits[1:9999])"
   ]
  },
  {
   "cell_type": "code",
   "execution_count": 27,
   "metadata": {},
   "outputs": [
    {
     "name": "stdout",
     "output_type": "stream",
     "text": [
      "['apple', 'banana', 'strawberry']\n",
      "['apple', 'banana']\n",
      "['apple', 'grape']\n"
     ]
    }
   ],
   "source": [
    "# To skip indices, you can use stride\n",
    "print(fruits[::2])  # indices 0,2,4,6,8,etc. but indices from 6 onwards do not exist\n",
    "print(fruits[:4:2]) # indices 0,2 (4 is exclusive)\n",
    "print(fruits[::3])  # indices 0,3,6,9,etc. but indices from 6 onwards do not exist"
   ]
  },
  {
   "cell_type": "code",
   "execution_count": 28,
   "metadata": {},
   "outputs": [
    {
     "name": "stdout",
     "output_type": "stream",
     "text": [
      "['strawberry', 'grape', 'banana', 'orange', 'apple']\n",
      "['strawberry', 'grape', 'banana']\n"
     ]
    }
   ],
   "source": [
    "# To reverse the order, you can use a negative stride in index slicing\n",
    "print(fruits[::-1])\n",
    "print(fruits[:1:-1])"
   ]
  },
  {
   "cell_type": "markdown",
   "metadata": {},
   "source": [
    "Short Quiz: \n",
    "- What will `'banana' in fruits[1::2]` return a True/False value? \n",
    "- What about `'banana' in fruits[-2::-2]`? \n",
    "- And what about `banana in fruits`?"
   ]
  },
  {
   "cell_type": "markdown",
   "metadata": {},
   "source": [
    "*Think more:*\n",
    "1. Try to `print(['apple'])` and `print(list('apple'))`. What are the results? Can you guess why that happens?\n",
    "1. Now try this statement and see if you understand: `print(fruits[0][0:3])`"
   ]
  },
  {
   "cell_type": "markdown",
   "metadata": {},
   "source": [
    "## How to add/modify/delete elements in a list (and NumPy array)?"
   ]
  },
  {
   "cell_type": "code",
   "execution_count": 29,
   "metadata": {},
   "outputs": [
    {
     "name": "stdout",
     "output_type": "stream",
     "text": [
      "['mango', 'orange', 'banana', 'grape', 'strawberry']\n"
     ]
    }
   ],
   "source": [
    "# To replace the 1st element by 'mango'\n",
    "fruits[0] = 'mango'\n",
    "print(fruits)"
   ]
  },
  {
   "cell_type": "code",
   "execution_count": 30,
   "metadata": {},
   "outputs": [
    {
     "name": "stdout",
     "output_type": "stream",
     "text": [
      "['mango', 'orange', 'banana', 'grape', 'strawberry', 'apple']\n",
      "['mango', 'orange', 'banana', 'grape', 'strawberry', 'apple']\n"
     ]
    }
   ],
   "source": [
    "# To add 'apple' to the end of list\n",
    "print(fruits + ['apple']) # Note that I didn't change the list \"fruits\" here.\n",
    "# Alternative:\n",
    "fruits.append('apple') # Note that the list \"fruits\" is changed here.\n",
    "print(fruits)\n",
    "# It might not be a good idea to use append() in any command-line interfaces (CLIs)\n",
    "# because repeating the operation gives different results."
   ]
  },
  {
   "cell_type": "code",
   "execution_count": 31,
   "metadata": {},
   "outputs": [
    {
     "name": "stdout",
     "output_type": "stream",
     "text": [
      "['mango', 'orange', 'banana', 'grape', 'strawberry']\n"
     ]
    }
   ],
   "source": [
    "# To delete a value, you may use the funtction del()\n",
    "del(fruits[-1])\n",
    "print(fruits)"
   ]
  },
  {
   "cell_type": "code",
   "execution_count": 32,
   "metadata": {},
   "outputs": [
    {
     "name": "stdout",
     "output_type": "stream",
     "text": [
      "['mango', 'orange', 'apple', 'banana', 'grape', 'strawberry']\n"
     ]
    }
   ],
   "source": [
    "# To insert 'apple' in between the 2nd and 3rd elements (of the appended list)\n",
    "print(fruits[0:2] + ['apple'] + fruits[2:])"
   ]
  },
  {
   "cell_type": "markdown",
   "metadata": {},
   "source": [
    "## How to access values in a dictionary?\n",
    "Remember that dictionary contains key-value pairs? Since they are indexed by keys, you can use key to access them.\n",
    "\n",
    "Syntax: `value = dictionary['key']`"
   ]
  },
  {
   "cell_type": "code",
   "execution_count": 33,
   "metadata": {},
   "outputs": [
    {
     "name": "stdout",
     "output_type": "stream",
     "text": [
      "{'Name': 'Hong Kong', 'lat': 22.3, 'lon': 114.2, 'Time zone': 'UTC+8', 'Currency': 'HKD'}\n"
     ]
    }
   ],
   "source": [
    "# First assign a dictionary to a variable and print it to screen\n",
    "site_info = {'Name':'Hong Kong', 'lat':22.3, 'lon':114.2, 'Time zone':'UTC+8', 'Currency':'HKD'}\n",
    "print(site_info)"
   ]
  },
  {
   "cell_type": "code",
   "execution_count": 34,
   "metadata": {},
   "outputs": [
    {
     "name": "stdout",
     "output_type": "stream",
     "text": [
      "Hong Kong\n",
      "Hong Kong\n"
     ]
    }
   ],
   "source": [
    "# There are different syntax to access the values.\n",
    "print(site_info['Name'])\n",
    "print(site_info.get('Name'))"
   ]
  },
  {
   "cell_type": "code",
   "execution_count": 35,
   "metadata": {},
   "outputs": [
    {
     "name": "stdout",
     "output_type": "stream",
     "text": [
      "dict_keys(['Name', 'lat', 'lon', 'Time zone', 'Currency'])\n",
      "dict_values(['Hong Kong', 22.3, 114.2, 'UTC+8', 'HKD'])\n"
     ]
    }
   ],
   "source": [
    "# You can print out all keys and values\n",
    "print(site_info.keys())\n",
    "print(site_info.values())"
   ]
  },
  {
   "cell_type": "markdown",
   "metadata": {},
   "source": [
    "## How to add/modify/delete elements in a dictionary?\n",
    "They are basically done in similar fashion as above: `dictionary['key'] = value`"
   ]
  },
  {
   "cell_type": "code",
   "execution_count": 36,
   "metadata": {},
   "outputs": [
    {
     "name": "stdout",
     "output_type": "stream",
     "text": [
      "{'Name': 'Hong Kong', 'lat': 22.3, 'lon': 114.2, 'Time zone': 'UTC+8', 'Currency': 'HKD', 'Country calling code': '+852'}\n"
     ]
    }
   ],
   "source": [
    "# To add a new key-value pair, e.g. 'country calling code': '+852'\n",
    "site_info['Country calling code'] = '+852'\n",
    "print(site_info)"
   ]
  },
  {
   "cell_type": "code",
   "execution_count": 37,
   "metadata": {},
   "outputs": [
    {
     "name": "stdout",
     "output_type": "stream",
     "text": [
      "{'Name': 'Hong Kong', 'lat': 22.29, 'lon': 114.2, 'Time zone': 'UTC+8', 'Currency': 'HKD', 'Country calling code': '+852'}\n"
     ]
    }
   ],
   "source": [
    "# To modify one of the existing key-value pair, e.g. refine 'lat': 22.3 into 'lat': 22.29\n",
    "site_info['lat'] = 22.29\n",
    "print(site_info)"
   ]
  },
  {
   "cell_type": "code",
   "execution_count": 38,
   "metadata": {},
   "outputs": [
    {
     "name": "stdout",
     "output_type": "stream",
     "text": [
      "{'Name': 'Hong Kong', 'lat': 22.29, 'lon': 114.2, 'Time zone': 'UTC+8', 'Currency': 'HKD'}\n"
     ]
    }
   ],
   "source": [
    "# To delete one of the existing key-value pair, e.g. 'Country calling code': '+852'\n",
    "del(site_info['Country calling code'])\n",
    "print(site_info)"
   ]
  },
  {
   "cell_type": "markdown",
   "metadata": {},
   "source": [
    "# Functions\n",
    "You have used several *functions* previously, but what is a function? \n",
    "\n",
    "A function is a block of organized, reusable code that is used to perform a single action. You may think of a function as a toaster. If you put a piece of bread in (input), it will heat the bread, and return the toast (output) to you. Moreover, as long as the input (a piece of bread) is the same, it will return the same output (a toast) to you. Therefore when you know that an action will be performed quite frequently, you may consider writing a function.\n",
    "\n",
    "In Python, there are many pre-defined functions, e.g. `len()`, `range()`, `del()`, `print()`, etc... It is not practical to remember all of them, and thus **you need Google, and you also need to learn how to Google**.\n",
    "\n",
    "On the other hand, you can also write your own function to do some specific action. It's quite simple. \n",
    "\n",
    "Syntax: (to define a function)\n",
    "```Python\n",
    "def function1(input1, optional2=default):\n",
    "    statement1 \n",
    "    statement2\n",
    "    ...\n",
    "    return output1\n",
    "```\n",
    "Syntax: (to call a function, use either one of them)\n",
    "```Python\n",
    "function(value1)\n",
    "function(value1,value2) \n",
    "function(value1,optional2=value2)\n",
    "```\n",
    "\n",
    "Several points to note:\n",
    "1. Start with keyword **def** to define a function\n",
    "1. *input1* is the required input (argument) here. However, a function can be defined without any input.\n",
    "1. *optional2* becomes an optional input (argument) because a default value is provided. Optional argument must come after **all** required inputs. \n",
    "1. The first line ends with a colon (:). Any lines afterwards that are inclulded in the function should be **indented** (e.g. by four spaces).\n",
    "1. At the last line, use keyword **return** followed by what you want to output. However, you may leave *output1* blank if there is no output. "
   ]
  },
  {
   "cell_type": "markdown",
   "metadata": {},
   "source": [
    "### Example: insert function for a list"
   ]
  },
  {
   "cell_type": "code",
   "execution_count": 39,
   "metadata": {},
   "outputs": [],
   "source": [
    "# Let's define a function to insert a new element after index n of a list, and return the new list\n",
    "def insert(old_list,element,n):\n",
    "    return old_list[:n] + [element] + old_list[n:]"
   ]
  },
  {
   "cell_type": "code",
   "execution_count": 40,
   "metadata": {},
   "outputs": [
    {
     "name": "stdout",
     "output_type": "stream",
     "text": [
      "['mango', 'orange', 'banana', 'grape', 'strawberry']\n"
     ]
    }
   ],
   "source": [
    "# Take a look at the list again before we use\n",
    "print(fruits)"
   ]
  },
  {
   "cell_type": "code",
   "execution_count": 41,
   "metadata": {},
   "outputs": [
    {
     "name": "stdout",
     "output_type": "stream",
     "text": [
      "['mango', 'apple', 'orange', 'banana', 'grape', 'strawberry']\n"
     ]
    }
   ],
   "source": [
    "# Again, let's insert 'apple' after 'orange'\n",
    "fruits_new = insert(fruits,'apple',1)\n",
    "print(fruits_new)"
   ]
  },
  {
   "cell_type": "markdown",
   "metadata": {},
   "source": [
    "Short quiz:\n",
    "\n",
    "Can you define a function that takes a temperature value in Kelvin as input and returns the value in degree Celsius as output? And how do you call that function and print it on the screen?"
   ]
  },
  {
   "cell_type": "markdown",
   "metadata": {},
   "source": [
    "*Think more:*\n",
    "\n",
    "Suppose I define the following function:\n",
    "```Python\n",
    "def multiply(a,b):\n",
    "    # multiply two numbers\n",
    "    return a*b\n",
    "```\n",
    "which should return the product of two numbers.\n",
    "- Try different input types for `a` (boolean, string, list, dictionary), and keep `b` as a number. What do you see from the return value?\n",
    "- Try to define another function which takes **integers** `a` and `b` (suppose you already know they are integers), and returns another number that has repeated the digits in `a` by `b` times. For example, for `a=2` and `b=3`, it will return the number `222`.\n",
    "\n",
    "Python is well known for string handling. If you want to learn more, search for some online Python tutorials. Most of them covers quite a lot on string handling."
   ]
  },
  {
   "cell_type": "markdown",
   "metadata": {},
   "source": [
    "Next part: [Writing a Python script](./Part2_Writing_Script.ipynb)"
   ]
  }
 ],
 "metadata": {
  "kernelspec": {
   "display_name": "Python 3",
   "language": "python",
   "name": "python3"
  },
  "language_info": {
   "codemirror_mode": {
    "name": "ipython",
    "version": 3
   },
   "file_extension": ".py",
   "mimetype": "text/x-python",
   "name": "python",
   "nbconvert_exporter": "python",
   "pygments_lexer": "ipython3",
   "version": "3.7.1"
  }
 },
 "nbformat": 4,
 "nbformat_minor": 2
}
