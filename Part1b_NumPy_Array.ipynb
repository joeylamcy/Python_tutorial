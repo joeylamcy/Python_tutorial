{
 "cells": [
  {
   "cell_type": "markdown",
   "metadata": {},
   "source": [
    "# Numpy\n",
    "\n",
    "*Note: This notebook is edited from [Robin Yuen's tutorial on Python](https://github.com/Robinysh/ASC19-Deep-Learning-Tutorial/blob/master/python_tutorial.ipynb).*"
   ]
  },
  {
   "cell_type": "markdown",
   "metadata": {},
   "source": [
    "Numpy is a python library for doing scientific computing. It provides simplistic syntax and high performance array objects. If you're familiar with MATLAB you will find the syntax familiar."
   ]
  },
  {
   "cell_type": "markdown",
   "metadata": {},
   "source": [
    "### How does numpy provides such high performance"
   ]
  },
  {
   "cell_type": "markdown",
   "metadata": {},
   "source": [
    "Locality of reference\n",
    "\n",
    "- Lists: Array of pointers to object. (Everything in Python is an object!)\n",
    "\n",
    "- Numpy Arrays: Like C, densely packed arrays of homogeneous type.  \n",
    "\n",
    "- Vectorized operations are supported.\n",
    "\n",
    "Numpy operations are implemented in C\n",
    "\n",
    "- C is faster\n",
    "\n",
    "- No pointer indirection and per-element dynamic type checking like python.\n",
    "\n",
    "\n"
   ]
  },
  {
   "cell_type": "markdown",
   "metadata": {},
   "source": [
    "## Array Declaration"
   ]
  },
  {
   "cell_type": "code",
   "execution_count": null,
   "metadata": {},
   "outputs": [],
   "source": [
    "import numpy as np # Convention\n",
    "\n",
    "a = np.array([1, 2, 3])   # Create a rank 1 array\n",
    "print('a shape:', a.shape)            # Prints \"(3,)\"\n",
    "print('a:', a)                  # Prints \"[5, 2, 3]\"\n",
    "\n",
    "b = np.array([[1,2,3],[4,5,6]])    # Create a rank 2 array\n",
    "print('b shape:', b.shape)                     # Prints \"(2, 3)\"\n",
    "print('b:', b)"
   ]
  },
  {
   "cell_type": "markdown",
   "metadata": {},
   "source": [
    "## Accessing Arrays"
   ]
  },
  {
   "cell_type": "markdown",
   "metadata": {},
   "source": [
    "### Accesing Elements"
   ]
  },
  {
   "cell_type": "code",
   "execution_count": null,
   "metadata": {},
   "outputs": [],
   "source": [
    "a = np.array([1, 2, 3])\n",
    "b = np.array([[1,2,3],[4,5,6]])\n",
    "\n",
    "print(a[0], a[1], a[2])   # Prints \"1 2 3\"\n",
    "a[0] = 5                  # Change an element of the array\n",
    "print(a)\n",
    "\n",
    "print(b[0, 0], b[0, 1], b[1, 0])   # Prints \"1 2 4\"\n",
    "print(b[0][0], b[0][1], b[1][0])   # Prints \"1 2 4\", but slower as b[0,0] gets the element in one go, but b[0][0] works by returning b[0] then get [0] of b[0]"
   ]
  },
  {
   "cell_type": "markdown",
   "metadata": {},
   "source": [
    "### Slicing"
   ]
  },
  {
   "cell_type": "code",
   "execution_count": null,
   "metadata": {},
   "outputs": [],
   "source": [
    "# Create the following rank 2 array with shape (3, 4)\n",
    "# [[ 1  2  3  4]\n",
    "#  [ 5  6  7  8]\n",
    "#  [ 9 10 11 12]]\n",
    "a = np.array([[1,2,3,4], [5,6,7,8], [9,10,11,12]])\n",
    "print(a)\n",
    "row_r1 = a[1, :]    # Rank 1 view of the second row of a\n",
    "col_r2 = a[:, 1:3]\n",
    "print(row_r1, row_r1.shape)  # Prints \"[5 6 7 8] (4,)\"\n",
    "print(col_r2, col_r2.shape)  # Prints \"[[ 2 3]\n",
    "                             #          [ 6 7]\n",
    "                             #          [10 11]] (3, 2)\""
   ]
  },
  {
   "cell_type": "code",
   "execution_count": null,
   "metadata": {},
   "outputs": [],
   "source": [
    "# Indexing methods that work for lists also work for numpy arrays.\n",
    "a = np.array([[1,2,3,4], [5,6,7,8], [9,10,11,12]])\n",
    "b = np.array([1,2,3,4,5,6,7,8,9])\n",
    "print(b[::-1])\n",
    "#prints [9 8 7 6 5 4 3 2 1]"
   ]
  },
  {
   "cell_type": "markdown",
   "metadata": {},
   "source": [
    "### Integer Array Indexing"
   ]
  },
  {
   "cell_type": "code",
   "execution_count": null,
   "metadata": {
    "scrolled": true
   },
   "outputs": [],
   "source": [
    "a = np.array([[1,2], [3, 4], [5, 6]])\n",
    "print(a[[0, 2], [1, 0]])  # Gives [a[0,1],a[2,0]] which is [2 5]\n",
    "print(a[[0, 1, 2], [0, 1, 0]])  # Prints \"[1 4 5]\""
   ]
  },
  {
   "cell_type": "markdown",
   "metadata": {},
   "source": [
    "## Array Maths\n",
    "By default NumPy arrays carry out elementwise operations. That means most of the time **you don't need a for loop to iterate over NumPy arrays**."
   ]
  },
  {
   "cell_type": "markdown",
   "metadata": {},
   "source": [
    "### Elementwise operations"
   ]
  },
  {
   "cell_type": "code",
   "execution_count": null,
   "metadata": {},
   "outputs": [],
   "source": [
    "x = np.array([[1.,2.],[3.,4.]])\n",
    "y = np.array([[5.,6.],[7.,8.]])\n",
    "\n",
    "# Elementwise sum;# [[ 6.0  8.0]\n",
    "#                    [10.0 12.0]]\n",
    "print(x + y)\n",
    "# Elementwise difference;\n",
    "# [[-4.0 -4.0]\n",
    "#  [-4.0 -4.0]]\n",
    "print(x - y)\n",
    "# Elementwise product;\n",
    "# [[ 5.0 12.0]\n",
    "#  [21.0 32.0]]\n",
    "print(x * y)\n",
    "# Elementwise square root;\n",
    "# [[ 1.          1.41421356]\n",
    "#  [ 1.73205081  2.        ]]\n",
    "print(np.sqrt(x))"
   ]
  },
  {
   "cell_type": "markdown",
   "metadata": {},
   "source": [
    "### Array Maths with Integer Array Indexing"
   ]
  },
  {
   "cell_type": "code",
   "execution_count": null,
   "metadata": {},
   "outputs": [],
   "source": [
    "a = np.array([[1,2], [3, 4], [5, 6]])\n",
    "# Create an array of indices\n",
    "b = np.array([0, 1, 0])\n",
    "# Mutate one element from each row of a using the indices in b\n",
    "print(a)\n",
    "print(a[np.arange(3), b])\n",
    "print(a[[0,1,2], [0,1,0]])\n",
    "a[np.arange(3), b] += 10\n",
    "print(a)  # prints \"array([[11,  2],\n",
    "          #                [ 3, 14],\n",
    "          #                [15, 6]])"
   ]
  },
  {
   "cell_type": "markdown",
   "metadata": {},
   "source": [
    "### Boolean Array and Indexing"
   ]
  },
  {
   "cell_type": "code",
   "execution_count": null,
   "metadata": {},
   "outputs": [],
   "source": [
    "a = np.array([[1,2], [3, 4], [5, 6]])\n",
    "bool_idx = (a > 2)   # Find the elements of a that are bigger than 2;\n",
    "                     # this returns a numpy array of Booleans of the same\n",
    "                     # shape as a, where each slot of bool_idx tells\n",
    "                     # whether that element of a is > 2.\n",
    "print(a)\n",
    "print(bool_idx)      # Prints \"[[False False]\n",
    "                     #          [ True  True]\n",
    "                     #          [ True  True]]\"\n",
    "\n",
    "# We use boolean array indexing to construct a rank 1 array\n",
    "# consisting of the elements of a corresponding to the True values\n",
    "# of bool_idx\n",
    "print(a[bool_idx])  # Prints \"[3 4 5 6]\"\n",
    "\n",
    "# We can do all of the above in a single concise statement:\n",
    "print(a[a > 2])     # Prints \"[3 4 5 6]\""
   ]
  },
  {
   "cell_type": "markdown",
   "metadata": {},
   "source": [
    "### Matrix Products"
   ]
  },
  {
   "cell_type": "code",
   "execution_count": null,
   "metadata": {},
   "outputs": [],
   "source": [
    "x = np.array([[1.,2.],[3.,4.]])\n",
    "v = np.array([9,10])\n",
    "w = np.array([11, 12])\n",
    "\n",
    "# Inner product of vectors; These 3 are equivalent\n",
    "print(v.dot(w))\n",
    "print(np.dot(v, w))\n",
    "print(v @ w) # @ indicates a matrix multiplication operator\n",
    "\n",
    "# Matrix / vector product; both produce the rank 1 array [29 67]\n",
    "print(x.dot(v))\n",
    "print(np.dot(x, v))\n",
    "print(x @ v)\n",
    "\n",
    "# Matrix / matrix product; both produce the rank 2 array\n",
    "# [[19 22]\n",
    "#  [43 50]]\n",
    "print(x.dot(y))\n",
    "print(np.dot(x, y))\n",
    "print(x @ y)"
   ]
  },
  {
   "cell_type": "markdown",
   "metadata": {},
   "source": [
    "### sum"
   ]
  },
  {
   "cell_type": "code",
   "execution_count": null,
   "metadata": {},
   "outputs": [],
   "source": [
    "x = np.array([[1,2],[3,4]])\n",
    "\n",
    "print(np.sum(x))  # Compute sum of all elements; prints \"10\"\n",
    "print(np.sum(x, axis=0))  # Compute sum of each column; prints \"[4 6]\".\n",
    "#Axis indicates the dimension to apply the operation along.\n",
    "print(x.sum(axis=0))  # Equivalent to np.sum(x, axis=0)\n",
    "\n",
    "print(x)    # Prints \"[[1 2]\n",
    "            #          [3 4]]\"\n",
    "print(x.T)  # Prints \"[[1 3]\n",
    "            #          [2 4]]\""
   ]
  },
  {
   "cell_type": "markdown",
   "metadata": {},
   "source": [
    "### arange"
   ]
  },
  {
   "cell_type": "markdown",
   "metadata": {},
   "source": [
    "Works like range, but returns a numpy array"
   ]
  },
  {
   "cell_type": "code",
   "execution_count": null,
   "metadata": {},
   "outputs": [],
   "source": [
    "print(np.arange(1,10,2)) # Prints [1 3 5 7 9]"
   ]
  },
  {
   "cell_type": "markdown",
   "metadata": {},
   "source": [
    "### flatten"
   ]
  },
  {
   "cell_type": "markdown",
   "metadata": {},
   "source": [
    "Flattens high dimensional array in C order"
   ]
  },
  {
   "cell_type": "code",
   "execution_count": null,
   "metadata": {},
   "outputs": [],
   "source": [
    "x = np.array([[1,2],[3,4]])\n",
    "print(x)\n",
    "print(x.flatten())"
   ]
  },
  {
   "cell_type": "markdown",
   "metadata": {},
   "source": [
    "### einsum"
   ]
  },
  {
   "cell_type": "markdown",
   "metadata": {},
   "source": [
    "Useful for physics students in manipulating tensors."
   ]
  },
  {
   "cell_type": "code",
   "execution_count": null,
   "metadata": {},
   "outputs": [],
   "source": [
    "a = np.arange(25).reshape(5,5)\n",
    "b = np.arange(5)\n",
    "np.einsum('ii', a) #60 #Add all diagonal entries, a_ii\n",
    "np.einsum('ii->i', a) #array([ 0,  6, 12, 18, 24]) #Get all diagonal entries, a_ii without summing\n",
    "np.einsum('ij,j', a, b) #array([ 30,  80, 130, 180, 230]) #a_ij b_j, Matrix vector multiplication\n",
    "a = np.arange(60.).reshape(3,4,5)\n",
    "b = np.arange(24.).reshape(4,3,2)\n",
    "np.einsum('ijk,jil->kl', a, b) #a_ijk b_jil -> c_kl, rank 3 tensor contraction\n",
    "#array([[ 4400.,  4730.],\n",
    "#       [ 4532.,  4874.],\n",
    "#       [ 4664.,  5018.],\n",
    "#       [ 4796.,  5162.],\n",
    "#       [ 4928.,  5306.]])"
   ]
  },
  {
   "cell_type": "markdown",
   "metadata": {},
   "source": [
    "## Array Broadcasting\n",
    "Under some cases (usually for 1D arrays), NumPy can do broadcasting automatically. That means for example when a row vector is added to a column vector, both vectors will be copied along its columns/rows to become 2D arrays with the same shape, and finally they carry out the elementwise addition.\n",
    "\n",
    "Dimensions of two arrays are compatible when:\n",
    "1. they are equal, or\n",
    "1. one of them is 1\n",
    "\n",
    "Check out the [NumPy Manual](https://docs.scipy.org/doc/numpy-1.13.0/user/basics.broadcasting.html#general-broadcasting-rules) for more examples."
   ]
  },
  {
   "cell_type": "markdown",
   "metadata": {},
   "source": [
    "![Broadcasting](./images/broadcasting.png)"
   ]
  },
  {
   "cell_type": "code",
   "execution_count": null,
   "metadata": {},
   "outputs": [],
   "source": [
    "a = np.array([[0], [10], [20], [30]])\n",
    "b = np.array([[0, 1, 2]])\n",
    "print(a)\n",
    "print(b)\n",
    "print(a+b)\n",
    "print(a*b)\n"
   ]
  },
  {
   "cell_type": "markdown",
   "metadata": {},
   "source": [
    "Using broadcasting with `None`, which specifies which of the axis will be expanded during broadcasting, can be more convenient than using `reshape()` or `transpose()`."
   ]
  },
  {
   "cell_type": "code",
   "execution_count": null,
   "metadata": {},
   "outputs": [],
   "source": [
    "import numpy as np\n",
    "a = np.array([1,2,3])\n",
    "b = np.array([4,5,6,7])\n",
    "print(a[None, :])\n",
    "print(b[:, None])\n",
    "a[None, :] - b[:, None]"
   ]
  },
  {
   "cell_type": "markdown",
   "metadata": {},
   "source": [
    "Using Broadcasting to set array element"
   ]
  },
  {
   "cell_type": "code",
   "execution_count": null,
   "metadata": {},
   "outputs": [],
   "source": [
    "a = np.ones((4, 5))\n",
    "a[0] = 2  # we assign an array of dimension 0 to an array of dimension \n",
    "print(a) #array([[ 2.,  2.,  2.,  2.,  2.], \n",
    "         #       [ 1.,  1.,  1.,  1.,  1.],\n",
    "         #       [ 1.,  1.,  1.,  1.,  1.],\n",
    "         #       [ 1.,  1.,  1.,  1.,  1.]])"
   ]
  }
 ],
 "metadata": {
  "kernelspec": {
   "display_name": "Python 3",
   "language": "python",
   "name": "python3"
  },
  "language_info": {
   "codemirror_mode": {
    "name": "ipython",
    "version": 3
   },
   "file_extension": ".py",
   "mimetype": "text/x-python",
   "name": "python",
   "nbconvert_exporter": "python",
   "pygments_lexer": "ipython3",
   "version": "3.7.2"
  }
 },
 "nbformat": 4,
 "nbformat_minor": 2
}
