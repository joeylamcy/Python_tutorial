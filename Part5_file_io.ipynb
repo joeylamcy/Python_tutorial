{
 "cells": [
  {
   "cell_type": "markdown",
   "metadata": {},
   "source": [
    "# File inputs and outputs\n",
    "Suppose you want to read or write a text/binary file in your script, you will need the following functions to help you:\n",
    "- open(*filename* \\[, *access_mode*\\]): Opens a file with the given *filename* under an access mode, e.g. \"r\" means read-only access, \"w\" means write-only access, and return the file object.\n",
    "\n",
    "Syntax: \n",
    "```Python\n",
    "fileObject = open(filename) # By default the access is read-only\n",
    "```\n",
    "- *fileObject*.read(*number*): Read the *number* of characters in the file (referenced by the file object).\n",
    "- *fileObject*.readline( ): Read one line from the file and move to the next line.\n",
    "- *fileObject*.write(*string*): Write the *string* to file.\n",
    "- *fileObject*.close( ): Close the file.\n",
    "\n",
    "These functions should have similar functionality in different languages, so you probably have learnt them before, and we will skip the details here."
   ]
  },
  {
   "cell_type": "markdown",
   "metadata": {},
   "source": [
    "# Working with NetCDF files"
   ]
  },
  {
   "cell_type": "markdown",
   "metadata": {},
   "source": [
    "**In atmospheric science, we have a special data file format called NetCDF (.nc).** This specially designed data file format allows gridded atmospheric data to be saved easily with attributes and coordinates attached to each of the variables. However, we cannot read them using the standard way described above. The good news is someone has already written relevant modules to allow users to read/write .nc files relatively easily."
   ]
  },
  {
   "cell_type": "markdown",
   "metadata": {},
   "source": [
    "Before we can deal with those files, we need some extra packages (modules). New packages can be easily installed when creating a new conda environment. I have provided the [environment.yml](./environment.yml) file, which specifies a list of packages to be used.\n",
    "\n",
    "**In terminal (for Mac)/Anaconda prompt (for Windows), type**\n",
    "``` \n",
    "conda env create -vv -n earth -f ./environment.yml\n",
    "```\n",
    "This will automatically install the relevant packages that you will need in this part and next part. Make sure you have **internet connection** while you do this."
   ]
  },
  {
   "cell_type": "code",
   "execution_count": null,
   "metadata": {},
   "outputs": [],
   "source": [
    "import xarray as xr"
   ]
  },
  {
   "cell_type": "code",
   "execution_count": null,
   "metadata": {},
   "outputs": [],
   "source": [
    "ds = xr.open_dataset('')\n",
    "print(type(ds))\n",
    "print(ds)"
   ]
  },
  {
   "cell_type": "markdown",
   "metadata": {},
   "source": [
    "## Extracting a variable"
   ]
  },
  {
   "cell_type": "code",
   "execution_count": null,
   "metadata": {},
   "outputs": [],
   "source": [
    "dr = ds['']\n",
    "print(type(dr))\n",
    "print(dr)"
   ]
  },
  {
   "cell_type": "code",
   "execution_count": null,
   "metadata": {},
   "outputs": [],
   "source": []
  }
 ],
 "metadata": {
  "kernelspec": {
   "display_name": "Python 3",
   "language": "python",
   "name": "python3"
  },
  "language_info": {
   "codemirror_mode": {
    "name": "ipython",
    "version": 3
   },
   "file_extension": ".py",
   "mimetype": "text/x-python",
   "name": "python",
   "nbconvert_exporter": "python",
   "pygments_lexer": "ipython3",
   "version": "3.6.5"
  }
 },
 "nbformat": 4,
 "nbformat_minor": 2
}
