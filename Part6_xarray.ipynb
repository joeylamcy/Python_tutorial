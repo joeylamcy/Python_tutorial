{
 "cells": [
  {
   "cell_type": "markdown",
   "metadata": {},
   "source": [
    "# Working with NetCDF files"
   ]
  },
  {
   "cell_type": "markdown",
   "metadata": {},
   "source": [
    "**In atmospheric science, we have a special data file format called NetCDF (.nc).** This specially designed data file format allows gridded atmospheric data to be saved easily with attributes and coordinates attached to each of the variables. Before we learn how to process them, let's take a quick look on how Python handle files. "
   ]
  },
  {
   "cell_type": "markdown",
   "metadata": {},
   "source": [
    "## General idea on file inputs and outputs\n",
    "Suppose you want to read or write a text/binary file in your script, you will need the following functions to help you:\n",
    "- open(*filename* \\[, *access_mode*\\]): Opens a file with the given *filename* under an access mode, e.g. \"r\" means read-only access, \"w\" means write-only access, and return the file object.\n",
    "\n",
    "Syntax: \n",
    "```Python\n",
    "fileObject = open(filename) # By default the access is read-only\n",
    "```\n",
    "- *fileObject*.read(*number*): Read the *number* of characters in the file (referenced by the file object).\n",
    "- *fileObject*.readline( ): Read one line from the file and move to the next line.\n",
    "- *fileObject*.write(*string*): Write the *string* to file.\n",
    "- *fileObject*.close( ): Close the file.\n",
    "\n",
    "These functions should have similar functionality in different languages, so you probably have learnt them before, and we will skip the details here."
   ]
  },
  {
   "cell_type": "markdown",
   "metadata": {},
   "source": [
    "## Using xarray to process NetCDF files\n",
    "NetCDF files cannot be easily read using the default methods above. However, the good news is someone has already written relevant modules to allow users to read/write .nc files relatively easily. These packages can be easily installed when creating a new conda environment. I have provided the [environment.txt](./environment.txt) file, which specifies a list of packages to be used. Follow the installation guide for [Mac](./pre_lab_installation_guide_mac.md#Install-conda-environment-for-extra-packages)/[Windows](./pre_lab_installation_guide_Windows.md#Install-conda-environment-for-extra-packages) to install them.\n",
    "\n",
    "\n",
    "The module we are going to use is called \"xarray\"."
   ]
  },
  {
   "cell_type": "markdown",
   "metadata": {},
   "source": [
    "### Input from NetCDF files"
   ]
  },
  {
   "cell_type": "code",
   "execution_count": 1,
   "metadata": {
    "scrolled": false
   },
   "outputs": [],
   "source": [
    "# import library to read .nc files\n",
    "import xarray as xr\n",
    "# You can check that this can only be done inside the environment, but not outside."
   ]
  },
  {
   "cell_type": "code",
   "execution_count": 2,
   "metadata": {
    "scrolled": true
   },
   "outputs": [
    {
     "name": "stdout",
     "output_type": "stream",
     "text": [
      "<class 'xarray.core.dataset.Dataset'>\n",
      "<xarray.Dataset>\n",
      "Dimensions:  (lat: 73, level: 4, lon: 144, time: 28)\n",
      "Coordinates:\n",
      "  * time     (time) datetime64[ns] 2017-06-09 ... 2017-06-15T18:00:00\n",
      "  * level    (level) float32 1000.0 850.0 500.0 200.0\n",
      "  * lat      (lat) float32 90.0 87.5 85.0 82.5 80.0 ... -82.5 -85.0 -87.5 -90.0\n",
      "  * lon      (lon) float32 0.0 2.5 5.0 7.5 10.0 ... 350.0 352.5 355.0 357.5\n",
      "Data variables:\n",
      "    temp     (time, level, lat, lon) float32 ...\n",
      "    hgt      (time, level, lat, lon) float32 ...\n",
      "    uwnd     (time, level, lat, lon) float32 ...\n",
      "    vwnd     (time, level, lat, lon) float32 ...\n",
      "    tempsfc  (time, lat, lon) float32 ...\n",
      "    slp      (time, lat, lon) float32 ...\n",
      "    uwndsfc  (time, lat, lon) float32 ...\n",
      "    vwndsfc  (time, lat, lon) float32 ...\n",
      "Attributes:\n",
      "    Attribute1:  This attribute is manually added.\n",
      "    Attribute2:  This attribute has no meaning.\n"
     ]
    }
   ],
   "source": [
    "# Open the dataset using the library\n",
    "ds = xr.open_dataset('./misc/sample_data.nc')\n",
    "print(type(ds)) # Note that this is a class called Dataset\n",
    "print(ds)"
   ]
  },
  {
   "cell_type": "markdown",
   "metadata": {},
   "source": [
    "Here we have just opened our data file, and `ds` is an xarray Dataset object (hereafter **Dataset**). It contains all information of a NetCDF file. To use it, just think of `ds` as a dictionary, and apply the dictionary syntax (recall [Part 1: Dictionary](./Part1_Basic_Syntax.ipynb#How-to-access-values-in-a-dictionary) ):\n",
    "```\n",
    "value = dictionary['key']\n",
    "```\n",
    "where the *key* is the name of variable here."
   ]
  },
  {
   "cell_type": "markdown",
   "metadata": {},
   "source": [
    "*Note: There is another function called `open_mfdataset()`, which allows you to open multiple .nc files.*"
   ]
  },
  {
   "cell_type": "markdown",
   "metadata": {},
   "source": [
    "### Extracting a variable\n",
    "Let's get the temperature variable `temp` from the dataset. "
   ]
  },
  {
   "cell_type": "code",
   "execution_count": 3,
   "metadata": {
    "scrolled": false
   },
   "outputs": [
    {
     "name": "stdout",
     "output_type": "stream",
     "text": [
      "<class 'xarray.core.dataarray.DataArray'>\n",
      "<xarray.DataArray 'temp' (time: 28, level: 4, lat: 73, lon: 144)>\n",
      "[1177344 values with dtype=float32]\n",
      "Coordinates:\n",
      "  * time     (time) datetime64[ns] 2017-06-09 ... 2017-06-15T18:00:00\n",
      "  * level    (level) float32 1000.0 850.0 500.0 200.0\n",
      "  * lat      (lat) float32 90.0 87.5 85.0 82.5 80.0 ... -82.5 -85.0 -87.5 -90.0\n",
      "  * lon      (lon) float32 0.0 2.5 5.0 7.5 10.0 ... 350.0 352.5 355.0 357.5\n",
      "Attributes:\n",
      "    long_name:     4xDaily Air temperature\n",
      "    units:         degK\n",
      "    precision:     2\n",
      "    GRIB_id:       11\n",
      "    GRIB_name:     TMP\n",
      "    var_desc:      Air temperature\n",
      "    level_desc:    Multiple levels\n",
      "    statistic:     Individual Obs\n",
      "    parent_stat:   Other\n",
      "    valid_range:   [150. 350.]\n",
      "    dataset:       NCEP Reanalysis\n",
      "    actual_range:  [195.69998 324.6    ]\n"
     ]
    }
   ],
   "source": [
    "da = ds['temp']\n",
    "print(type(da)) # Note that this is a class called DataArray\n",
    "print(da)"
   ]
  },
  {
   "cell_type": "markdown",
   "metadata": {},
   "source": [
    "`da` is an xarray DataArray object (hereafter **DataArray**), which behaves like a NumPy array. Therefore you can use NumPy syntax to operate on this array (Learn them here: [Part 1b: NumPy Arrays](./Part1b_NumPy_Arrays.ipynb) or ask Google). However, it is functionally more than just NumPy array. You will see that there are **attributes** (sometimes called metadata) and **coordinates** attached to this object (Recall [Part 4: Objects](./Part4_OOP.ipynb#Attributes-and-Methods)). (You may also look at the attributes and coordinates of a **Dataset**.)"
   ]
  },
  {
   "cell_type": "markdown",
   "metadata": {},
   "source": [
    "### Output to netCDF files\n",
    "You may want to save a **Dataset** or **DataArray** to a netCDF file. They can be saved in a similar fashion.\n",
    "\n",
    "**Syntax:**\n",
    "```\n",
    "DatasetObject.to_netcdf(filename)\n",
    "DataArrayObject.to_netcdf(filename)\n",
    "```"
   ]
  },
  {
   "cell_type": "code",
   "execution_count": 4,
   "metadata": {
    "scrolled": true
   },
   "outputs": [
    {
     "name": "stdout",
     "output_type": "stream",
     "text": [
      "Example.ipynb                         README.md\r\n",
      "Exercise.md                           dataarray_to_nc.nc\r\n",
      "Part0_Introduction.md                 dataset_to_nc.nc\r\n",
      "Part1_Basic_Syntax.ipynb              environment.txt\r\n",
      "Part1b_NumPy_Array.ipynb              \u001b[1m\u001b[34mimages\u001b[m\u001b[m\r\n",
      "Part2_Writing_Script.ipynb            \u001b[1m\u001b[34mmisc\u001b[m\u001b[m\r\n",
      "Part3_Flow_Control.ipynb              new_temp.nc\r\n",
      "Part4_OOP.ipynb                       pre_lab_installation_guide_Windows.md\r\n",
      "Part5_Plotting.ipynb                  pre_lab_installation_guide_mac.md\r\n",
      "Part5b_Advanced_Plotting.ipynb        sample_plot.png\r\n",
      "Part6_xarray.ipynb\r\n"
     ]
    }
   ],
   "source": [
    "# Example\n",
    "ds.to_netcdf('dataset_to_nc.nc')\n",
    "da.to_netcdf('dataarray_to_nc.nc')\n",
    "# list all files to see the .nc you just saved\n",
    "!ls # Windows users please replace this by !dir"
   ]
  },
  {
   "cell_type": "markdown",
   "metadata": {},
   "source": [
    "## Attributes\n",
    "Suppose you want to access the attributes."
   ]
  },
  {
   "cell_type": "code",
   "execution_count": 5,
   "metadata": {},
   "outputs": [
    {
     "name": "stdout",
     "output_type": "stream",
     "text": [
      "OrderedDict([('long_name', '4xDaily Air temperature'), ('units', 'degK'), ('precision', 2), ('GRIB_id', 11), ('GRIB_name', 'TMP'), ('var_desc', 'Air temperature'), ('level_desc', 'Multiple levels'), ('statistic', 'Individual Obs'), ('parent_stat', 'Other'), ('valid_range', array([150., 350.], dtype=float32)), ('dataset', 'NCEP Reanalysis'), ('actual_range', array([195.69998, 324.6    ], dtype=float32))])\n"
     ]
    }
   ],
   "source": [
    "print(da.attrs) \n",
    "# Note that these are attributes, not methods, so you don't need a pair of brackets after .attrs"
   ]
  },
  {
   "cell_type": "code",
   "execution_count": 6,
   "metadata": {
    "scrolled": false
   },
   "outputs": [
    {
     "name": "stdout",
     "output_type": "stream",
     "text": [
      "OrderedDict([('long_name', '4xDaily Air temperature'), ('units', 'degK'), ('precision', 2), ('GRIB_id', 11), ('GRIB_name', 'TMP'), ('var_desc', 'Air temperature'), ('level_desc', 'Multiple levels'), ('statistic', 'Individual Obs'), ('parent_stat', 'Other'), ('valid_range', array([150., 350.], dtype=float32)), ('dataset', 'NCEP Reanalysis'), ('actual_range', array([195.69998, 324.6    ], dtype=float32))])\n"
     ]
    }
   ],
   "source": [
    "print(da.attrs)"
   ]
  },
  {
   "cell_type": "markdown",
   "metadata": {},
   "source": [
    "This is again a dictionary. Again you can use the dictionary syntax for accessing and modifying the attributes."
   ]
  },
  {
   "cell_type": "code",
   "execution_count": 7,
   "metadata": {
    "scrolled": false
   },
   "outputs": [
    {
     "name": "stdout",
     "output_type": "stream",
     "text": [
      "4xDaily Air temperature\n"
     ]
    }
   ],
   "source": [
    "# Example for accessing attributes\n",
    "print(da.attrs['long_name'])"
   ]
  },
  {
   "cell_type": "code",
   "execution_count": 8,
   "metadata": {
    "scrolled": false
   },
   "outputs": [
    {
     "name": "stdout",
     "output_type": "stream",
     "text": [
      "OrderedDict([('long_name', '4xDaily Air temperature'), ('units', 'degK'), ('precision', 2), ('GRIB_id', 11), ('GRIB_name', 'TMP'), ('var_desc', 'Air temperature'), ('level_desc', 'Multiple levels'), ('statistic', 'Individual Obs'), ('parent_stat', 'Other'), ('valid_range', array([150., 350.], dtype=float32)), ('dataset', 'NCEP Reanalysis'), ('actual_range', array([195.69998, 324.6    ], dtype=float32)), ('new_attribute', 'This attribute has no meaning.')])\n"
     ]
    }
   ],
   "source": [
    "# Example for adding new attribute\n",
    "da.attrs['new_attribute'] = 'This attribute has no meaning.'\n",
    "print(da.attrs)"
   ]
  },
  {
   "cell_type": "markdown",
   "metadata": {},
   "source": [
    "Suppose you want to change the unit from K to $^\\circ$C. Then you will need to subtract the whole array by 273.15 and also change the *units* in attribute."
   ]
  },
  {
   "cell_type": "code",
   "execution_count": 9,
   "metadata": {
    "scrolled": true
   },
   "outputs": [
    {
     "name": "stdout",
     "output_type": "stream",
     "text": [
      "<xarray.DataArray 'temp' (time: 28, level: 4, lat: 73, lon: 144)>\n",
      "array([[[[ -0.837494, ...,  -0.837494],\n",
      "         ...,\n",
      "         [-48.649994, ..., -48.649994]],\n",
      "\n",
      "        ...,\n",
      "\n",
      "        [[-48.274994, ..., -48.274994],\n",
      "         ...,\n",
      "         [-70.649994, ..., -70.649994]]],\n",
      "\n",
      "\n",
      "       ...,\n",
      "\n",
      "\n",
      "       [[[  3.537506, ...,   3.537506],\n",
      "         ...,\n",
      "         [-37.524994, ..., -37.524994]],\n",
      "\n",
      "        ...,\n",
      "\n",
      "        [[-49.524994, ..., -49.524994],\n",
      "         ...,\n",
      "         [-71.462494, ..., -71.462494]]]], dtype=float32)\n",
      "Coordinates:\n",
      "  * time     (time) datetime64[ns] 2017-06-09 ... 2017-06-15T18:00:00\n",
      "  * level    (level) float32 1000.0 850.0 500.0 200.0\n",
      "  * lat      (lat) float32 90.0 87.5 85.0 82.5 80.0 ... -82.5 -85.0 -87.5 -90.0\n",
      "  * lon      (lon) float32 0.0 2.5 5.0 7.5 10.0 ... 350.0 352.5 355.0 357.5\n"
     ]
    }
   ],
   "source": [
    "# Example for modifying attrbutes\n",
    "da_degC = da - 273.15\n",
    "print(da_degC)"
   ]
  },
  {
   "cell_type": "markdown",
   "metadata": {},
   "source": [
    "For whatever reason, the attributes won't be copied automatically to the new array. Let's do it manually"
   ]
  },
  {
   "cell_type": "code",
   "execution_count": 10,
   "metadata": {
    "scrolled": true
   },
   "outputs": [
    {
     "name": "stdout",
     "output_type": "stream",
     "text": [
      "<xarray.DataArray 'temp' (time: 28, level: 4, lat: 73, lon: 144)>\n",
      "array([[[[ -0.837494, ...,  -0.837494],\n",
      "         ...,\n",
      "         [-48.649994, ..., -48.649994]],\n",
      "\n",
      "        ...,\n",
      "\n",
      "        [[-48.274994, ..., -48.274994],\n",
      "         ...,\n",
      "         [-70.649994, ..., -70.649994]]],\n",
      "\n",
      "\n",
      "       ...,\n",
      "\n",
      "\n",
      "       [[[  3.537506, ...,   3.537506],\n",
      "         ...,\n",
      "         [-37.524994, ..., -37.524994]],\n",
      "\n",
      "        ...,\n",
      "\n",
      "        [[-49.524994, ..., -49.524994],\n",
      "         ...,\n",
      "         [-71.462494, ..., -71.462494]]]], dtype=float32)\n",
      "Coordinates:\n",
      "  * time     (time) datetime64[ns] 2017-06-09 ... 2017-06-15T18:00:00\n",
      "  * level    (level) float32 1000.0 850.0 500.0 200.0\n",
      "  * lat      (lat) float32 90.0 87.5 85.0 82.5 80.0 ... -82.5 -85.0 -87.5 -90.0\n",
      "  * lon      (lon) float32 0.0 2.5 5.0 7.5 10.0 ... 350.0 352.5 355.0 357.5\n",
      "Attributes:\n",
      "    long_name:      4xDaily Air temperature\n",
      "    units:          degC\n",
      "    precision:      2\n",
      "    GRIB_id:        11\n",
      "    GRIB_name:      TMP\n",
      "    var_desc:       Air temperature\n",
      "    level_desc:     Multiple levels\n",
      "    statistic:      Individual Obs\n",
      "    parent_stat:    Other\n",
      "    valid_range:    [150. 350.]\n",
      "    dataset:        NCEP Reanalysis\n",
      "    actual_range:   [195.69998 324.6    ]\n",
      "    new_attribute:  This attribute has no meaning.\n"
     ]
    }
   ],
   "source": [
    "da_degC.attrs = da.attrs \n",
    "# Now we change the 'units' in attributes\n",
    "da_degC.attrs['units'] = 'degC'\n",
    "print(da_degC)\n",
    "# You can see that the 'valid range' and 'actual range' should also be changed. \n",
    "# I changed the 'units' only for demonstration purpose."
   ]
  },
  {
   "cell_type": "markdown",
   "metadata": {},
   "source": [
    "## Coordinates\n",
    "You may access the coordinates from either the **Dataset** or the **DataArray**, again using dictionary syntax."
   ]
  },
  {
   "cell_type": "code",
   "execution_count": 11,
   "metadata": {
    "scrolled": true
   },
   "outputs": [
    {
     "name": "stdout",
     "output_type": "stream",
     "text": [
      "<xarray.DataArray 'lat' (lat: 73)>\n",
      "array([ 90. ,  87.5,  85. ,  82.5,  80. ,  77.5,  75. ,  72.5,  70. ,  67.5,\n",
      "        65. ,  62.5,  60. ,  57.5,  55. ,  52.5,  50. ,  47.5,  45. ,  42.5,\n",
      "        40. ,  37.5,  35. ,  32.5,  30. ,  27.5,  25. ,  22.5,  20. ,  17.5,\n",
      "        15. ,  12.5,  10. ,   7.5,   5. ,   2.5,   0. ,  -2.5,  -5. ,  -7.5,\n",
      "       -10. , -12.5, -15. , -17.5, -20. , -22.5, -25. , -27.5, -30. , -32.5,\n",
      "       -35. , -37.5, -40. , -42.5, -45. , -47.5, -50. , -52.5, -55. , -57.5,\n",
      "       -60. , -62.5, -65. , -67.5, -70. , -72.5, -75. , -77.5, -80. , -82.5,\n",
      "       -85. , -87.5, -90. ], dtype=float32)\n",
      "Coordinates:\n",
      "  * lat      (lat) float32 90.0 87.5 85.0 82.5 80.0 ... -82.5 -85.0 -87.5 -90.0\n",
      "Attributes:\n",
      "    units:          degrees_north\n",
      "    long_name:      Latitude\n",
      "    standard_name:  latitude\n",
      "    axis:           Y\n",
      "    actual_range:   [ 90. -90.]\n"
     ]
    }
   ],
   "source": [
    "print(ds.coords['lat'])"
   ]
  },
  {
   "cell_type": "code",
   "execution_count": 12,
   "metadata": {
    "scrolled": false
   },
   "outputs": [
    {
     "name": "stdout",
     "output_type": "stream",
     "text": [
      "<xarray.DataArray 'lat' (lat: 73)>\n",
      "array([ 90. ,  87.5,  85. ,  82.5,  80. ,  77.5,  75. ,  72.5,  70. ,  67.5,\n",
      "        65. ,  62.5,  60. ,  57.5,  55. ,  52.5,  50. ,  47.5,  45. ,  42.5,\n",
      "        40. ,  37.5,  35. ,  32.5,  30. ,  27.5,  25. ,  22.5,  20. ,  17.5,\n",
      "        15. ,  12.5,  10. ,   7.5,   5. ,   2.5,   0. ,  -2.5,  -5. ,  -7.5,\n",
      "       -10. , -12.5, -15. , -17.5, -20. , -22.5, -25. , -27.5, -30. , -32.5,\n",
      "       -35. , -37.5, -40. , -42.5, -45. , -47.5, -50. , -52.5, -55. , -57.5,\n",
      "       -60. , -62.5, -65. , -67.5, -70. , -72.5, -75. , -77.5, -80. , -82.5,\n",
      "       -85. , -87.5, -90. ], dtype=float32)\n",
      "Coordinates:\n",
      "  * lat      (lat) float32 90.0 87.5 85.0 82.5 80.0 ... -82.5 -85.0 -87.5 -90.0\n",
      "Attributes:\n",
      "    units:          degrees_north\n",
      "    long_name:      Latitude\n",
      "    standard_name:  latitude\n",
      "    axis:           Y\n",
      "    actual_range:   [ 90. -90.]\n"
     ]
    }
   ],
   "source": [
    "print(da.coords['lat'])"
   ]
  },
  {
   "cell_type": "code",
   "execution_count": 13,
   "metadata": {
    "scrolled": false
   },
   "outputs": [
    {
     "data": {
      "text/plain": [
       "True"
      ]
     },
     "execution_count": 13,
     "metadata": {},
     "output_type": "execute_result"
    }
   ],
   "source": [
    "# You may check to see if they are identical or not.\n",
    "all(ds.coords['lat'] == da.coords['lat']) "
   ]
  },
  {
   "cell_type": "markdown",
   "metadata": {},
   "source": [
    "And once again, each of the coordinates itself is an **DataArray**, so you may want to [revisit the syntax again](#Extracting-a-variable)."
   ]
  },
  {
   "cell_type": "markdown",
   "metadata": {},
   "source": [
    "## Commonly used functions\n",
    "Commonly used functions/methods include: \n",
    "- `all()`, `any()`, `floor()`, `ceil()` (Python pre-defined functions)\n",
    "- `sqrt()`,`sin()`, `cos()`, `tan()`, `exp()`, `log()`, `log10()`, `isnan()`, `isinf()`, `isfinite()` (NumPy functions)\n",
    "- `max()`, `min()`, `mean()`, `median()`, `sum()`, `std()`, `var()`, `cumsum()`, `where()`, `isin()` (DataArray methods)\n",
    "\n",
    "Here we highlight the usage of a few DataArray methods."
   ]
  },
  {
   "cell_type": "code",
   "execution_count": 14,
   "metadata": {},
   "outputs": [
    {
     "name": "stdout",
     "output_type": "stream",
     "text": [
      "<xarray.DataArray 'lat' (lat: 73)>\n",
      "array([False, False, False, False, False, False, False, False, False, False,\n",
      "       False, False, False, False, False, False, False, False, False, False,\n",
      "       False, False,  True, False,  True, False, False, False, False, False,\n",
      "       False, False, False, False, False, False, False, False, False, False,\n",
      "       False, False, False, False, False, False, False, False, False, False,\n",
      "       False, False, False, False, False, False, False, False, False, False,\n",
      "       False, False, False, False, False, False, False, False, False, False,\n",
      "       False, False, False])\n",
      "Coordinates:\n",
      "  * lat      (lat) float32 90.0 87.5 85.0 82.5 80.0 ... -82.5 -85.0 -87.5 -90.0\n"
     ]
    }
   ],
   "source": [
    "# Check whether the input elements exist in the DataArray\n",
    "print(da.coords['lat'].isin([30,31,32,33,34,35]))"
   ]
  },
  {
   "cell_type": "code",
   "execution_count": 15,
   "metadata": {
    "scrolled": true
   },
   "outputs": [
    {
     "name": "stdout",
     "output_type": "stream",
     "text": [
      "<xarray.DataArray (time: 28, level: 4, lat: 24, lon: 144)>\n",
      "array([[[[272.3125, ..., 272.3125],\n",
      "         ...,\n",
      "         [304.375 , ..., 305.    ]],\n",
      "\n",
      "        ...,\n",
      "\n",
      "        [[224.875 , ..., 224.875 ],\n",
      "         ...,\n",
      "         [215.375 , ..., 215.    ]]],\n",
      "\n",
      "\n",
      "       ...,\n",
      "\n",
      "\n",
      "       [[[276.6875, ..., 276.6875],\n",
      "         ...,\n",
      "         [313.8125, ..., 314.3125]],\n",
      "\n",
      "        ...,\n",
      "\n",
      "        [[223.625 , ..., 223.625 ],\n",
      "         ...,\n",
      "         [216.125 , ..., 216.8125]]]], dtype=float32)\n",
      "Coordinates:\n",
      "  * time     (time) datetime64[ns] 2017-06-09 ... 2017-06-15T18:00:00\n",
      "  * level    (level) float32 1000.0 850.0 500.0 200.0\n",
      "  * lat      (lat) float32 90.0 87.5 85.0 82.5 80.0 ... 42.5 40.0 37.5 35.0 32.5\n",
      "  * lon      (lon) float32 0.0 2.5 5.0 7.5 10.0 ... 350.0 352.5 355.0 357.5\n",
      "Attributes:\n",
      "    long_name:      4xDaily Air temperature\n",
      "    units:          degK\n",
      "    precision:      2\n",
      "    GRIB_id:        11\n",
      "    GRIB_name:      TMP\n",
      "    var_desc:       Air temperature\n",
      "    level_desc:     Multiple levels\n",
      "    statistic:      Individual Obs\n",
      "    parent_stat:    Other\n",
      "    valid_range:    [150. 350.]\n",
      "    dataset:        NCEP Reanalysis\n",
      "    actual_range:   [195.69998 324.6    ]\n",
      "    new_attribute:  This attribute has no meaning.\n"
     ]
    }
   ],
   "source": [
    "# Grabs the DataArray with latitude > 30N\n",
    "print(da.where(da.coords['lat']>30, drop=True))"
   ]
  },
  {
   "cell_type": "code",
   "execution_count": 16,
   "metadata": {
    "scrolled": true
   },
   "outputs": [
    {
     "name": "stdout",
     "output_type": "stream",
     "text": [
      "<xarray.DataArray 'temp' (time: 28, level: 4)>\n",
      "array([[281.39578, 275.18787, 253.85814, 218.18857],\n",
      "       [281.6146 , 275.21237, 253.89842, 218.38457],\n",
      "       [282.10748, 275.5162 , 253.957  , 218.11581],\n",
      "       [281.88086, 275.44775, 254.00067, 218.22134],\n",
      "       [281.5681 , 275.57022, 254.05455, 217.926  ],\n",
      "       [281.93692, 275.67026, 254.02376, 218.09975],\n",
      "       [282.469  , 276.03195, 254.12134, 218.0158 ],\n",
      "       [282.35092, 276.04654, 254.11916, 218.13075],\n",
      "       [282.12708, 276.15933, 254.17697, 217.94223],\n",
      "       [282.29614, 276.01248, 254.18707, 218.18422],\n",
      "       [282.5739 , 276.1026 , 254.26439, 217.99544],\n",
      "       [282.31952, 275.95047, 254.22838, 218.18091],\n",
      "       [282.11438, 276.0245 , 254.17963, 218.11572],\n",
      "       [282.18927, 275.77277, 254.09247, 218.37453],\n",
      "       [282.5047 , 275.84613, 254.0733 , 218.168  ],\n",
      "       [282.1721 , 275.69055, 254.09465, 218.3844 ],\n",
      "       [281.88623, 275.59415, 254.05417, 218.28963],\n",
      "       [282.04572, 275.4961 , 253.99966, 218.4629 ],\n",
      "       [282.4591 , 275.74057, 254.07039, 218.32875],\n",
      "       [282.22064, 275.72974, 254.14272, 218.48093],\n",
      "       [281.8759 , 275.74725, 254.14621, 218.20377],\n",
      "       [282.20538, 275.7201 , 254.10559, 218.44566],\n",
      "       [282.58804, 275.95178, 254.2144 , 218.26912],\n",
      "       [282.44803, 275.91708, 254.25647, 218.35272],\n",
      "       [282.09756, 275.91092, 254.34235, 218.03299],\n",
      "       [282.43002, 275.86935, 254.27695, 218.26361],\n",
      "       [282.70984, 275.94803, 254.38696, 218.1746 ],\n",
      "       [282.5866 , 275.89517, 254.38504, 218.25742]], dtype=float32)\n",
      "Coordinates:\n",
      "  * time     (time) datetime64[ns] 2017-06-09 ... 2017-06-15T18:00:00\n",
      "  * level    (level) float32 1000.0 850.0 500.0 200.0\n"
     ]
    }
   ],
   "source": [
    "# zonal and meridional average\n",
    "print(da.mean(dim=['lat','lon']))"
   ]
  },
  {
   "cell_type": "markdown",
   "metadata": {},
   "source": [
    "## Index slicing\n",
    "As mentioned above, you can apply (most of) NumPy syntax, e.g. index slicing, on **DataArray**."
   ]
  },
  {
   "cell_type": "code",
   "execution_count": 17,
   "metadata": {
    "scrolled": true
   },
   "outputs": [
    {
     "name": "stdout",
     "output_type": "stream",
     "text": [
      "<xarray.DataArray 'temp' (time: 28, level: 4, lat: 73, lon: 144)>\n",
      "array([[[[272.3125, ..., 272.3125],\n",
      "         ...,\n",
      "         [224.5   , ..., 224.5   ]],\n",
      "\n",
      "        ...,\n",
      "\n",
      "        [[224.875 , ..., 224.875 ],\n",
      "         ...,\n",
      "         [202.5   , ..., 202.5   ]]],\n",
      "\n",
      "\n",
      "       ...,\n",
      "\n",
      "\n",
      "       [[[276.6875, ..., 276.6875],\n",
      "         ...,\n",
      "         [235.625 , ..., 235.625 ]],\n",
      "\n",
      "        ...,\n",
      "\n",
      "        [[223.625 , ..., 223.625 ],\n",
      "         ...,\n",
      "         [201.6875, ..., 201.6875]]]], dtype=float32)\n",
      "Coordinates:\n",
      "  * time     (time) datetime64[ns] 2017-06-09 ... 2017-06-15T18:00:00\n",
      "  * level    (level) float32 1000.0 850.0 500.0 200.0\n",
      "  * lat      (lat) float32 90.0 87.5 85.0 82.5 80.0 ... -82.5 -85.0 -87.5 -90.0\n",
      "  * lon      (lon) float32 0.0 2.5 5.0 7.5 10.0 ... 350.0 352.5 355.0 357.5\n",
      "Attributes:\n",
      "    long_name:      4xDaily Air temperature\n",
      "    units:          degK\n",
      "    precision:      2\n",
      "    GRIB_id:        11\n",
      "    GRIB_name:      TMP\n",
      "    var_desc:       Air temperature\n",
      "    level_desc:     Multiple levels\n",
      "    statistic:      Individual Obs\n",
      "    parent_stat:    Other\n",
      "    valid_range:    [150. 350.]\n",
      "    dataset:        NCEP Reanalysis\n",
      "    actual_range:   [195.69998 324.6    ]\n",
      "    new_attribute:  This attribute has no meaning.\n"
     ]
    }
   ],
   "source": [
    "# Let's look at the temperature data again\n",
    "print(da)"
   ]
  },
  {
   "cell_type": "markdown",
   "metadata": {},
   "source": [
    "Suppose you want the values for the lowest model level, in this case 1000hPa."
   ]
  },
  {
   "cell_type": "code",
   "execution_count": 18,
   "metadata": {
    "scrolled": true
   },
   "outputs": [
    {
     "name": "stdout",
     "output_type": "stream",
     "text": [
      "<xarray.DataArray 'temp' (time: 28, lat: 73, lon: 144)>\n",
      "array([[[272.3125, 272.3125, ..., 272.3125, 272.3125],\n",
      "        [270.125 , 270.125 , ..., 270.125 , 270.125 ],\n",
      "        ...,\n",
      "        [224.    , 223.625 , ..., 224.625 , 224.3125],\n",
      "        [224.5   , 224.5   , ..., 224.5   , 224.5   ]],\n",
      "\n",
      "       [[272.875 , 272.875 , ..., 272.875 , 272.875 ],\n",
      "        [270.875 , 270.875 , ..., 270.8125, 270.8125],\n",
      "        ...,\n",
      "        [224.3125, 223.875 , ..., 225.125 , 224.6875],\n",
      "        [225.125 , 225.125 , ..., 225.125 , 225.125 ]],\n",
      "\n",
      "       ...,\n",
      "\n",
      "       [[275.6875, 275.6875, ..., 275.6875, 275.6875],\n",
      "        [273.875 , 273.875 , ..., 273.8125, 273.875 ],\n",
      "        ...,\n",
      "        [232.625 , 232.1875, ..., 233.375 , 233.    ],\n",
      "        [237.5   , 237.5   , ..., 237.5   , 237.5   ]],\n",
      "\n",
      "       [[276.6875, 276.6875, ..., 276.6875, 276.6875],\n",
      "        [275.125 , 275.125 , ..., 275.125 , 275.125 ],\n",
      "        ...,\n",
      "        [231.1875, 230.8125, ..., 232.    , 231.625 ],\n",
      "        [235.625 , 235.625 , ..., 235.625 , 235.625 ]]], dtype=float32)\n",
      "Coordinates:\n",
      "  * time     (time) datetime64[ns] 2017-06-09 ... 2017-06-15T18:00:00\n",
      "    level    float32 1000.0\n",
      "  * lat      (lat) float32 90.0 87.5 85.0 82.5 80.0 ... -82.5 -85.0 -87.5 -90.0\n",
      "  * lon      (lon) float32 0.0 2.5 5.0 7.5 10.0 ... 350.0 352.5 355.0 357.5\n",
      "Attributes:\n",
      "    long_name:      4xDaily Air temperature\n",
      "    units:          degK\n",
      "    precision:      2\n",
      "    GRIB_id:        11\n",
      "    GRIB_name:      TMP\n",
      "    var_desc:       Air temperature\n",
      "    level_desc:     Multiple levels\n",
      "    statistic:      Individual Obs\n",
      "    parent_stat:    Other\n",
      "    valid_range:    [150. 350.]\n",
      "    dataset:        NCEP Reanalysis\n",
      "    actual_range:   [195.69998 324.6    ]\n",
      "    new_attribute:  This attribute has no meaning.\n"
     ]
    }
   ],
   "source": [
    "print(da[:,0,:,:])"
   ]
  },
  {
   "cell_type": "markdown",
   "metadata": {},
   "source": [
    "However, this is not very convenient if you don't know the coordinates at the first place (in other words, you need to know the coordinates first). \n",
    "\n",
    "Instead the xarray DataArray object offers a **grid-independent** *method* of index slicing. That means you only need to know what coordinates the array has (but not the order of coordinates), and you can grab a slice of the array that you need. \n",
    "\n",
    "**Syntax**: (**SEL**ect by coordinate name and **I**ndex)\n",
    "```\n",
    "values = DataArrayObject.isel(coordinate_name = coordinate_index)\n",
    "```\n",
    "**Syntax**: (**SEL**ect by coordinate name and value)\n",
    "```\n",
    "values = DataArrayObject.sel(coordinate_name = coordinate_value)\n",
    "```\n",
    "\n",
    "However, you should **NOT** edit the **DataArray** directly using these two methods."
   ]
  },
  {
   "cell_type": "code",
   "execution_count": 19,
   "metadata": {
    "scrolled": true
   },
   "outputs": [
    {
     "name": "stdout",
     "output_type": "stream",
     "text": [
      "<xarray.DataArray 'temp' (time: 28, lat: 73, lon: 144)>\n",
      "array([[[272.3125, 272.3125, ..., 272.3125, 272.3125],\n",
      "        [270.125 , 270.125 , ..., 270.125 , 270.125 ],\n",
      "        ...,\n",
      "        [224.    , 223.625 , ..., 224.625 , 224.3125],\n",
      "        [224.5   , 224.5   , ..., 224.5   , 224.5   ]],\n",
      "\n",
      "       [[272.875 , 272.875 , ..., 272.875 , 272.875 ],\n",
      "        [270.875 , 270.875 , ..., 270.8125, 270.8125],\n",
      "        ...,\n",
      "        [224.3125, 223.875 , ..., 225.125 , 224.6875],\n",
      "        [225.125 , 225.125 , ..., 225.125 , 225.125 ]],\n",
      "\n",
      "       ...,\n",
      "\n",
      "       [[275.6875, 275.6875, ..., 275.6875, 275.6875],\n",
      "        [273.875 , 273.875 , ..., 273.8125, 273.875 ],\n",
      "        ...,\n",
      "        [232.625 , 232.1875, ..., 233.375 , 233.    ],\n",
      "        [237.5   , 237.5   , ..., 237.5   , 237.5   ]],\n",
      "\n",
      "       [[276.6875, 276.6875, ..., 276.6875, 276.6875],\n",
      "        [275.125 , 275.125 , ..., 275.125 , 275.125 ],\n",
      "        ...,\n",
      "        [231.1875, 230.8125, ..., 232.    , 231.625 ],\n",
      "        [235.625 , 235.625 , ..., 235.625 , 235.625 ]]], dtype=float32)\n",
      "Coordinates:\n",
      "  * time     (time) datetime64[ns] 2017-06-09 ... 2017-06-15T18:00:00\n",
      "    level    float32 1000.0\n",
      "  * lat      (lat) float32 90.0 87.5 85.0 82.5 80.0 ... -82.5 -85.0 -87.5 -90.0\n",
      "  * lon      (lon) float32 0.0 2.5 5.0 7.5 10.0 ... 350.0 352.5 355.0 357.5\n",
      "Attributes:\n",
      "    long_name:      4xDaily Air temperature\n",
      "    units:          degK\n",
      "    precision:      2\n",
      "    GRIB_id:        11\n",
      "    GRIB_name:      TMP\n",
      "    var_desc:       Air temperature\n",
      "    level_desc:     Multiple levels\n",
      "    statistic:      Individual Obs\n",
      "    parent_stat:    Other\n",
      "    valid_range:    [150. 350.]\n",
      "    dataset:        NCEP Reanalysis\n",
      "    actual_range:   [195.69998 324.6    ]\n",
      "    new_attribute:  This attribute has no meaning.\n"
     ]
    }
   ],
   "source": [
    "# Again, let's choose the lowest model level\n",
    "print(da.isel(level=0))"
   ]
  },
  {
   "cell_type": "code",
   "execution_count": 20,
   "metadata": {
    "scrolled": true
   },
   "outputs": [
    {
     "name": "stdout",
     "output_type": "stream",
     "text": [
      "<xarray.DataArray 'temp' (time: 28, level: 4)>\n",
      "array([[301.6875, 300.1875, 266.875 , 226.1875],\n",
      "       [314.375 , 302.375 , 266.5   , 227.    ],\n",
      "       [320.375 , 308.3125, 266.125 , 225.8125],\n",
      "       [313.    , 305.8125, 266.125 , 227.8125],\n",
      "       [302.6875, 300.8125, 266.    , 225.125 ],\n",
      "       [316.6875, 304.125 , 266.    , 226.3125],\n",
      "       [322.6875, 310.375 , 266.3125, 226.    ],\n",
      "       [314.8125, 307.5   , 266.6875, 226.6875],\n",
      "       [304.1875, 301.625 , 266.1875, 225.    ],\n",
      "       [316.625 , 304.1875, 266.625 , 224.6875],\n",
      "       [322.3125, 310.    , 267.375 , 224.625 ],\n",
      "       [313.5   , 306.625 , 268.1875, 225.1875],\n",
      "       [304.1875, 301.    , 267.625 , 223.6875],\n",
      "       [317.1875, 304.375 , 267.375 , 224.375 ],\n",
      "       [322.875 , 310.5   , 267.8125, 224.8125],\n",
      "       [314.8125, 307.6875, 268.3125, 225.3125],\n",
      "       [306.3125, 302.    , 267.6875, 224.8125],\n",
      "       [317.375 , 305.3125, 266.8125, 224.875 ],\n",
      "       [324.3125, 312.3125, 267.1875, 224.625 ],\n",
      "       [319.    , 310.3125, 267.6875, 225.625 ],\n",
      "       [307.1875, 305.125 , 267.6875, 224.8125],\n",
      "       [319.3125, 306.1875, 268.5   , 225.8125],\n",
      "       [324.1875, 312.375 , 268.125 , 226.    ],\n",
      "       [315.8125, 309.    , 268.3125, 225.375 ],\n",
      "       [305.    , 301.875 , 268.125 , 224.8125],\n",
      "       [317.    , 304.625 , 268.3125, 224.5   ],\n",
      "       [324.125 , 312.    , 268.625 , 224.1875],\n",
      "       [316.125 , 309.3125, 268.875 , 224.375 ]], dtype=float32)\n",
      "Coordinates:\n",
      "  * time     (time) datetime64[ns] 2017-06-09 ... 2017-06-15T18:00:00\n",
      "  * level    (level) float32 1000.0 850.0 500.0 200.0\n",
      "    lat      float32 30.0\n",
      "    lon      float32 60.0\n",
      "Attributes:\n",
      "    long_name:      4xDaily Air temperature\n",
      "    units:          degK\n",
      "    precision:      2\n",
      "    GRIB_id:        11\n",
      "    GRIB_name:      TMP\n",
      "    var_desc:       Air temperature\n",
      "    level_desc:     Multiple levels\n",
      "    statistic:      Individual Obs\n",
      "    parent_stat:    Other\n",
      "    valid_range:    [150. 350.]\n",
      "    dataset:        NCEP Reanalysis\n",
      "    actual_range:   [195.69998 324.6    ]\n",
      "    new_attribute:  This attribute has no meaning.\n"
     ]
    }
   ],
   "source": [
    "# Get the data at 30N,60E\n",
    "print(da.sel(lat=30,lon=60))"
   ]
  },
  {
   "cell_type": "markdown",
   "metadata": {},
   "source": [
    "This is useful, but if you try other combinations, which the values may be absent from the coordinate array, then you will get an error. \n",
    "\n",
    "Fortunately, the developers have prepared for this situation. You can use an extra input argument `method='nearest'` to choose the data at the nearest coordinate."
   ]
  },
  {
   "cell_type": "code",
   "execution_count": 21,
   "metadata": {
    "scrolled": true
   },
   "outputs": [
    {
     "name": "stdout",
     "output_type": "stream",
     "text": [
      "<xarray.DataArray 'temp' (time: 28, level: 4)>\n",
      "array([[299.8125, 292.875 , 269.3125, 221.875 ],\n",
      "       [303.    , 294.1875, 269.3125, 223.    ],\n",
      "       [301.1875, 294.3125, 269.6875, 222.8125],\n",
      "       [299.375 , 292.625 , 269.8125, 222.5   ],\n",
      "       [299.375 , 292.5   , 269.375 , 222.375 ],\n",
      "       [301.5   , 293.125 , 269.875 , 223.3125],\n",
      "       [301.5   , 294.8125, 271.    , 223.1875],\n",
      "       [298.6875, 292.625 , 270.375 , 223.3125],\n",
      "       [300.375 , 294.125 , 270.125 , 223.3125],\n",
      "       [302.5   , 294.8125, 270.1875, 223.6875],\n",
      "       [302.625 , 295.625 , 270.5   , 223.6875],\n",
      "       [300.    , 294.125 , 270.125 , 223.875 ],\n",
      "       [299.8125, 293.3125, 270.375 , 223.5   ],\n",
      "       [301.125 , 292.125 , 270.625 , 224.875 ],\n",
      "       [301.375 , 293.125 , 271.    , 224.875 ],\n",
      "       [300.1875, 292.8125, 270.5   , 224.6875],\n",
      "       [300.375 , 292.6875, 269.6875, 224.125 ],\n",
      "       [302.1875, 293.375 , 269.1875, 224.6875],\n",
      "       [301.375 , 293.8125, 269.875 , 223.375 ],\n",
      "       [300.625 , 292.875 , 269.375 , 223.3125],\n",
      "       [301.    , 293.8125, 268.8125, 223.1875],\n",
      "       [302.6875, 294.3125, 269.5   , 224.    ],\n",
      "       [301.3125, 294.1875, 269.6875, 223.    ],\n",
      "       [300.125 , 293.125 , 269.6875, 224.    ],\n",
      "       [299.8125, 292.875 , 268.8125, 224.125 ],\n",
      "       [302.1875, 293.1875, 268.8125, 224.375 ],\n",
      "       [301.125 , 294.125 , 269.1875, 224.    ],\n",
      "       [299.875 , 292.8125, 269.375 , 224.125 ]], dtype=float32)\n",
      "Coordinates:\n",
      "  * time     (time) datetime64[ns] 2017-06-09 ... 2017-06-15T18:00:00\n",
      "  * level    (level) float32 1000.0 850.0 500.0 200.0\n",
      "    lat      float32 22.5\n",
      "    lon      float32 115.0\n",
      "Attributes:\n",
      "    long_name:      4xDaily Air temperature\n",
      "    units:          degK\n",
      "    precision:      2\n",
      "    GRIB_id:        11\n",
      "    GRIB_name:      TMP\n",
      "    var_desc:       Air temperature\n",
      "    level_desc:     Multiple levels\n",
      "    statistic:      Individual Obs\n",
      "    parent_stat:    Other\n",
      "    valid_range:    [150. 350.]\n",
      "    dataset:        NCEP Reanalysis\n",
      "    actual_range:   [195.69998 324.6    ]\n",
      "    new_attribute:  This attribute has no meaning.\n"
     ]
    }
   ],
   "source": [
    "print(da.sel(lat=22.3,lon=114,method='nearest'))"
   ]
  },
  {
   "cell_type": "markdown",
   "metadata": {},
   "source": [
    "Does these methods work with multiple indices/values? Let's try them."
   ]
  },
  {
   "cell_type": "code",
   "execution_count": 22,
   "metadata": {
    "scrolled": true
   },
   "outputs": [
    {
     "name": "stdout",
     "output_type": "stream",
     "text": [
      "<xarray.DataArray 'temp' (time: 4, level: 4, lat: 36, lon: 144)>\n",
      "array([[[[272.3125, ..., 272.3125],\n",
      "         ...,\n",
      "         [299.125 , ..., 298.875 ]],\n",
      "\n",
      "        ...,\n",
      "\n",
      "        [[224.875 , ..., 224.875 ],\n",
      "         ...,\n",
      "         [220.8125, ..., 221.1875]]],\n",
      "\n",
      "\n",
      "       ...,\n",
      "\n",
      "\n",
      "       [[[274.5   , ..., 274.5   ],\n",
      "         ...,\n",
      "         [299.625 , ..., 299.5   ]],\n",
      "\n",
      "        ...,\n",
      "\n",
      "        [[221.6875, ..., 221.6875],\n",
      "         ...,\n",
      "         [222.125 , ..., 222.3125]]]], dtype=float32)\n",
      "Coordinates:\n",
      "  * time     (time) datetime64[ns] 2017-06-09 ... 2017-06-09T18:00:00\n",
      "  * level    (level) float32 1000.0 850.0 500.0 200.0\n",
      "  * lat      (lat) float32 90.0 87.5 85.0 82.5 80.0 ... 12.5 10.0 7.5 5.0 2.5\n",
      "  * lon      (lon) float32 0.0 2.5 5.0 7.5 10.0 ... 350.0 352.5 355.0 357.5\n",
      "Attributes:\n",
      "    long_name:      4xDaily Air temperature\n",
      "    units:          degK\n",
      "    precision:      2\n",
      "    GRIB_id:        11\n",
      "    GRIB_name:      TMP\n",
      "    var_desc:       Air temperature\n",
      "    level_desc:     Multiple levels\n",
      "    statistic:      Individual Obs\n",
      "    parent_stat:    Other\n",
      "    valid_range:    [150. 350.]\n",
      "    dataset:        NCEP Reanalysis\n",
      "    actual_range:   [195.69998 324.6    ]\n",
      "    new_attribute:  This attribute has no meaning.\n"
     ]
    }
   ],
   "source": [
    "# Well, this is the Pythonic way to do index slicing, so it should work very fine.\n",
    "print(da[:4,:,:36,:])"
   ]
  },
  {
   "cell_type": "markdown",
   "metadata": {},
   "source": [
    "Next, let's try the `isel` method:"
   ]
  },
  {
   "cell_type": "code",
   "execution_count": 23,
   "metadata": {},
   "outputs": [
    {
     "ename": "SyntaxError",
     "evalue": "invalid syntax (<ipython-input-23-53938908810c>, line 2)",
     "output_type": "error",
     "traceback": [
      "\u001b[1;36m  File \u001b[1;32m\"<ipython-input-23-53938908810c>\"\u001b[1;36m, line \u001b[1;32m2\u001b[0m\n\u001b[1;33m    da.isel(lat=0:3)\u001b[0m\n\u001b[1;37m                 ^\u001b[0m\n\u001b[1;31mSyntaxError\u001b[0m\u001b[1;31m:\u001b[0m invalid syntax\n"
     ]
    }
   ],
   "source": [
    "# You may try using similar syntax, e.g. 0:3, as indices\n",
    "da.isel(lat=0:3)\n",
    "# However you will see that it does not work. \n",
    "# It's because 0:3 is not a valid syntax that gives a value for input arguments. (Note that isel is a method/function)"
   ]
  },
  {
   "cell_type": "code",
   "execution_count": 24,
   "metadata": {
    "scrolled": true
   },
   "outputs": [
    {
     "name": "stdout",
     "output_type": "stream",
     "text": [
      "<xarray.DataArray 'temp' (time: 4, level: 4, lat: 36, lon: 144)>\n",
      "array([[[[272.3125, ..., 272.3125],\n",
      "         ...,\n",
      "         [299.125 , ..., 298.875 ]],\n",
      "\n",
      "        ...,\n",
      "\n",
      "        [[224.875 , ..., 224.875 ],\n",
      "         ...,\n",
      "         [220.8125, ..., 221.1875]]],\n",
      "\n",
      "\n",
      "       ...,\n",
      "\n",
      "\n",
      "       [[[274.5   , ..., 274.5   ],\n",
      "         ...,\n",
      "         [299.625 , ..., 299.5   ]],\n",
      "\n",
      "        ...,\n",
      "\n",
      "        [[221.6875, ..., 221.6875],\n",
      "         ...,\n",
      "         [222.125 , ..., 222.3125]]]], dtype=float32)\n",
      "Coordinates:\n",
      "  * time     (time) datetime64[ns] 2017-06-09 ... 2017-06-09T18:00:00\n",
      "  * level    (level) float32 1000.0 850.0 500.0 200.0\n",
      "  * lat      (lat) float32 90.0 87.5 85.0 82.5 80.0 ... 12.5 10.0 7.5 5.0 2.5\n",
      "  * lon      (lon) float32 0.0 2.5 5.0 7.5 10.0 ... 350.0 352.5 355.0 357.5\n",
      "Attributes:\n",
      "    long_name:      4xDaily Air temperature\n",
      "    units:          degK\n",
      "    precision:      2\n",
      "    GRIB_id:        11\n",
      "    GRIB_name:      TMP\n",
      "    var_desc:       Air temperature\n",
      "    level_desc:     Multiple levels\n",
      "    statistic:      Individual Obs\n",
      "    parent_stat:    Other\n",
      "    valid_range:    [150. 350.]\n",
      "    dataset:        NCEP Reanalysis\n",
      "    actual_range:   [195.69998 324.6    ]\n",
      "    new_attribute:  This attribute has no meaning.\n"
     ]
    }
   ],
   "source": [
    "# Instead you need to provide a list (or something similar)\n",
    "print(da.isel(lat=range(36), time=range(4)))"
   ]
  },
  {
   "cell_type": "markdown",
   "metadata": {},
   "source": [
    "Before using the `sel()` or `isel()` methods, it seems clearer to first organize the indices using a dictionary."
   ]
  },
  {
   "cell_type": "code",
   "execution_count": 25,
   "metadata": {
    "scrolled": true
   },
   "outputs": [
    {
     "name": "stdout",
     "output_type": "stream",
     "text": [
      "{'lat': array([30. , 32.5, 35. , 37.5, 40. , 42.5, 45. , 47.5, 50. , 52.5, 55. ,\n",
      "       57.5]), 'lon': array([  0,  10,  20,  30,  40,  50,  60,  70,  80,  90, 100, 110, 120,\n",
      "       130, 140, 150, 160, 170])}\n"
     ]
    }
   ],
   "source": [
    "import numpy as np\n",
    "# still remember how to initialize a dictionary? It is curly brackets {}\n",
    "indices = {'lat':np.arange(30,60,2.5), 'lon':np.arange(0,180,10)}\n",
    "print(indices)"
   ]
  },
  {
   "cell_type": "code",
   "execution_count": 26,
   "metadata": {
    "scrolled": true
   },
   "outputs": [
    {
     "name": "stdout",
     "output_type": "stream",
     "text": [
      "<xarray.DataArray 'temp' (time: 28, level: 4, lat: 12, lon: 18)>\n",
      "array([[[[304.8125, ..., 293.875 ],\n",
      "         ...,\n",
      "         [285.375 , ..., 278.8125]],\n",
      "\n",
      "        ...,\n",
      "\n",
      "        [[217.3125, ..., 222.1875],\n",
      "         ...,\n",
      "         [227.6875, ..., 229.625 ]]],\n",
      "\n",
      "\n",
      "       ...,\n",
      "\n",
      "\n",
      "       [[[315.    , ..., 296.875 ],\n",
      "         ...,\n",
      "         [286.6875, ..., 279.3125]],\n",
      "\n",
      "        ...,\n",
      "\n",
      "        [[218.8125, ..., 220.625 ],\n",
      "         ...,\n",
      "         [233.    , ..., 221.3125]]]], dtype=float32)\n",
      "Coordinates:\n",
      "  * time     (time) datetime64[ns] 2017-06-09 ... 2017-06-15T18:00:00\n",
      "  * level    (level) float32 1000.0 850.0 500.0 200.0\n",
      "  * lat      (lat) float32 30.0 32.5 35.0 37.5 40.0 ... 47.5 50.0 52.5 55.0 57.5\n",
      "  * lon      (lon) float32 0.0 10.0 20.0 30.0 40.0 ... 140.0 150.0 160.0 170.0\n",
      "Attributes:\n",
      "    long_name:      4xDaily Air temperature\n",
      "    units:          degK\n",
      "    precision:      2\n",
      "    GRIB_id:        11\n",
      "    GRIB_name:      TMP\n",
      "    var_desc:       Air temperature\n",
      "    level_desc:     Multiple levels\n",
      "    statistic:      Individual Obs\n",
      "    parent_stat:    Other\n",
      "    valid_range:    [150. 350.]\n",
      "    dataset:        NCEP Reanalysis\n",
      "    actual_range:   [195.69998 324.6    ]\n",
      "    new_attribute:  This attribute has no meaning.\n"
     ]
    }
   ],
   "source": [
    "print(da.sel(indices, method='nearest'))\n",
    "# Note that you cannot put method inside the dictionary."
   ]
  },
  {
   "cell_type": "markdown",
   "metadata": {},
   "source": [
    "*Short exercise*:\n",
    "Try to shift the latitude by 1 degree and see what xarray will choose for you.\n",
    "e.g. \n",
    "```Python\n",
    "indices = {'lat':np.arange(31,61,2.5), 'lon':np.arange(0,180,10)}\n",
    "print(da.sel(indices, method='nearest'))\n",
    "```"
   ]
  },
  {
   "cell_type": "markdown",
   "metadata": {},
   "source": [
    "*Think more:*\n",
    "\n",
    "How to choose the steps in the `np.arange()`? What happens if the chosen step is too small? Note that the `sel()` method does not interpolate the array."
   ]
  },
  {
   "cell_type": "markdown",
   "metadata": {},
   "source": [
    "### Time coordinate handling\n",
    "You may have noticed that the time coordinate has a data type called *datetime64*. Let's learn how we can manipulate it. We will start off by looking at one of the dependencies of xarray, namely **pandas**. This is also a very popular library in data science."
   ]
  },
  {
   "cell_type": "code",
   "execution_count": 27,
   "metadata": {
    "scrolled": true
   },
   "outputs": [
    {
     "name": "stdout",
     "output_type": "stream",
     "text": [
      "DatetimeIndex(['2019-01-14 06:00:00', '2019-01-14 12:00:00',\n",
      "               '2019-01-14 18:00:00', '2019-01-15 00:00:00',\n",
      "               '2019-01-15 06:00:00'],\n",
      "              dtype='datetime64[ns]', freq='6H')\n",
      "DatetimeIndex(['2019-01-14 12:00:00', '2019-01-14 18:00:00',\n",
      "               '2019-01-15 00:00:00', '2019-01-15 06:00:00',\n",
      "               '2019-01-15 12:00:00'],\n",
      "              dtype='datetime64[ns]', freq='6H')\n"
     ]
    }
   ],
   "source": [
    "import pandas as pd\n",
    "dates = pd.date_range(start='2019-01-14 06:00',periods=5,freq='6H')\n",
    "print(dates)\n",
    "print(dates+1) # every index shift by 1 period (6 hours)"
   ]
  },
  {
   "cell_type": "code",
   "execution_count": 28,
   "metadata": {},
   "outputs": [
    {
     "name": "stdout",
     "output_type": "stream",
     "text": [
      "DatetimeIndex(['2019-01-16 06:00:00', '2019-01-17 06:00:00',\n",
      "               '2019-01-18 06:00:00', '2019-01-19 06:00:00',\n",
      "               '2019-01-20 06:00:00', '2019-01-21 06:00:00',\n",
      "               '2019-01-22 06:00:00', '2019-01-23 06:00:00',\n",
      "               '2019-01-24 06:00:00', '2019-01-25 06:00:00',\n",
      "               '2019-01-26 06:00:00', '2019-01-27 06:00:00',\n",
      "               '2019-01-28 06:00:00', '2019-01-29 06:00:00',\n",
      "               '2019-01-30 06:00:00'],\n",
      "              dtype='datetime64[ns]', freq='D')\n"
     ]
    }
   ],
   "source": [
    "dates_new = pd.date_range(start='2019-01-16 06:00',end='20190131',freq='D')\n",
    "print(dates_new)"
   ]
  },
  {
   "cell_type": "markdown",
   "metadata": {},
   "source": [
    "There are several things I should mention here. \n",
    "1. date/time format: strings that looks like a date, e.g. `'2017/01/01 00:00:00'`, `'2017-01-01'`, `'20170101`, etc. Try what you think should work.\n",
    "1. `start` and `end` arguments: the date/time denoting the start and end of the list (DatetimeIndex). Unlike Python lists, both ends are inclusive (although an extra argument can change that).\n",
    "1. `freq` argument: a string denoting the difference between two indices. Commonly used strings: \n",
    "    - AS: year start frequency\n",
    "    - MS: month start frequency\n",
    "    - W: weekly frequency\n",
    "    - D: daily frequency\n",
    "    - H: hourly frequency \n",
    "    \n",
    "   An integer in front would denote the number of multiples of it, e.g. `'6H'` means 6-hourly.\n",
    "1. `periods` argument: an integer number of `freq` to repeat."
   ]
  },
  {
   "cell_type": "markdown",
   "metadata": {},
   "source": [
    "This is not the end of the datetime magic! The **DatetimeIndex** contains attributes and methods which allow you to quickly convert the dates to months,days of year, days of week, etc."
   ]
  },
  {
   "cell_type": "code",
   "execution_count": 29,
   "metadata": {},
   "outputs": [
    {
     "name": "stdout",
     "output_type": "stream",
     "text": [
      "Int64Index([2019, 2019, 2019, 2019, 2019], dtype='int64')\n",
      "Int64Index([1, 1, 1, 1, 1], dtype='int64')\n",
      "Int64Index([14, 14, 14, 15, 15], dtype='int64')\n",
      "Int64Index([6, 12, 18, 0, 6], dtype='int64')\n",
      "Int64Index([14, 14, 14, 15, 15], dtype='int64')\n",
      "Int64Index([0, 0, 0, 1, 1], dtype='int64')\n"
     ]
    }
   ],
   "source": [
    "# Attributes\n",
    "print(dates.year)\n",
    "print(dates.month)\n",
    "print(dates.day)\n",
    "print(dates.hour)\n",
    "print(dates.dayofyear)\n",
    "print(dates.dayofweek) # index starts at 0"
   ]
  },
  {
   "cell_type": "code",
   "execution_count": 30,
   "metadata": {},
   "outputs": [
    {
     "name": "stdout",
     "output_type": "stream",
     "text": [
      "Index(['January', 'January', 'January', 'January', 'January'], dtype='object')\n",
      "Index(['Monday', 'Monday', 'Monday', 'Tuesday', 'Tuesday'], dtype='object')\n"
     ]
    }
   ],
   "source": [
    "# Methods\n",
    "print(dates.month_name())\n",
    "print(dates.day_name())"
   ]
  },
  {
   "cell_type": "markdown",
   "metadata": {},
   "source": [
    "Moreover, in xarray, `time.season` is also available (`'DJF'`/`'MAM'`/`'JJA'`/`'SON'`).\n",
    "\n",
    "So now let's use similar framework to work with **DataArray** time coordinates. Firstly, let's look at the `isel()` and `sel()` methods."
   ]
  },
  {
   "cell_type": "code",
   "execution_count": 31,
   "metadata": {
    "scrolled": true
   },
   "outputs": [
    {
     "name": "stdout",
     "output_type": "stream",
     "text": [
      "<xarray.DataArray 'temp' (time: 2, level: 4, lat: 73, lon: 144)>\n",
      "array([[[[272.875 , ..., 272.875 ],\n",
      "         ...,\n",
      "         [225.125 , ..., 225.125 ]],\n",
      "\n",
      "        ...,\n",
      "\n",
      "        [[224.125 , ..., 224.125 ],\n",
      "         ...,\n",
      "         [203.1875, ..., 203.1875]]],\n",
      "\n",
      "\n",
      "       [[[273.625 , ..., 273.625 ],\n",
      "         ...,\n",
      "         [227.3125, ..., 227.3125]],\n",
      "\n",
      "        ...,\n",
      "\n",
      "        [[222.875 , ..., 222.875 ],\n",
      "         ...,\n",
      "         [202.6875, ..., 202.6875]]]], dtype=float32)\n",
      "Coordinates:\n",
      "  * time     (time) datetime64[ns] 2017-06-09T06:00:00 2017-06-09T12:00:00\n",
      "  * level    (level) float32 1000.0 850.0 500.0 200.0\n",
      "  * lat      (lat) float32 90.0 87.5 85.0 82.5 80.0 ... -82.5 -85.0 -87.5 -90.0\n",
      "  * lon      (lon) float32 0.0 2.5 5.0 7.5 10.0 ... 350.0 352.5 355.0 357.5\n",
      "Attributes:\n",
      "    long_name:      4xDaily Air temperature\n",
      "    units:          degK\n",
      "    precision:      2\n",
      "    GRIB_id:        11\n",
      "    GRIB_name:      TMP\n",
      "    var_desc:       Air temperature\n",
      "    level_desc:     Multiple levels\n",
      "    statistic:      Individual Obs\n",
      "    parent_stat:    Other\n",
      "    valid_range:    [150. 350.]\n",
      "    dataset:        NCEP Reanalysis\n",
      "    actual_range:   [195.69998 324.6    ]\n",
      "    new_attribute:  This attribute has no meaning.\n"
     ]
    }
   ],
   "source": [
    "# Get the 2nd and 3rd value\n",
    "print(da.isel(time=[1,2]))"
   ]
  },
  {
   "cell_type": "markdown",
   "metadata": {},
   "source": [
    "When it comes to the `sel()` method, you can provide a 'datetime' formatted string (which grabs all indices that fit the string), or a **DatetimeIndex**."
   ]
  },
  {
   "cell_type": "code",
   "execution_count": 32,
   "metadata": {
    "scrolled": true
   },
   "outputs": [
    {
     "name": "stdout",
     "output_type": "stream",
     "text": [
      "<xarray.DataArray 'temp' (time: 4, level: 4, lat: 73, lon: 144)>\n",
      "array([[[[272.3125, ..., 272.3125],\n",
      "         ...,\n",
      "         [224.5   , ..., 224.5   ]],\n",
      "\n",
      "        ...,\n",
      "\n",
      "        [[224.875 , ..., 224.875 ],\n",
      "         ...,\n",
      "         [202.5   , ..., 202.5   ]]],\n",
      "\n",
      "\n",
      "       ...,\n",
      "\n",
      "\n",
      "       [[[274.5   , ..., 274.5   ],\n",
      "         ...,\n",
      "         [225.375 , ..., 225.375 ]],\n",
      "\n",
      "        ...,\n",
      "\n",
      "        [[221.6875, ..., 221.6875],\n",
      "         ...,\n",
      "         [203.3125, ..., 203.3125]]]], dtype=float32)\n",
      "Coordinates:\n",
      "  * time     (time) datetime64[ns] 2017-06-09 ... 2017-06-09T18:00:00\n",
      "  * level    (level) float32 1000.0 850.0 500.0 200.0\n",
      "  * lat      (lat) float32 90.0 87.5 85.0 82.5 80.0 ... -82.5 -85.0 -87.5 -90.0\n",
      "  * lon      (lon) float32 0.0 2.5 5.0 7.5 10.0 ... 350.0 352.5 355.0 357.5\n",
      "Attributes:\n",
      "    long_name:      4xDaily Air temperature\n",
      "    units:          degK\n",
      "    precision:      2\n",
      "    GRIB_id:        11\n",
      "    GRIB_name:      TMP\n",
      "    var_desc:       Air temperature\n",
      "    level_desc:     Multiple levels\n",
      "    statistic:      Individual Obs\n",
      "    parent_stat:    Other\n",
      "    valid_range:    [150. 350.]\n",
      "    dataset:        NCEP Reanalysis\n",
      "    actual_range:   [195.69998 324.6    ]\n",
      "    new_attribute:  This attribute has no meaning.\n"
     ]
    }
   ],
   "source": [
    "# Grab the values on the day 09 June 2017\n",
    "print(da.sel(time='2017-06-09'))"
   ]
  },
  {
   "cell_type": "code",
   "execution_count": 33,
   "metadata": {
    "scrolled": true
   },
   "outputs": [
    {
     "name": "stdout",
     "output_type": "stream",
     "text": [
      "<xarray.DataArray 'temp' (time: 4, level: 4, lat: 73, lon: 144)>\n",
      "array([[[[272.3125, ..., 272.3125],\n",
      "         ...,\n",
      "         [224.5   , ..., 224.5   ]],\n",
      "\n",
      "        ...,\n",
      "\n",
      "        [[224.875 , ..., 224.875 ],\n",
      "         ...,\n",
      "         [202.5   , ..., 202.5   ]]],\n",
      "\n",
      "\n",
      "       ...,\n",
      "\n",
      "\n",
      "       [[[274.5   , ..., 274.5   ],\n",
      "         ...,\n",
      "         [225.375 , ..., 225.375 ]],\n",
      "\n",
      "        ...,\n",
      "\n",
      "        [[221.6875, ..., 221.6875],\n",
      "         ...,\n",
      "         [203.3125, ..., 203.3125]]]], dtype=float32)\n",
      "Coordinates:\n",
      "  * time     (time) datetime64[ns] 2017-06-09 ... 2017-06-09T18:00:00\n",
      "  * level    (level) float32 1000.0 850.0 500.0 200.0\n",
      "  * lat      (lat) float32 90.0 87.5 85.0 82.5 80.0 ... -82.5 -85.0 -87.5 -90.0\n",
      "  * lon      (lon) float32 0.0 2.5 5.0 7.5 10.0 ... 350.0 352.5 355.0 357.5\n",
      "Attributes:\n",
      "    long_name:      4xDaily Air temperature\n",
      "    units:          degK\n",
      "    precision:      2\n",
      "    GRIB_id:        11\n",
      "    GRIB_name:      TMP\n",
      "    var_desc:       Air temperature\n",
      "    level_desc:     Multiple levels\n",
      "    statistic:      Individual Obs\n",
      "    parent_stat:    Other\n",
      "    valid_range:    [150. 350.]\n",
      "    dataset:        NCEP Reanalysis\n",
      "    actual_range:   [195.69998 324.6    ]\n",
      "    new_attribute:  This attribute has no meaning.\n"
     ]
    }
   ],
   "source": [
    "# Grab the values on the day 09 June 2017 using DatetimeIndex\n",
    "date = pd.date_range(start='2017-06-09',periods=4,freq='6h')\n",
    "print(da.sel(time=date))"
   ]
  },
  {
   "cell_type": "markdown",
   "metadata": {},
   "source": [
    "We can also make use of the attributes and methods. Suppose we only want to look at Wednesday (`dayofweek==2`)."
   ]
  },
  {
   "cell_type": "code",
   "execution_count": 34,
   "metadata": {},
   "outputs": [
    {
     "name": "stdout",
     "output_type": "stream",
     "text": [
      "<xarray.DataArray 'dayofweek' (time: 28)>\n",
      "array([False, False, False, False, False, False, False, False, False, False,\n",
      "       False, False, False, False, False, False, False, False, False, False,\n",
      "        True,  True,  True,  True, False, False, False, False])\n",
      "Coordinates:\n",
      "  * time     (time) datetime64[ns] 2017-06-09 ... 2017-06-15T18:00:00\n"
     ]
    }
   ],
   "source": [
    "# A boolean mask array using the attribute\n",
    "print(da.coords['time.dayofweek']==2)"
   ]
  },
  {
   "cell_type": "code",
   "execution_count": 35,
   "metadata": {
    "scrolled": true
   },
   "outputs": [
    {
     "name": "stdout",
     "output_type": "stream",
     "text": [
      "<xarray.DataArray 'temp' (time: 4, level: 4, lat: 73, lon: 144)>\n",
      "array([[[[274.875 , ..., 274.875 ],\n",
      "         ...,\n",
      "         [233.375 , ..., 233.375 ]],\n",
      "\n",
      "        ...,\n",
      "\n",
      "        [[223.8125, ..., 223.8125],\n",
      "         ...,\n",
      "         [203.8125, ..., 203.8125]]],\n",
      "\n",
      "\n",
      "       ...,\n",
      "\n",
      "\n",
      "       [[[275.3125, ..., 275.3125],\n",
      "         ...,\n",
      "         [240.6875, ..., 240.6875]],\n",
      "\n",
      "        ...,\n",
      "\n",
      "        [[222.8125, ..., 222.8125],\n",
      "         ...,\n",
      "         [200.8125, ..., 200.8125]]]], dtype=float32)\n",
      "Coordinates:\n",
      "  * time     (time) datetime64[ns] 2017-06-14 ... 2017-06-14T18:00:00\n",
      "  * level    (level) float32 1000.0 850.0 500.0 200.0\n",
      "  * lat      (lat) float32 90.0 87.5 85.0 82.5 80.0 ... -82.5 -85.0 -87.5 -90.0\n",
      "  * lon      (lon) float32 0.0 2.5 5.0 7.5 10.0 ... 350.0 352.5 355.0 357.5\n",
      "Attributes:\n",
      "    long_name:      4xDaily Air temperature\n",
      "    units:          degK\n",
      "    precision:      2\n",
      "    GRIB_id:        11\n",
      "    GRIB_name:      TMP\n",
      "    var_desc:       Air temperature\n",
      "    level_desc:     Multiple levels\n",
      "    statistic:      Individual Obs\n",
      "    parent_stat:    Other\n",
      "    valid_range:    [150. 350.]\n",
      "    dataset:        NCEP Reanalysis\n",
      "    actual_range:   [195.69998 324.6    ]\n",
      "    new_attribute:  This attribute has no meaning.\n"
     ]
    }
   ],
   "source": [
    "# Use the mask array as index \n",
    "print(da[da.coords['time.dayofweek']==2])"
   ]
  },
  {
   "cell_type": "markdown",
   "metadata": {},
   "source": [
    "Our **Dataset** is not really a good example to show the use of attribute `season`, but the following shows how you may use it."
   ]
  },
  {
   "cell_type": "code",
   "execution_count": 36,
   "metadata": {},
   "outputs": [
    {
     "data": {
      "text/plain": [
       "<xarray.DataArray 'temp' (time: 28, level: 4, lat: 73, lon: 144)>\n",
       "array([[[[272.3125, ..., 272.3125],\n",
       "         ...,\n",
       "         [224.5   , ..., 224.5   ]],\n",
       "\n",
       "        ...,\n",
       "\n",
       "        [[224.875 , ..., 224.875 ],\n",
       "         ...,\n",
       "         [202.5   , ..., 202.5   ]]],\n",
       "\n",
       "\n",
       "       ...,\n",
       "\n",
       "\n",
       "       [[[276.6875, ..., 276.6875],\n",
       "         ...,\n",
       "         [235.625 , ..., 235.625 ]],\n",
       "\n",
       "        ...,\n",
       "\n",
       "        [[223.625 , ..., 223.625 ],\n",
       "         ...,\n",
       "         [201.6875, ..., 201.6875]]]], dtype=float32)\n",
       "Coordinates:\n",
       "  * time     (time) datetime64[ns] 2017-06-09 ... 2017-06-15T18:00:00\n",
       "  * level    (level) float32 1000.0 850.0 500.0 200.0\n",
       "  * lat      (lat) float32 90.0 87.5 85.0 82.5 80.0 ... -82.5 -85.0 -87.5 -90.0\n",
       "  * lon      (lon) float32 0.0 2.5 5.0 7.5 10.0 ... 350.0 352.5 355.0 357.5\n",
       "Attributes:\n",
       "    long_name:      4xDaily Air temperature\n",
       "    units:          degK\n",
       "    precision:      2\n",
       "    GRIB_id:        11\n",
       "    GRIB_name:      TMP\n",
       "    var_desc:       Air temperature\n",
       "    level_desc:     Multiple levels\n",
       "    statistic:      Individual Obs\n",
       "    parent_stat:    Other\n",
       "    valid_range:    [150. 350.]\n",
       "    dataset:        NCEP Reanalysis\n",
       "    actual_range:   [195.69998 324.6    ]\n",
       "    new_attribute:  This attribute has no meaning."
      ]
     },
     "execution_count": 36,
     "metadata": {},
     "output_type": "execute_result"
    }
   ],
   "source": [
    "da[ds.coords['time.season']=='JJA']"
   ]
  },
  {
   "cell_type": "markdown",
   "metadata": {},
   "source": [
    "### Plotting DataArray on a map\n",
    "\n",
    "Now you can combine the **DataArray** handling skills with plotting techniques that you learnt in previous part ([quick revision](./Part5_Plotting.ipynb#2D-Field-plots)) to make plots on a map.\n",
    "\n",
    "Example:"
   ]
  },
  {
   "cell_type": "code",
   "execution_count": 37,
   "metadata": {},
   "outputs": [],
   "source": [
    "# import libraries\n",
    "import cartopy.crs as ccrs\n",
    "import matplotlib.pyplot as plt\n",
    "from cartopy.mpl.gridliner import LONGITUDE_FORMATTER, LATITUDE_FORMATTER"
   ]
  },
  {
   "cell_type": "code",
   "execution_count": 38,
   "metadata": {},
   "outputs": [
    {
     "data": {
      "text/plain": [
       "Text(0.5, 1.0, 'Air temperature at 1000hPa')"
      ]
     },
     "execution_count": 38,
     "metadata": {},
     "output_type": "execute_result"
    },
    {
     "data": {
      "image/png": "[encoded data removed]",
      "text/plain": [
       "<Figure size 576x288 with 2 Axes>"
      ]
     },
     "metadata": {
      "needs_background": "light"
     },
     "output_type": "display_data"
    }
   ],
   "source": [
    "# Create a new figure object\n",
    "fig = plt.figure(figsize=[8, 4])\n",
    "# Create a new axes object with PlateCarree projection\n",
    "ax = plt.axes(projection=ccrs.PlateCarree())\n",
    "# make the map global rather than have it zoom in to\n",
    "# the extents of any plotted data\n",
    "ax.set_global()\n",
    "# Draw the coastlines\n",
    "ax.coastlines() # There might be download warnings the first time you use this.\n",
    "# Draw the dashed gridlines and axis labels\n",
    "gl = ax.gridlines(crs=ccrs.PlateCarree(),\n",
    "                  draw_labels=True,\n",
    "                  linestyle='--',\n",
    "                 )\n",
    "gl.xlabels_top = False\n",
    "gl.ylabels_right = False\n",
    "gl.xformatter = LONGITUDE_FORMATTER\n",
    "gl.yformatter = LATITUDE_FORMATTER\n",
    "\n",
    "# Next you can do the plotting\n",
    "plot = ax.contourf(da.coords['lon'],da.coords['lat'],da.isel(time=0,level=0),\n",
    "                   cmap=\"RdBu_r\",\n",
    "                  )\n",
    "fig.colorbar(plot, \n",
    "             ax=ax, \n",
    "#             orientation='horizontal',\n",
    "             label='$T(^\\circ C)$'\n",
    "            )\n",
    "ax.set_title('Air temperature at 1000hPa')"
   ]
  },
  {
   "cell_type": "markdown",
   "metadata": {},
   "source": [
    "More examples on the [Research Computing in Earth Sciences series](https://rabernat.github.io/research_computing/intro-to-basemap.html) \n",
    "\n",
    "Remark: They are using Basemap, which is the ancestor of cartopy. I think you can just change the module name and things should work."
   ]
  }
 ],
 "metadata": {
  "kernelspec": {
   "display_name": "Python 3",
   "language": "python",
   "name": "python3"
  },
  "language_info": {
   "codemirror_mode": {
    "name": "ipython",
    "version": 3
   },
   "file_extension": ".py",
   "mimetype": "text/x-python",
   "name": "python",
   "nbconvert_exporter": "python",
   "pygments_lexer": "ipython3",
   "version": "3.7.2"
  }
 },
 "nbformat": 4,
 "nbformat_minor": 2
}
