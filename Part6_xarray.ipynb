{
 "cells": [
  {
   "cell_type": "markdown",
   "metadata": {},
   "source": [
    "# Working with NetCDF files"
   ]
  },
  {
   "cell_type": "markdown",
   "metadata": {},
   "source": [
    "**In atmospheric science, we have a special data file format called NetCDF (.nc).** This specially designed data file format allows gridded atmospheric data to be saved easily with attributes and coordinates attached to each of the variables. Before we learn how to process them, let's take a quick look on how Python handle files. "
   ]
  },
  {
   "cell_type": "markdown",
   "metadata": {},
   "source": [
    "## General idea on file inputs and outputs\n",
    "Suppose you want to read or write a text/binary file in your script, you will need the following functions to help you:\n",
    "- open(*filename* \\[, *access_mode*\\]): Opens a file with the given *filename* under an access mode, e.g. \"r\" means read-only access, \"w\" means write-only access, and return the file object.\n",
    "\n",
    "Syntax: \n",
    "```Python\n",
    "fileObject = open(filename) # By default the access is read-only\n",
    "```\n",
    "- *fileObject*.read(*number*): Read the *number* of characters in the file (referenced by the file object).\n",
    "- *fileObject*.readline( ): Read one line from the file and move to the next line.\n",
    "- *fileObject*.write(*string*): Write the *string* to file.\n",
    "- *fileObject*.close( ): Close the file.\n",
    "\n",
    "These functions should have similar functionality in different languages, so you probably have learnt them before, and we will skip the details here."
   ]
  },
  {
   "cell_type": "markdown",
   "metadata": {},
   "source": [
    "## Using xarray to process NetCDF files\n",
    "NetCDF files cannot be easily read using the default methods above. However, the good news is someone has already written relevant modules to allow users to read/write .nc files relatively easily. These packages can be easily installed when creating a new conda environment. I have provided the [environment.txt](./environment.txt) file, which specifies a list of packages to be used. Follow the installation guide for [Mac](./pre_lab_installation_guide_mac.md#Install-conda-environment-for-extra-packages)/[Windows](./pre_lab_installation_guide_Windows.md#Install-conda-environment-for-extra-packages) to install them.\n",
    "\n",
    "\n",
    "The module we are going to use is called \"xarray\"."
   ]
  },
  {
   "cell_type": "markdown",
   "metadata": {},
   "source": [
    "### Input from NetCDF files"
   ]
  },
  {
   "cell_type": "code",
   "execution_count": null,
   "metadata": {
    "scrolled": false
   },
   "outputs": [],
   "source": [
    "# import library to read .nc files\n",
    "import xarray as xr\n",
    "# You can check that this can only be done inside the environment, but not outside."
   ]
  },
  {
   "cell_type": "code",
   "execution_count": null,
   "metadata": {
    "scrolled": true
   },
   "outputs": [],
   "source": [
    "# Open the dataset using the library\n",
    "ds = xr.open_dataset('./misc/sample_data.nc')\n",
    "print(type(ds)) # Note that this is a class called Dataset\n",
    "print(ds)"
   ]
  },
  {
   "cell_type": "markdown",
   "metadata": {},
   "source": [
    "Here we have just opened our data file, and `ds` is an xarray Dataset object (hereafter **Dataset**). It contains all information of a NetCDF file. To use it, just think of `ds` as a dictionary, and apply the dictionary syntax (recall [Part 1: Dictionary](./Part1_Basic_Syntax.ipynb#How-to-access-values-in-a-dictionary) ):\n",
    "```\n",
    "value = dictionary['key']\n",
    "```\n",
    "where the *key* is the name of variable here."
   ]
  },
  {
   "cell_type": "markdown",
   "metadata": {},
   "source": [
    "### Extracting a variable\n",
    "Let's get the temperature variable `temp` from the dataset. "
   ]
  },
  {
   "cell_type": "code",
   "execution_count": null,
   "metadata": {
    "scrolled": false
   },
   "outputs": [],
   "source": [
    "da = ds['temp']\n",
    "print(type(da)) # Note that this is a class called DataArray\n",
    "print(da)"
   ]
  },
  {
   "cell_type": "markdown",
   "metadata": {},
   "source": [
    "`da` is an xarray DataArray object (hereafter **DataArray**), which behaves like a NumPy array. Therefore you can use NumPy syntax to operate on this array (Learn them here: [Part 1b: NumPy Arrays](./Part1b_NumPy_Arrays.ipynb) or ask Google). However, it is functionally more than just NumPy array. You will see that there are **attributes** (sometimes called metadata) and **coordinates** attached to this object (Recall [Part 4: Objects](./Part4_OOP.ipynb#Attributes-and-Methods)). (You may also look at the attributes and coordinates of a **Dataset**.)"
   ]
  },
  {
   "cell_type": "markdown",
   "metadata": {},
   "source": [
    "### Output to netCDF files\n",
    "You may want to save a **Dataset** or **DataArray** to a netCDF file. They can be saved in a similar fashion.\n",
    "\n",
    "**Syntax:**\n",
    "```\n",
    "DatasetObject.to_netcdf(filename)\n",
    "DataArrayObject.to_netcdf(filename)\n",
    "```"
   ]
  },
  {
   "cell_type": "code",
   "execution_count": null,
   "metadata": {
    "scrolled": true
   },
   "outputs": [],
   "source": [
    "# Example\n",
    "ds.to_netcdf('dataset_to_nc.nc')\n",
    "da.to_netcdf('dataarray_to_nc.nc')"
   ]
  },
  {
   "cell_type": "markdown",
   "metadata": {},
   "source": [
    "You can then check the current directory to see the .nc you just saved."
   ]
  },
  {
   "cell_type": "markdown",
   "metadata": {},
   "source": [
    "## Attributes\n",
    "Suppose you want to access the attributes."
   ]
  },
  {
   "cell_type": "code",
   "execution_count": null,
   "metadata": {},
   "outputs": [],
   "source": [
    "print(da.attrs) \n",
    "# Note that these are attributes, not methods, so you don't need a pair of brackets after .attrs"
   ]
  },
  {
   "cell_type": "code",
   "execution_count": null,
   "metadata": {
    "scrolled": false
   },
   "outputs": [],
   "source": [
    "print(da.attrs)"
   ]
  },
  {
   "cell_type": "markdown",
   "metadata": {},
   "source": [
    "This is again a dictionary. Again you can use the dictionary syntax for accessing and modifying the attributes."
   ]
  },
  {
   "cell_type": "code",
   "execution_count": null,
   "metadata": {
    "scrolled": false
   },
   "outputs": [],
   "source": [
    "# Example for accessing attributes\n",
    "print(da.attrs['long_name'])"
   ]
  },
  {
   "cell_type": "code",
   "execution_count": null,
   "metadata": {
    "scrolled": false
   },
   "outputs": [],
   "source": [
    "# Example for adding new attribute\n",
    "da.attrs['new_attribute'] = 'This attribute has no meaning.'\n",
    "print(da.attrs)"
   ]
  },
  {
   "cell_type": "markdown",
   "metadata": {},
   "source": [
    "Suppose you want to change the unit from K to $^\\circ$C. Then you will need to subtract the whole array by 273.15 and also change the *units* in attribute."
   ]
  },
  {
   "cell_type": "code",
   "execution_count": null,
   "metadata": {
    "scrolled": true
   },
   "outputs": [],
   "source": [
    "# Example for modifying attrbutes\n",
    "da_degC = da - 273.15\n",
    "print(da_degC)"
   ]
  },
  {
   "cell_type": "markdown",
   "metadata": {},
   "source": [
    "For whatever reason, the attributes won't be copied automatically to the new array. Let's do it manually"
   ]
  },
  {
   "cell_type": "code",
   "execution_count": null,
   "metadata": {
    "scrolled": true
   },
   "outputs": [],
   "source": [
    "da_degC.attrs = da.attrs \n",
    "# Now we change the 'units' in attributes\n",
    "da_degC.attrs['units'] = 'degC'\n",
    "print(da_degC)\n",
    "# You can see that the 'valid range' and 'actual range' should also be changed. \n",
    "# I changed the 'units' only for demonstration purpose."
   ]
  },
  {
   "cell_type": "markdown",
   "metadata": {},
   "source": [
    "## Coordinates\n",
    "You may access the coordinates from either the **Dataset** or the **DataArray**, again using dictionary syntax."
   ]
  },
  {
   "cell_type": "code",
   "execution_count": null,
   "metadata": {
    "scrolled": true
   },
   "outputs": [],
   "source": [
    "print(ds.coords['lat'])"
   ]
  },
  {
   "cell_type": "code",
   "execution_count": null,
   "metadata": {
    "scrolled": false
   },
   "outputs": [],
   "source": [
    "print(da.coords['lat'])"
   ]
  },
  {
   "cell_type": "code",
   "execution_count": null,
   "metadata": {
    "scrolled": false
   },
   "outputs": [],
   "source": [
    "# You may check to see if they are identical or not.\n",
    "all(ds.coords['lat'] == da.coords['lat']) "
   ]
  },
  {
   "cell_type": "markdown",
   "metadata": {},
   "source": [
    "And once again, each of the coordinates itself is an **DataArray**, so you may want to [revisit the syntax again](#Extracting-a-variable)."
   ]
  },
  {
   "cell_type": "markdown",
   "metadata": {},
   "source": [
    "## Commonly used functions\n",
    "Commonly used functions/methods include: \n",
    "- `all()`, `any()`, `floor()`, `ceil()` (Python pre-defined functions)\n",
    "- `sqrt()`,`sin()`, `cos()`, `tan()`, `exp()`, `log()`, `log10()`, `isnan()`, `isinf()`, `isfinite()` (NumPy functions)\n",
    "- `max()`, `min()`, `mean()`, `median()`, `sum()`, `std()`, `var()`, `cumsum()`, `where()`, `isin()` (DataArray methods)\n",
    "\n",
    "Here we highlight the usage of a few DataArray methods."
   ]
  },
  {
   "cell_type": "code",
   "execution_count": null,
   "metadata": {},
   "outputs": [],
   "source": [
    "# Check whether the input elements exist in the DataArray\n",
    "print(da.coords['lat'].isin([30,31,32,33,34,35]))"
   ]
  },
  {
   "cell_type": "code",
   "execution_count": null,
   "metadata": {
    "scrolled": true
   },
   "outputs": [],
   "source": [
    "# Grabs the DataArray with latitude > 30N\n",
    "print(da.where(da.coords['lat']>30, drop=True))"
   ]
  },
  {
   "cell_type": "code",
   "execution_count": null,
   "metadata": {
    "scrolled": true
   },
   "outputs": [],
   "source": [
    "# zonal and meridional average\n",
    "print(da.mean(dim=['lat','lon']))"
   ]
  },
  {
   "cell_type": "markdown",
   "metadata": {},
   "source": [
    "## Index slicing\n",
    "As mentioned above, you can apply (most of) NumPy syntax, e.g. index slicing, on **DataArray**."
   ]
  },
  {
   "cell_type": "code",
   "execution_count": null,
   "metadata": {
    "scrolled": true
   },
   "outputs": [],
   "source": [
    "# Let's look at the temperature data again\n",
    "print(da)"
   ]
  },
  {
   "cell_type": "markdown",
   "metadata": {},
   "source": [
    "Suppose you want the values for the lowest model level, in this case 1000hPa."
   ]
  },
  {
   "cell_type": "code",
   "execution_count": null,
   "metadata": {
    "scrolled": true
   },
   "outputs": [],
   "source": [
    "print(da[:,0,:,:])"
   ]
  },
  {
   "cell_type": "markdown",
   "metadata": {},
   "source": [
    "However, this is not very convenient if you don't know the coordinates at the first place (in other words, you need to know the coordinates first). \n",
    "\n",
    "Instead the xarray DataArray object offers a **grid-independent** *method* of index slicing. That means you only need to know what coordinates the array has (but not the order of coordinates), and you can grab a slice of the array that you need. \n",
    "\n",
    "**Syntax**: (**SEL**ect by coordinate name and **I**ndex)\n",
    "```\n",
    "values = DataArrayObject.isel(coordinate_name = coordinate_index)\n",
    "```\n",
    "**Syntax**: (**SEL**ect by coordinate name and value)\n",
    "```\n",
    "values = DataArrayObject.sel(coordinate_name = coordinate_value)\n",
    "```\n",
    "\n",
    "However, you should **NOT** edit the **DataArray** directly using these two methods."
   ]
  },
  {
   "cell_type": "code",
   "execution_count": null,
   "metadata": {
    "scrolled": true
   },
   "outputs": [],
   "source": [
    "# Again, let's choose the lowest model level\n",
    "print(da.isel(level=0))"
   ]
  },
  {
   "cell_type": "code",
   "execution_count": null,
   "metadata": {
    "scrolled": true
   },
   "outputs": [],
   "source": [
    "# Get the data at 30N,60E\n",
    "print(da.sel(lat=30,lon=60))"
   ]
  },
  {
   "cell_type": "markdown",
   "metadata": {},
   "source": [
    "This is useful, but if you try other combinations, which the values may be absent from the coordinate array, then you will get an error. \n",
    "\n",
    "Fortunately, the developers have prepared for this situation. You can use an extra input argument `method='nearest'` to choose the data at the nearest coordinate."
   ]
  },
  {
   "cell_type": "code",
   "execution_count": null,
   "metadata": {
    "scrolled": true
   },
   "outputs": [],
   "source": [
    "print(da.sel(lat=22.3,lon=114,method='nearest'))"
   ]
  },
  {
   "cell_type": "markdown",
   "metadata": {},
   "source": [
    "Does these methods work with multiple indices/values? Let's try them."
   ]
  },
  {
   "cell_type": "code",
   "execution_count": null,
   "metadata": {
    "scrolled": true
   },
   "outputs": [],
   "source": [
    "# Well, this is the Pythonic way to do index slicing, so it should work very fine.\n",
    "print(da[:4,:,:36,:])"
   ]
  },
  {
   "cell_type": "markdown",
   "metadata": {},
   "source": [
    "Next, let's try the `isel` method:"
   ]
  },
  {
   "cell_type": "code",
   "execution_count": null,
   "metadata": {
    "scrolled": true
   },
   "outputs": [],
   "source": [
    "# You may try using similar syntax, e.g. 0:3, as indices\n",
    "da.isel(lat=0:3)\n",
    "# However you will see that it does not work. \n",
    "# It's because 0:3 is not a valid syntax that gives a value for input arguments. (Note that isel is a method/function)"
   ]
  },
  {
   "cell_type": "code",
   "execution_count": null,
   "metadata": {
    "scrolled": true
   },
   "outputs": [],
   "source": [
    "# Instead you can use slice objects\n",
    "# e.g. if you want the first 36 latitude indices and the first 4 time indices\n",
    "print(da.isel(lat=slice(0,36), time=slice(0,4)))"
   ]
  },
  {
   "cell_type": "markdown",
   "metadata": {},
   "source": [
    "Before using the `sel()` or `isel()` methods, it seems clearer to first organize the indices using a dictionary."
   ]
  },
  {
   "cell_type": "code",
   "execution_count": null,
   "metadata": {
    "scrolled": true
   },
   "outputs": [],
   "source": [
    "print(da.sel(lat=slice(30,60.1,-1),lon=slice(0,180.1)))\n",
    "# Note that a stride of -1 is needed here because the latitudes are decreasing."
   ]
  },
  {
   "cell_type": "markdown",
   "metadata": {},
   "source": [
    "### Time coordinate handling\n",
    "You may have noticed that the time coordinate has a data type called *datetime64*. Let's learn how we can manipulate it. We will start off by looking at one of the dependencies of xarray, namely **pandas**. This is also a very popular library in data science."
   ]
  },
  {
   "cell_type": "code",
   "execution_count": null,
   "metadata": {
    "scrolled": true
   },
   "outputs": [],
   "source": [
    "import pandas as pd\n",
    "dates = pd.date_range(start='2019-01-14 06:00',periods=5,freq='6H')\n",
    "print(dates)\n",
    "print(dates+1) # every index shift by 1 period (6 hours)"
   ]
  },
  {
   "cell_type": "code",
   "execution_count": null,
   "metadata": {},
   "outputs": [],
   "source": [
    "dates_new = pd.date_range(start='2019-01-16 06:00',end='20190131',freq='D')\n",
    "print(dates_new)"
   ]
  },
  {
   "cell_type": "markdown",
   "metadata": {},
   "source": [
    "There are several things I should mention here. \n",
    "1. date/time format: strings that looks like a date, e.g. `'2017/01/01 00:00:00'`, `'2017-01-01'`, `'20170101`, etc. Try what you think should work.\n",
    "1. `start` and `end` arguments: the date/time denoting the start and end of the list (DatetimeIndex). Unlike Python lists, both ends are inclusive (although an extra argument can change that).\n",
    "1. `freq` argument: a string denoting the difference between two indices. Commonly used strings: \n",
    "    - AS: year start frequency\n",
    "    - MS: month start frequency\n",
    "    - W: weekly frequency\n",
    "    - D: daily frequency\n",
    "    - H: hourly frequency \n",
    "    \n",
    "   An integer in front would denote the number of multiples of it, e.g. `'6H'` means 6-hourly.\n",
    "1. `periods` argument: an integer number of `freq` to repeat."
   ]
  },
  {
   "cell_type": "markdown",
   "metadata": {},
   "source": [
    "This is not the end of the datetime magic! The **DatetimeIndex** contains attributes and methods which allow you to quickly convert the dates to months,days of year, days of week, etc."
   ]
  },
  {
   "cell_type": "code",
   "execution_count": null,
   "metadata": {},
   "outputs": [],
   "source": [
    "# Attributes\n",
    "print(dates.year)\n",
    "print(dates.month)\n",
    "print(dates.day)\n",
    "print(dates.hour)\n",
    "print(dates.dayofyear)\n",
    "print(dates.dayofweek) # index starts at 0"
   ]
  },
  {
   "cell_type": "code",
   "execution_count": null,
   "metadata": {},
   "outputs": [],
   "source": [
    "# Methods\n",
    "print(dates.month_name())\n",
    "print(dates.day_name())"
   ]
  },
  {
   "cell_type": "markdown",
   "metadata": {},
   "source": [
    "Moreover, in xarray, `time.season` is also available (`'DJF'`/`'MAM'`/`'JJA'`/`'SON'`).\n",
    "\n",
    "So now let's use similar framework to work with **DataArray** time coordinates. Firstly, let's look at the `isel()` and `sel()` methods."
   ]
  },
  {
   "cell_type": "code",
   "execution_count": null,
   "metadata": {
    "scrolled": true
   },
   "outputs": [],
   "source": [
    "# Get the 2nd and 3rd value\n",
    "print(da.isel(time=[1,2]))"
   ]
  },
  {
   "cell_type": "markdown",
   "metadata": {},
   "source": [
    "When it comes to the `sel()` method, you can provide a 'datetime' formatted string (which grabs all indices that fit the string), or a **DatetimeIndex**."
   ]
  },
  {
   "cell_type": "code",
   "execution_count": null,
   "metadata": {
    "scrolled": true
   },
   "outputs": [],
   "source": [
    "# Grab the values on the day 09 June 2017\n",
    "print(da.sel(time='2017-06-09'))"
   ]
  },
  {
   "cell_type": "code",
   "execution_count": null,
   "metadata": {
    "scrolled": true
   },
   "outputs": [],
   "source": [
    "# Grab the values on the day 09 June 2017 using DatetimeIndex\n",
    "date = pd.date_range(start='2017-06-09',periods=4,freq='6h')\n",
    "print(da.sel(time=date))"
   ]
  },
  {
   "cell_type": "markdown",
   "metadata": {},
   "source": [
    "We can also make use of the attributes and methods. Suppose we only want to look at Wednesday (`dayofweek==2`)."
   ]
  },
  {
   "cell_type": "code",
   "execution_count": null,
   "metadata": {},
   "outputs": [],
   "source": [
    "# A boolean mask array using the attribute\n",
    "print(da.coords['time.dayofweek']==2)"
   ]
  },
  {
   "cell_type": "code",
   "execution_count": null,
   "metadata": {
    "scrolled": true
   },
   "outputs": [],
   "source": [
    "# Use the mask array as index \n",
    "print(da[da.coords['time.dayofweek']==2])"
   ]
  },
  {
   "cell_type": "markdown",
   "metadata": {},
   "source": [
    "Our **Dataset** is not really a good example to show the use of attribute `season`, but the following shows how you may use it."
   ]
  },
  {
   "cell_type": "code",
   "execution_count": null,
   "metadata": {},
   "outputs": [],
   "source": [
    "da[ds.coords['time.season']=='JJA']"
   ]
  },
  {
   "cell_type": "markdown",
   "metadata": {},
   "source": [
    "### Groupby object\n",
    "You can group up the array by some specific criterion and do operations easily. For example, you can take the daily mean with the following."
   ]
  },
  {
   "cell_type": "code",
   "execution_count": null,
   "metadata": {},
   "outputs": [],
   "source": [
    "da.groupby('time.dayofyear').mean(dim='time')"
   ]
  },
  {
   "cell_type": "markdown",
   "metadata": {},
   "source": [
    "### Rolling object\n",
    "Example: you can easily calculate moving average using *rolling* objects"
   ]
  },
  {
   "cell_type": "code",
   "execution_count": null,
   "metadata": {},
   "outputs": [],
   "source": [
    "da.groupby('time.dayofyear').mean(dim='time').rolling(dayofyear=3).mean()"
   ]
  },
  {
   "cell_type": "markdown",
   "metadata": {},
   "source": [
    "### Plotting DataArray on a map\n",
    "\n",
    "Now you can combine the **DataArray** handling skills with plotting techniques that you learnt in previous part ([quick revision](./Part5_Plotting.ipynb#2D-Field-plots)) to make plots on a map.\n",
    "\n",
    "Example:"
   ]
  },
  {
   "cell_type": "code",
   "execution_count": null,
   "metadata": {},
   "outputs": [],
   "source": [
    "# import libraries\n",
    "import cartopy.crs as ccrs\n",
    "import matplotlib.pyplot as plt\n",
    "from cartopy.mpl.gridliner import LONGITUDE_FORMATTER, LATITUDE_FORMATTER"
   ]
  },
  {
   "cell_type": "code",
   "execution_count": null,
   "metadata": {
    "scrolled": true
   },
   "outputs": [],
   "source": [
    "# Create the plotting longitudes by appending lon=360 to the end\n",
    "# This will remove empty white column on the map\n",
    "fill = xr.DataArray([360],\n",
    "                    coords={'lon': [360]},\n",
    "                    dims=['lon'],\n",
    "                   )\n",
    "plot_lon = xr.concat([da.coords['lon'],fill],dim='lon')\n",
    "plot_lat = da.coords['lat']\n",
    "print(plot_lon)"
   ]
  },
  {
   "cell_type": "code",
   "execution_count": null,
   "metadata": {},
   "outputs": [],
   "source": [
    "# Create a new figure object\n",
    "fig = plt.figure(figsize=[8, 4])\n",
    "# Create a new axes object with PlateCarree projection\n",
    "ax = plt.axes(projection=ccrs.PlateCarree())\n",
    "# make the map global rather than have it zoom in to\n",
    "# the extents of any plotted data\n",
    "ax.set_global()\n",
    "# Draw the coastlines\n",
    "ax.coastlines() # There might be download warnings the first time you use this.\n",
    "# Draw the dashed gridlines and axis labels\n",
    "gl = ax.gridlines(crs=ccrs.PlateCarree(),\n",
    "                  draw_labels=True,\n",
    "                  linestyle='--',\n",
    "                 )\n",
    "# Disable labels on top and right axis\n",
    "gl.xlabels_top = False\n",
    "gl.ylabels_right = False\n",
    "# Format the labels instead of showing numbers only\n",
    "gl.xformatter = LONGITUDE_FORMATTER\n",
    "gl.yformatter = LATITUDE_FORMATTER\n",
    "\n",
    "# Next you can do the plotting\n",
    "plot = ax.pcolormesh(plot_lon,plot_lat,da.isel(time=0,level=0),\n",
    "                     cmap=\"RdBu_r\",\n",
    "                    )\n",
    "fig.colorbar(plot, \n",
    "             ax=ax, \n",
    "#             orientation='horizontal',\n",
    "             label='$T(^\\circ C)$'\n",
    "            )\n",
    "ax.set_title('Air temperature at 1000hPa')\n",
    "# save the figure\n",
    "# plt.savefig('Airtemp_1000.png',dpi=160)"
   ]
  },
  {
   "cell_type": "markdown",
   "metadata": {},
   "source": [
    "More examples on the [Research Computing in Earth Sciences series](https://rabernat.github.io/research_computing/intro-to-basemap.html) \n",
    "\n",
    "Remark: They are using Basemap, which is the ancestor of cartopy. I think you can just change the module name and things should work."
   ]
  }
 ],
 "metadata": {
  "kernelspec": {
   "display_name": "Python 3",
   "language": "python",
   "name": "python3"
  },
  "language_info": {
   "codemirror_mode": {
    "name": "ipython",
    "version": 3
   },
   "file_extension": ".py",
   "mimetype": "text/x-python",
   "name": "python",
   "nbconvert_exporter": "python",
   "pygments_lexer": "ipython3",
   "version": "3.7.2"
  },
  "nbsphinx": {
   "allow_errors": true
  }
 },
 "nbformat": 4,
 "nbformat_minor": 2
}
